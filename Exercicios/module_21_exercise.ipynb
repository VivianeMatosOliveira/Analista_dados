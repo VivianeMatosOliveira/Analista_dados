{
  "nbformat": 4,
  "nbformat_minor": 0,
  "metadata": {
    "colab": {
      "provenance": [],
      "include_colab_link": true
    },
    "kernelspec": {
      "name": "python3",
      "display_name": "Python 3"
    }
  },
  "cells": [
    {
      "cell_type": "markdown",
      "metadata": {
        "id": "view-in-github",
        "colab_type": "text"
      },
      "source": [
        "<a href=\"https://colab.research.google.com/github/VivianeMatosOliveira/Curso_Analista_Dados/blob/main/Exercicios/module_21_exercise.ipynb\" target=\"_parent\"><img src=\"https://colab.research.google.com/assets/colab-badge.svg\" alt=\"Open In Colab\"/></a>"
      ]
    },
    {
      "cell_type": "markdown",
      "metadata": {
        "id": "KJqp9AANOCtf"
      },
      "source": [
        "<img src=\"https://raw.githubusercontent.com/andre-marcos-perez/ebac-course-utils/main/media/logo/newebac_logo_black_half.png\" alt=\"ebac-logo\">\n",
        "\n",
        "---\n",
        "\n",
        "# **Módulo** | Análise de Dados: Fundamentos de Matemática\n",
        "Caderno de **Exercícios**<br> \n",
        "Professor [André Perez](https://www.linkedin.com/in/andremarcosperez/)\n",
        "\n",
        "---"
      ]
    },
    {
      "cell_type": "markdown",
      "metadata": {
        "id": "d9jDtUbDOE1-"
      },
      "source": [
        "# **Tópicos**\n",
        "\n",
        "<ol type=\"1\">\n",
        "  <li>Vetorização;</li>\n",
        "  <li>Arrays Numpy;</li>\n",
        "  <li>Operações.</li>\n",
        "</ol>"
      ]
    },
    {
      "cell_type": "markdown",
      "metadata": {
        "id": "SmoHgt-lwkpD"
      },
      "source": [
        "---"
      ]
    },
    {
      "cell_type": "markdown",
      "metadata": {
        "id": "GABI6OW8OfQ2"
      },
      "source": [
        "# **Exercícios**"
      ]
    },
    {
      "cell_type": "markdown",
      "metadata": {
        "id": "kzRDceCvkFj2"
      },
      "source": [
        "## 1\\. Tráfego de São Paulo"
      ]
    },
    {
      "cell_type": "markdown",
      "metadata": {
        "id": "WCQi-s0Hpd5V"
      },
      "source": [
        "Neste exercício, vamos analisar dados de mobilidade urbana da cidade de São Paulo. A base de dados está neste [link](https://raw.githubusercontent.com/andre-marcos-perez/ebac-course-utils/develop/dataset/traffic.csv) e é uma copia do dado original, presente neste [link](https://archive.ics.uci.edu/ml/datasets/Behavior+of+the+urban+traffic+of+the+city+of+Sao+Paulo+in+Brazil). A base de dados contem a quantidade de acidentes ocorridos na cidade entre 14/12/09 e 18/12/09, das 07:00h ás 20:00h, agregados em intervalos de 30 minutos."
      ]
    },
    {
      "cell_type": "code",
      "metadata": {
        "id": "lblH8kIXzPZZ"
      },
      "source": [
        "!wget -q \"https://raw.githubusercontent.com/andre-marcos-perez/ebac-course-utils/develop/dataset/traffic.csv\" -O traffic.csv"
      ],
      "execution_count": 2,
      "outputs": []
    },
    {
      "cell_type": "code",
      "metadata": {
        "id": "cuuqGTo_ffKI"
      },
      "source": [
        "import pandas as pd"
      ],
      "execution_count": 3,
      "outputs": []
    },
    {
      "cell_type": "code",
      "metadata": {
        "id": "VR3UdrrQgJ4K"
      },
      "source": [
        "df = pd.read_csv('traffic.csv', sep=';')"
      ],
      "execution_count": 4,
      "outputs": []
    },
    {
      "cell_type": "code",
      "metadata": {
        "id": "znk9Z9TLgTGP",
        "colab": {
          "base_uri": "https://localhost:8080/",
          "height": 270
        },
        "outputId": "9d1eae8c-ef33-4331-d9f9-a3660142f547"
      },
      "source": [
        "df.head()"
      ],
      "execution_count": 5,
      "outputs": [
        {
          "output_type": "execute_result",
          "data": {
            "text/plain": [
              "   hour  bus_stoped  broken_truck  vehicle_excess  accident_victim  \\\n",
              "0     1           0             0               0                0   \n",
              "1     2           0             0               0                0   \n",
              "2     3           0             0               0                0   \n",
              "3     4           0             0               0                0   \n",
              "4     5           0             0               0                0   \n",
              "\n",
              "   running_over  fire_vehicles  occurrence_freight  \\\n",
              "0             0              0                   0   \n",
              "1             0              0                   0   \n",
              "2             0              0                   0   \n",
              "3             0              0                   0   \n",
              "4             0              0                   0   \n",
              "\n",
              "   incident__dangerous_freight  lack_electricity  fire  flooding  \\\n",
              "0                            0                 0     0         0   \n",
              "1                            0                 0     0         0   \n",
              "2                            0                 0     0         0   \n",
              "3                            0                 0     0         0   \n",
              "4                            0                 0     0         0   \n",
              "\n",
              "   manifestations  defect_trolleybuses  tree_road  semaphore_off  \\\n",
              "0               0                    0          0              0   \n",
              "1               0                    0          0              0   \n",
              "2               0                    0          0              0   \n",
              "3               0                    0          0              0   \n",
              "4               0                    0          0              0   \n",
              "\n",
              "   intermittent_emaphore slowness_traffic_%  \n",
              "0                      0                4,1  \n",
              "1                      0                6,6  \n",
              "2                      0                8,7  \n",
              "3                      0                9,2  \n",
              "4                      0               11,1  "
            ],
            "text/html": [
              "\n",
              "  <div id=\"df-34f994c8-bbac-42d1-bce9-1203f9909257\">\n",
              "    <div class=\"colab-df-container\">\n",
              "      <div>\n",
              "<style scoped>\n",
              "    .dataframe tbody tr th:only-of-type {\n",
              "        vertical-align: middle;\n",
              "    }\n",
              "\n",
              "    .dataframe tbody tr th {\n",
              "        vertical-align: top;\n",
              "    }\n",
              "\n",
              "    .dataframe thead th {\n",
              "        text-align: right;\n",
              "    }\n",
              "</style>\n",
              "<table border=\"1\" class=\"dataframe\">\n",
              "  <thead>\n",
              "    <tr style=\"text-align: right;\">\n",
              "      <th></th>\n",
              "      <th>hour</th>\n",
              "      <th>bus_stoped</th>\n",
              "      <th>broken_truck</th>\n",
              "      <th>vehicle_excess</th>\n",
              "      <th>accident_victim</th>\n",
              "      <th>running_over</th>\n",
              "      <th>fire_vehicles</th>\n",
              "      <th>occurrence_freight</th>\n",
              "      <th>incident__dangerous_freight</th>\n",
              "      <th>lack_electricity</th>\n",
              "      <th>fire</th>\n",
              "      <th>flooding</th>\n",
              "      <th>manifestations</th>\n",
              "      <th>defect_trolleybuses</th>\n",
              "      <th>tree_road</th>\n",
              "      <th>semaphore_off</th>\n",
              "      <th>intermittent_emaphore</th>\n",
              "      <th>slowness_traffic_%</th>\n",
              "    </tr>\n",
              "  </thead>\n",
              "  <tbody>\n",
              "    <tr>\n",
              "      <th>0</th>\n",
              "      <td>1</td>\n",
              "      <td>0</td>\n",
              "      <td>0</td>\n",
              "      <td>0</td>\n",
              "      <td>0</td>\n",
              "      <td>0</td>\n",
              "      <td>0</td>\n",
              "      <td>0</td>\n",
              "      <td>0</td>\n",
              "      <td>0</td>\n",
              "      <td>0</td>\n",
              "      <td>0</td>\n",
              "      <td>0</td>\n",
              "      <td>0</td>\n",
              "      <td>0</td>\n",
              "      <td>0</td>\n",
              "      <td>0</td>\n",
              "      <td>4,1</td>\n",
              "    </tr>\n",
              "    <tr>\n",
              "      <th>1</th>\n",
              "      <td>2</td>\n",
              "      <td>0</td>\n",
              "      <td>0</td>\n",
              "      <td>0</td>\n",
              "      <td>0</td>\n",
              "      <td>0</td>\n",
              "      <td>0</td>\n",
              "      <td>0</td>\n",
              "      <td>0</td>\n",
              "      <td>0</td>\n",
              "      <td>0</td>\n",
              "      <td>0</td>\n",
              "      <td>0</td>\n",
              "      <td>0</td>\n",
              "      <td>0</td>\n",
              "      <td>0</td>\n",
              "      <td>0</td>\n",
              "      <td>6,6</td>\n",
              "    </tr>\n",
              "    <tr>\n",
              "      <th>2</th>\n",
              "      <td>3</td>\n",
              "      <td>0</td>\n",
              "      <td>0</td>\n",
              "      <td>0</td>\n",
              "      <td>0</td>\n",
              "      <td>0</td>\n",
              "      <td>0</td>\n",
              "      <td>0</td>\n",
              "      <td>0</td>\n",
              "      <td>0</td>\n",
              "      <td>0</td>\n",
              "      <td>0</td>\n",
              "      <td>0</td>\n",
              "      <td>0</td>\n",
              "      <td>0</td>\n",
              "      <td>0</td>\n",
              "      <td>0</td>\n",
              "      <td>8,7</td>\n",
              "    </tr>\n",
              "    <tr>\n",
              "      <th>3</th>\n",
              "      <td>4</td>\n",
              "      <td>0</td>\n",
              "      <td>0</td>\n",
              "      <td>0</td>\n",
              "      <td>0</td>\n",
              "      <td>0</td>\n",
              "      <td>0</td>\n",
              "      <td>0</td>\n",
              "      <td>0</td>\n",
              "      <td>0</td>\n",
              "      <td>0</td>\n",
              "      <td>0</td>\n",
              "      <td>0</td>\n",
              "      <td>0</td>\n",
              "      <td>0</td>\n",
              "      <td>0</td>\n",
              "      <td>0</td>\n",
              "      <td>9,2</td>\n",
              "    </tr>\n",
              "    <tr>\n",
              "      <th>4</th>\n",
              "      <td>5</td>\n",
              "      <td>0</td>\n",
              "      <td>0</td>\n",
              "      <td>0</td>\n",
              "      <td>0</td>\n",
              "      <td>0</td>\n",
              "      <td>0</td>\n",
              "      <td>0</td>\n",
              "      <td>0</td>\n",
              "      <td>0</td>\n",
              "      <td>0</td>\n",
              "      <td>0</td>\n",
              "      <td>0</td>\n",
              "      <td>0</td>\n",
              "      <td>0</td>\n",
              "      <td>0</td>\n",
              "      <td>0</td>\n",
              "      <td>11,1</td>\n",
              "    </tr>\n",
              "  </tbody>\n",
              "</table>\n",
              "</div>\n",
              "      <button class=\"colab-df-convert\" onclick=\"convertToInteractive('df-34f994c8-bbac-42d1-bce9-1203f9909257')\"\n",
              "              title=\"Convert this dataframe to an interactive table.\"\n",
              "              style=\"display:none;\">\n",
              "        \n",
              "  <svg xmlns=\"http://www.w3.org/2000/svg\" height=\"24px\"viewBox=\"0 0 24 24\"\n",
              "       width=\"24px\">\n",
              "    <path d=\"M0 0h24v24H0V0z\" fill=\"none\"/>\n",
              "    <path d=\"M18.56 5.44l.94 2.06.94-2.06 2.06-.94-2.06-.94-.94-2.06-.94 2.06-2.06.94zm-11 1L8.5 8.5l.94-2.06 2.06-.94-2.06-.94L8.5 2.5l-.94 2.06-2.06.94zm10 10l.94 2.06.94-2.06 2.06-.94-2.06-.94-.94-2.06-.94 2.06-2.06.94z\"/><path d=\"M17.41 7.96l-1.37-1.37c-.4-.4-.92-.59-1.43-.59-.52 0-1.04.2-1.43.59L10.3 9.45l-7.72 7.72c-.78.78-.78 2.05 0 2.83L4 21.41c.39.39.9.59 1.41.59.51 0 1.02-.2 1.41-.59l7.78-7.78 2.81-2.81c.8-.78.8-2.07 0-2.86zM5.41 20L4 18.59l7.72-7.72 1.47 1.35L5.41 20z\"/>\n",
              "  </svg>\n",
              "      </button>\n",
              "      \n",
              "  <style>\n",
              "    .colab-df-container {\n",
              "      display:flex;\n",
              "      flex-wrap:wrap;\n",
              "      gap: 12px;\n",
              "    }\n",
              "\n",
              "    .colab-df-convert {\n",
              "      background-color: #E8F0FE;\n",
              "      border: none;\n",
              "      border-radius: 50%;\n",
              "      cursor: pointer;\n",
              "      display: none;\n",
              "      fill: #1967D2;\n",
              "      height: 32px;\n",
              "      padding: 0 0 0 0;\n",
              "      width: 32px;\n",
              "    }\n",
              "\n",
              "    .colab-df-convert:hover {\n",
              "      background-color: #E2EBFA;\n",
              "      box-shadow: 0px 1px 2px rgba(60, 64, 67, 0.3), 0px 1px 3px 1px rgba(60, 64, 67, 0.15);\n",
              "      fill: #174EA6;\n",
              "    }\n",
              "\n",
              "    [theme=dark] .colab-df-convert {\n",
              "      background-color: #3B4455;\n",
              "      fill: #D2E3FC;\n",
              "    }\n",
              "\n",
              "    [theme=dark] .colab-df-convert:hover {\n",
              "      background-color: #434B5C;\n",
              "      box-shadow: 0px 1px 3px 1px rgba(0, 0, 0, 0.15);\n",
              "      filter: drop-shadow(0px 1px 2px rgba(0, 0, 0, 0.3));\n",
              "      fill: #FFFFFF;\n",
              "    }\n",
              "  </style>\n",
              "\n",
              "      <script>\n",
              "        const buttonEl =\n",
              "          document.querySelector('#df-34f994c8-bbac-42d1-bce9-1203f9909257 button.colab-df-convert');\n",
              "        buttonEl.style.display =\n",
              "          google.colab.kernel.accessAllowed ? 'block' : 'none';\n",
              "\n",
              "        async function convertToInteractive(key) {\n",
              "          const element = document.querySelector('#df-34f994c8-bbac-42d1-bce9-1203f9909257');\n",
              "          const dataTable =\n",
              "            await google.colab.kernel.invokeFunction('convertToInteractive',\n",
              "                                                     [key], {});\n",
              "          if (!dataTable) return;\n",
              "\n",
              "          const docLinkHtml = 'Like what you see? Visit the ' +\n",
              "            '<a target=\"_blank\" href=https://colab.research.google.com/notebooks/data_table.ipynb>data table notebook</a>'\n",
              "            + ' to learn more about interactive tables.';\n",
              "          element.innerHTML = '';\n",
              "          dataTable['output_type'] = 'display_data';\n",
              "          await google.colab.output.renderOutput(dataTable, element);\n",
              "          const docLink = document.createElement('div');\n",
              "          docLink.innerHTML = docLinkHtml;\n",
              "          element.appendChild(docLink);\n",
              "        }\n",
              "      </script>\n",
              "    </div>\n",
              "  </div>\n",
              "  "
            ]
          },
          "metadata": {},
          "execution_count": 5
        }
      ]
    },
    {
      "cell_type": "code",
      "source": [
        "df.dtypes"
      ],
      "metadata": {
        "colab": {
          "base_uri": "https://localhost:8080/"
        },
        "id": "QdNnsI4lhnq5",
        "outputId": "ed5715ac-85bd-4df5-adaa-510873872556"
      },
      "execution_count": null,
      "outputs": [
        {
          "output_type": "execute_result",
          "data": {
            "text/plain": [
              "hour                            int64\n",
              "bus_stoped                      int64\n",
              "broken_truck                    int64\n",
              "vehicle_excess                  int64\n",
              "accident_victim                 int64\n",
              "running_over                    int64\n",
              "fire_vehicles                   int64\n",
              "occurrence_freight              int64\n",
              "incident__dangerous_freight     int64\n",
              "lack_electricity                int64\n",
              "fire                            int64\n",
              "flooding                        int64\n",
              "manifestations                  int64\n",
              "defect_trolleybuses             int64\n",
              "tree_road                       int64\n",
              "semaphore_off                   int64\n",
              "intermittent_emaphore           int64\n",
              "slowness_traffic_%             object\n",
              "dtype: object"
            ]
          },
          "metadata": {},
          "execution_count": 91
        }
      ]
    },
    {
      "cell_type": "code",
      "source": [
        "df.shape"
      ],
      "metadata": {
        "colab": {
          "base_uri": "https://localhost:8080/"
        },
        "id": "lGUNqUKWux_Y",
        "outputId": "448ca50a-e048-4405-82c2-de011e2c6a8d"
      },
      "execution_count": null,
      "outputs": [
        {
          "output_type": "execute_result",
          "data": {
            "text/plain": [
              "(135, 18)"
            ]
          },
          "metadata": {},
          "execution_count": 92
        }
      ]
    },
    {
      "cell_type": "markdown",
      "metadata": {
        "id": "eMG4JHaugQbV"
      },
      "source": [
        "- **Exemplo**: "
      ]
    },
    {
      "cell_type": "markdown",
      "metadata": {
        "id": "WGcei39Pwc9u"
      },
      "source": [
        "O código abaixo extrai a 13ª linha do arquivo que representa a 14ª meia hora do dia 14/12/09, contadas a partir das 07:00h, ou seja, todos os incidentes ocorridos na cidade no dia em questão entre as 13:30h e 14:00h. Vemos, por exemplo, que dois ônibus e dois caminhões ficaram paradados nas ruas da cidade, atrapalhando o tráfego."
      ]
    },
    {
      "cell_type": "code",
      "metadata": {
        "id": "rVUKA_RkiFeg",
        "colab": {
          "base_uri": "https://localhost:8080/",
          "height": 145
        },
        "outputId": "c0aa6743-433a-4f0c-dd3b-330ef2e5585c"
      },
      "source": [
        "df.iloc[[13]]"
      ],
      "execution_count": null,
      "outputs": [
        {
          "output_type": "execute_result",
          "data": {
            "text/plain": [
              "    hour  bus_stoped  broken_truck  vehicle_excess  accident_victim  \\\n",
              "13    14           2             2               0                1   \n",
              "\n",
              "    running_over  fire_vehicles  occurrence_freight  \\\n",
              "13             0              0                   0   \n",
              "\n",
              "    incident__dangerous_freight  lack_electricity  fire  flooding  \\\n",
              "13                            0                 0     0         0   \n",
              "\n",
              "    manifestations  defect_trolleybuses  tree_road  semaphore_off  \\\n",
              "13               0                    0          0              0   \n",
              "\n",
              "    intermittent_emaphore slowness_traffic_%  \n",
              "13                      0                4,9  "
            ],
            "text/html": [
              "\n",
              "  <div id=\"df-15da09b7-c997-4ac7-93cb-5acba918d05d\">\n",
              "    <div class=\"colab-df-container\">\n",
              "      <div>\n",
              "<style scoped>\n",
              "    .dataframe tbody tr th:only-of-type {\n",
              "        vertical-align: middle;\n",
              "    }\n",
              "\n",
              "    .dataframe tbody tr th {\n",
              "        vertical-align: top;\n",
              "    }\n",
              "\n",
              "    .dataframe thead th {\n",
              "        text-align: right;\n",
              "    }\n",
              "</style>\n",
              "<table border=\"1\" class=\"dataframe\">\n",
              "  <thead>\n",
              "    <tr style=\"text-align: right;\">\n",
              "      <th></th>\n",
              "      <th>hour</th>\n",
              "      <th>bus_stoped</th>\n",
              "      <th>broken_truck</th>\n",
              "      <th>vehicle_excess</th>\n",
              "      <th>accident_victim</th>\n",
              "      <th>running_over</th>\n",
              "      <th>fire_vehicles</th>\n",
              "      <th>occurrence_freight</th>\n",
              "      <th>incident__dangerous_freight</th>\n",
              "      <th>lack_electricity</th>\n",
              "      <th>fire</th>\n",
              "      <th>flooding</th>\n",
              "      <th>manifestations</th>\n",
              "      <th>defect_trolleybuses</th>\n",
              "      <th>tree_road</th>\n",
              "      <th>semaphore_off</th>\n",
              "      <th>intermittent_emaphore</th>\n",
              "      <th>slowness_traffic_%</th>\n",
              "    </tr>\n",
              "  </thead>\n",
              "  <tbody>\n",
              "    <tr>\n",
              "      <th>13</th>\n",
              "      <td>14</td>\n",
              "      <td>2</td>\n",
              "      <td>2</td>\n",
              "      <td>0</td>\n",
              "      <td>1</td>\n",
              "      <td>0</td>\n",
              "      <td>0</td>\n",
              "      <td>0</td>\n",
              "      <td>0</td>\n",
              "      <td>0</td>\n",
              "      <td>0</td>\n",
              "      <td>0</td>\n",
              "      <td>0</td>\n",
              "      <td>0</td>\n",
              "      <td>0</td>\n",
              "      <td>0</td>\n",
              "      <td>0</td>\n",
              "      <td>4,9</td>\n",
              "    </tr>\n",
              "  </tbody>\n",
              "</table>\n",
              "</div>\n",
              "      <button class=\"colab-df-convert\" onclick=\"convertToInteractive('df-15da09b7-c997-4ac7-93cb-5acba918d05d')\"\n",
              "              title=\"Convert this dataframe to an interactive table.\"\n",
              "              style=\"display:none;\">\n",
              "        \n",
              "  <svg xmlns=\"http://www.w3.org/2000/svg\" height=\"24px\"viewBox=\"0 0 24 24\"\n",
              "       width=\"24px\">\n",
              "    <path d=\"M0 0h24v24H0V0z\" fill=\"none\"/>\n",
              "    <path d=\"M18.56 5.44l.94 2.06.94-2.06 2.06-.94-2.06-.94-.94-2.06-.94 2.06-2.06.94zm-11 1L8.5 8.5l.94-2.06 2.06-.94-2.06-.94L8.5 2.5l-.94 2.06-2.06.94zm10 10l.94 2.06.94-2.06 2.06-.94-2.06-.94-.94-2.06-.94 2.06-2.06.94z\"/><path d=\"M17.41 7.96l-1.37-1.37c-.4-.4-.92-.59-1.43-.59-.52 0-1.04.2-1.43.59L10.3 9.45l-7.72 7.72c-.78.78-.78 2.05 0 2.83L4 21.41c.39.39.9.59 1.41.59.51 0 1.02-.2 1.41-.59l7.78-7.78 2.81-2.81c.8-.78.8-2.07 0-2.86zM5.41 20L4 18.59l7.72-7.72 1.47 1.35L5.41 20z\"/>\n",
              "  </svg>\n",
              "      </button>\n",
              "      \n",
              "  <style>\n",
              "    .colab-df-container {\n",
              "      display:flex;\n",
              "      flex-wrap:wrap;\n",
              "      gap: 12px;\n",
              "    }\n",
              "\n",
              "    .colab-df-convert {\n",
              "      background-color: #E8F0FE;\n",
              "      border: none;\n",
              "      border-radius: 50%;\n",
              "      cursor: pointer;\n",
              "      display: none;\n",
              "      fill: #1967D2;\n",
              "      height: 32px;\n",
              "      padding: 0 0 0 0;\n",
              "      width: 32px;\n",
              "    }\n",
              "\n",
              "    .colab-df-convert:hover {\n",
              "      background-color: #E2EBFA;\n",
              "      box-shadow: 0px 1px 2px rgba(60, 64, 67, 0.3), 0px 1px 3px 1px rgba(60, 64, 67, 0.15);\n",
              "      fill: #174EA6;\n",
              "    }\n",
              "\n",
              "    [theme=dark] .colab-df-convert {\n",
              "      background-color: #3B4455;\n",
              "      fill: #D2E3FC;\n",
              "    }\n",
              "\n",
              "    [theme=dark] .colab-df-convert:hover {\n",
              "      background-color: #434B5C;\n",
              "      box-shadow: 0px 1px 3px 1px rgba(0, 0, 0, 0.15);\n",
              "      filter: drop-shadow(0px 1px 2px rgba(0, 0, 0, 0.3));\n",
              "      fill: #FFFFFF;\n",
              "    }\n",
              "  </style>\n",
              "\n",
              "      <script>\n",
              "        const buttonEl =\n",
              "          document.querySelector('#df-15da09b7-c997-4ac7-93cb-5acba918d05d button.colab-df-convert');\n",
              "        buttonEl.style.display =\n",
              "          google.colab.kernel.accessAllowed ? 'block' : 'none';\n",
              "\n",
              "        async function convertToInteractive(key) {\n",
              "          const element = document.querySelector('#df-15da09b7-c997-4ac7-93cb-5acba918d05d');\n",
              "          const dataTable =\n",
              "            await google.colab.kernel.invokeFunction('convertToInteractive',\n",
              "                                                     [key], {});\n",
              "          if (!dataTable) return;\n",
              "\n",
              "          const docLinkHtml = 'Like what you see? Visit the ' +\n",
              "            '<a target=\"_blank\" href=https://colab.research.google.com/notebooks/data_table.ipynb>data table notebook</a>'\n",
              "            + ' to learn more about interactive tables.';\n",
              "          element.innerHTML = '';\n",
              "          dataTable['output_type'] = 'display_data';\n",
              "          await google.colab.output.renderOutput(dataTable, element);\n",
              "          const docLink = document.createElement('div');\n",
              "          docLink.innerHTML = docLinkHtml;\n",
              "          element.appendChild(docLink);\n",
              "        }\n",
              "      </script>\n",
              "    </div>\n",
              "  </div>\n",
              "  "
            ]
          },
          "metadata": {},
          "execution_count": 93
        }
      ]
    },
    {
      "cell_type": "markdown",
      "metadata": {
        "id": "HrTLgE0tki6P"
      },
      "source": [
        "### **1.1. Nativo** "
      ]
    },
    {
      "cell_type": "markdown",
      "metadata": {
        "id": "7tIjNOs8q6aZ"
      },
      "source": [
        "Neste primeira atividade, você deve ler o código abaixo implementado em Python nativo e responder a seguinte pergunta:"
      ]
    },
    {
      "cell_type": "markdown",
      "metadata": {
        "id": "LH-VxJ__syZd"
      },
      "source": [
        "> O que o código abaixo computa?"
      ]
    },
    {
      "cell_type": "markdown",
      "metadata": {
        "id": "KEUTG1OIs0VN"
      },
      "source": [
        "**Resposta**: substitua esse texto pela sua resposta"
      ]
    },
    {
      "cell_type": "code",
      "metadata": {
        "id": "IwTTh4VKkdKN",
        "colab": {
          "base_uri": "https://localhost:8080/"
        },
        "outputId": "f8674b04-7c03-4fc9-d6bb-e3b91b31443c"
      },
      "source": [
        "# -- read - 1º bloco de código lê o arquivo e salva na variável data\n",
        "\n",
        "data = None\n",
        "\n",
        "with open(file='traffic.csv', mode='r', encoding='utf8') as fp:\n",
        "  \n",
        "  fp.readline()\n",
        "  data = fp.read()\n",
        "\n",
        "# -- analytics\n",
        "# define o primeiro dia do período que está sendo analisado na variável day\n",
        "# define a variável contadora para o número de incidentes 'incidents', atribuindo o valor zero e define um dicionário vazio para alocar os dados de acidentes por dia\n",
        "# -- \n",
        "day = 14\n",
        "incidents = 0\n",
        "incident_by_day = dict()\n",
        "\n",
        "for timebox in data.split(sep='\\n'):\n",
        "\n",
        "  timebox_data = timebox.split(sep=';')\n",
        "\n",
        "  # -- define a variável timebox para quebrar as linhas tendo como separador o (\\n) e a timebox_data para quebrar a variável com o separador (;)\n",
        "  # -- inicio da computação escalar\n",
        "  # -- itera na variável timebox_data para somar os incidentes na posição 1 até o tamanho de 'timebox_data' \n",
        "\n",
        "  for incident in timebox_data[1: len(timebox_data)-1]:\n",
        "    incidents = incidents + int(incident)\n",
        "\n",
        "  # -- \n",
        "  # -- fim da computação escalar\n",
        "  # -- bloco de código para tratamento de erro com try / except\n",
        "\n",
        "  try: \n",
        "\n",
        "    half_hour = int(timebox_data[0])\n",
        "\n",
        "    if half_hour == 27:\n",
        "      incident_by_day[day] = incidents\n",
        "      day = day + 1\n",
        "      incidents = 0\n",
        "\n",
        "  except ValueError:\n",
        "    continue\n",
        "\n",
        "# -- results - dia e valor total de incidentes por dia \n",
        "\n",
        "for day in incident_by_day:\n",
        "  \n",
        "  print(f'{day}: {incident_by_day[day]}')"
      ],
      "execution_count": 6,
      "outputs": [
        {
          "output_type": "stream",
          "name": "stdout",
          "text": [
            "14: 16\n",
            "15: 63\n",
            "16: 94\n",
            "17: 82\n",
            "18: 85\n"
          ]
        }
      ]
    },
    {
      "cell_type": "code",
      "source": [
        "type(incident_by_day)"
      ],
      "metadata": {
        "colab": {
          "base_uri": "https://localhost:8080/"
        },
        "id": "pXz5_U-XKH5K",
        "outputId": "febb0292-f274-47b5-e275-fd0a2a9710c5"
      },
      "execution_count": null,
      "outputs": [
        {
          "output_type": "execute_result",
          "data": {
            "text/plain": [
              "dict"
            ]
          },
          "metadata": {},
          "execution_count": 9
        }
      ]
    },
    {
      "cell_type": "markdown",
      "metadata": {
        "id": "TTh7w8rgkznY"
      },
      "source": [
        "### **1.2. NumPy** "
      ]
    },
    {
      "cell_type": "markdown",
      "metadata": {
        "id": "clBerimQs2PY"
      },
      "source": [
        "Substitua o trecho do código do algoritmo que utiliza da **computação escalar** por um que utiliza da **computação vetorial**. Use o pacote NumPy."
      ]
    },
    {
      "cell_type": "code",
      "source": [
        "data"
      ],
      "metadata": {
        "colab": {
          "base_uri": "https://localhost:8080/",
          "height": 123
        },
        "id": "YWegeLhtwhMS",
        "outputId": "feb34522-b5c7-491f-d95b-bc57dfacbab3"
      },
      "execution_count": null,
      "outputs": [
        {
          "output_type": "execute_result",
          "data": {
            "text/plain": [
              "'1;0;0;0;0;0;0;0;0;0;0;0;0;0;0;0;0;4,1\\n2;0;0;0;0;0;0;0;0;0;0;0;0;0;0;0;0;6,6\\n3;0;0;0;0;0;0;0;0;0;0;0;0;0;0;0;0;8,7\\n4;0;0;0;0;0;0;0;0;0;0;0;0;0;0;0;0;9,2\\n5;0;0;0;0;0;0;0;0;0;0;0;0;0;0;0;0;11,1\\n6;0;0;0;0;0;0;0;0;0;0;0;0;0;0;0;0;10,9\\n7;0;0;0;0;0;0;0;0;0;0;0;0;0;0;0;0;8,3\\n8;0;0;0;0;0;0;0;0;0;0;0;0;0;0;0;0;8,2\\n9;0;0;0;0;0;0;0;0;0;0;0;0;0;0;0;0;7,6\\n10;0;0;0;0;0;0;0;0;0;0;0;0;0;0;0;0;6,4\\n11;0;0;0;0;0;0;0;0;0;0;0;0;0;0;0;0;5,2\\n12;0;1;0;0;0;0;0;0;0;0;0;0;0;0;0;0;4,7\\n13;0;0;0;0;0;0;0;0;0;0;0;0;0;0;0;0;4,8\\n14;2;2;0;1;0;0;0;0;0;0;0;0;0;0;0;0;4,9\\n15;0;2;0;0;0;0;0;0;0;0;0;0;0;0;0;0;5,1\\n16;0;0;0;0;0;0;0;0;0;0;0;0;0;0;0;0;5,3\\n17;0;0;0;0;0;0;0;0;0;0;0;0;0;0;0;0;6,9\\n18;0;0;0;0;0;0;0;0;0;0;0;0;0;0;0;0;5,1\\n19;0;0;0;0;0;0;0;0;0;0;0;0;0;0;0;0;6,7\\n20;0;0;0;0;0;0;0;0;0;0;0;0;0;0;0;0;8,1\\n21;0;1;0;0;0;0;0;0;0;0;0;0;0;0;0;0;9,5\\n22;0;0;0;0;0;0;0;0;0;0;0;0;0;0;0;0;9,4\\n23;0;0;0;0;0;0;0;0;0;0;0;0;0;0;0;0;9,9\\n24;0;0;0;0;0;0;0;0;0;0;0;0;0;0;0;0;11,2\\n25;0;1;0;0;0;0;0;0;0;0;0;0;0;1;0;0;11,8\\n26;0;0;0;2;0;0;0;0;0;0;0;0;0;0;0;0;11,4\\n27;1;1;0;0;1;0;0;0;0;0;0;0;0;0;0;0;7,4\\n1;1;0;0;0;0;0;0;0;0;0;0;0;1;1;0;0;4,9\\n2;0;0;0;0;0;0;0;0;0;0;0;0;0;0;0;0;6,3\\n3;0;0;0;0;0;0;0;0;0;0;0;0;0;0;0;0;8\\n4;0;0;0;0;0;0;0;0;0;0;0;0;0;0;0;0;9,5\\n5;0;1;0;1;0;0;0;0;0;0;0;0;0;0;0;0;10,3\\n6;4;0;0;0;0;0;0;0;0;0;0;0;0;0;0;0;9,5\\n7;0;1;0;0;0;0;0;0;0;0;0;0;0;0;1;0;7,9\\n8;1;0;0;0;0;0;0;0;0;0;0;0;0;0;0;0;7,7\\n9;0;0;0;2;0;0;0;0;0;0;0;0;1;0;0;0;8,3\\n10;0;0;0;0;0;0;0;0;0;0;0;0;0;0;0;0;8,5\\n11;1;1;0;0;0;0;0;0;0;0;0;0;0;0;0;0;8,5\\n12;0;0;0;0;0;0;0;0;0;0;0;0;0;0;0;0;7,4\\n13;0;1;0;1;0;0;0;0;0;0;0;0;0;0;0;0;8,7\\n14;0;2;0;0;1;0;0;0;0;0;0;0;0;0;0;0;7,8\\n15;1;0;0;0;0;0;0;0;1;0;0;0;0;0;0;0;8,1\\n16;1;1;0;0;0;0;0;0;0;0;0;0;0;0;0;0;8,3\\n17;0;1;0;3;0;0;0;0;0;0;0;0;0;0;0;0;8,3\\n18;1;5;0;0;0;0;0;0;0;0;0;0;1;0;0;0;8,4\\n19;0;4;0;2;0;0;0;0;0;0;0;0;0;0;0;0;9,3\\n20;0;1;0;2;0;0;0;0;0;0;0;0;0;0;0;0;11\\n21;0;0;0;0;0;0;0;0;0;0;0;0;0;0;0;0;12,1\\n22;1;0;0;0;0;0;0;0;0;0;0;0;0;0;0;0;13,1\\n23;1;0;0;0;0;0;0;0;0;0;0;0;0;0;0;0;13,7\\n24;0;3;0;1;1;0;0;0;0;0;0;0;0;0;0;0;15,3\\n25;1;1;0;1;0;1;0;0;0;0;0;0;0;0;0;0;16,8\\n26;1;4;0;1;0;0;0;0;0;0;0;0;0;0;0;0;15,6\\n27;0;0;0;0;0;0;0;0;0;0;0;0;0;0;0;0;11\\n1;0;0;1;0;0;0;0;0;0;0;0;0;0;0;0;0;3,4\\n2;0;1;0;0;0;0;0;0;0;0;0;0;0;0;0;0;3,8\\n3;0;1;0;1;0;0;0;0;0;0;0;0;0;0;0;0;5,3\\n4;1;1;0;0;1;0;0;0;0;0;0;0;0;0;0;1;5,9\\n5;1;1;0;0;0;0;0;0;0;0;0;1;0;1;0;0;7\\n6;0;4;0;1;0;0;0;0;0;0;0;0;0;0;0;0;7,4\\n7;0;2;0;0;0;0;0;0;0;0;0;0;0;0;1;0;6,2\\n8;0;1;0;0;0;0;0;0;1;0;0;0;0;0;0;0;6,5\\n9;0;2;0;2;0;0;0;0;0;0;0;0;0;0;0;0;6,7\\n10;0;1;0;0;0;0;0;0;0;1;0;0;0;0;0;0;7,7\\n11;0;1;0;0;0;0;0;0;0;0;0;0;0;0;0;0;8,7\\n12;0;0;0;1;0;0;0;0;0;0;0;0;0;0;0;0;8,2\\n13;0;1;0;2;0;0;0;0;0;0;0;0;0;0;0;0;8\\n14;0;2;0;3;0;0;0;0;0;0;0;0;1;0;0;0;6,2\\n15;0;1;0;1;0;0;0;0;0;0;0;0;0;0;0;0;6,8\\n16;0;0;0;0;0;0;0;0;0;0;0;0;0;0;0;0;8\\n17;0;1;0;1;0;0;0;0;0;0;0;0;0;0;0;0;9,2\\n18;2;4;0;1;0;0;0;0;0;0;0;0;1;0;0;0;10,1\\n19;1;1;0;1;1;0;0;0;0;0;0;0;0;0;0;0;12,2\\n20;0;2;0;1;1;0;0;0;1;0;1;0;0;0;0;0;13,9\\n21;0;1;0;0;0;0;0;0;1;0;0;0;0;0;2;0;15\\n22;0;0;0;0;0;0;0;0;0;0;0;0;0;0;1;0;17,1\\n23;1;0;0;0;0;0;0;0;0;0;1;0;0;0;0;0;19,6\\n24;0;1;0;0;0;0;0;0;2;0;3;0;0;0;1;0;20,2\\n25;1;3;0;2;0;0;0;0;4;0;1;0;0;0;4;0;22,6\\n26;1;0;0;0;0;0;0;0;3;0;0;0;0;0;0;0;23,4\\n27;0;0;0;0;0;0;0;0;0;0;0;0;0;0;0;0;19,3\\n1;0;0;0;0;0;0;0;0;0;0;0;1;3;0;0;0;4\\n2;0;0;0;0;0;0;0;0;0;0;0;0;1;0;0;0;5\\n3;0;0;0;0;0;0;0;0;0;0;0;0;0;0;0;1;5,7\\n4;0;0;0;0;0;0;0;0;0;0;0;0;0;0;0;0;5,6\\n5;0;0;0;0;0;0;0;0;0;0;0;0;0;0;0;0;8,5\\n6;0;0;0;0;0;0;0;0;0;0;0;0;0;0;0;0;7,6\\n7;0;0;0;0;1;0;0;0;0;0;0;1;0;0;0;0;7,6\\n8;0;0;0;1;1;0;0;0;0;0;0;0;0;1;0;0;6,6\\n9;1;1;0;0;0;0;0;0;0;0;0;0;0;0;0;0;7,4\\n10;2;2;0;0;2;0;0;0;0;0;0;0;1;0;0;0;7,7\\n11;0;1;0;1;0;0;0;0;0;0;0;0;0;0;0;0;7,7\\n12;0;1;0;0;0;0;0;0;0;0;0;0;0;0;0;0;7,9\\n13;2;2;0;1;0;0;0;1;0;0;0;1;0;0;0;0;10,1\\n14;0;3;0;0;0;0;0;0;0;0;0;0;0;0;0;0;10,8\\n15;1;2;0;0;0;0;1;0;0;0;0;1;0;0;1;0;11,4\\n16;0;3;0;1;0;0;0;0;0;0;0;0;0;0;0;0;12,5\\n17;0;1;0;1;0;0;0;0;1;0;0;0;0;0;0;0;12,1\\n18;0;1;0;0;0;0;0;0;0;0;0;0;1;0;0;0;10,5\\n19;0;1;0;0;0;0;0;0;0;0;0;0;0;1;0;0;9,9\\n20;1;1;0;0;0;0;0;0;0;0;0;0;1;0;0;0;11,1\\n21;1;1;0;0;0;0;0;0;0;0;0;0;0;0;0;0;12,1\\n22;2;1;0;1;1;0;0;0;0;0;0;0;0;0;0;0;13,7\\n23;1;1;0;0;0;0;0;0;0;0;0;0;0;0;0;0;15,6\\n24;0;0;0;0;0;0;0;0;0;0;0;0;0;0;0;0;18,3\\n25;0;1;0;0;0;0;0;0;0;0;0;0;0;0;0;0;19,9\\n26;0;0;0;0;0;0;0;0;0;0;3;1;0;0;0;0;21,5\\n27;0;3;0;1;0;0;0;0;1;0;7;0;2;0;1;0;22,1\\n1;0;0;0;1;0;0;0;0;0;0;0;0;8;0;1;0;3,4\\n2;0;0;0;0;0;0;0;0;0;0;0;0;1;0;0;0;5\\n3;0;1;0;0;0;0;0;0;0;0;0;0;0;0;0;0;5,5\\n4;1;1;0;1;1;0;0;0;0;0;0;0;1;0;0;0;6,4\\n5;0;2;0;0;0;0;0;0;0;0;0;0;2;1;0;0;8,2\\n6;2;2;1;1;0;0;0;0;0;0;0;0;1;0;0;0;9\\n7;0;3;0;0;0;0;0;0;0;0;0;0;0;0;0;0;10,1\\n8;0;2;0;1;1;0;0;0;0;0;0;0;0;0;0;0;10,3\\n9;0;2;0;0;1;0;0;0;0;0;0;0;0;0;0;0;10,9\\n10;0;1;0;0;0;0;0;0;0;0;0;0;0;0;0;0;12,3\\n11;0;2;0;0;0;0;0;0;0;0;0;0;0;0;0;0;11,9\\n12;2;0;1;0;0;0;0;0;0;0;0;0;0;0;0;0;10,3\\n13;0;1;0;0;0;0;0;0;0;0;0;0;1;0;0;0;11\\n14;0;1;0;0;0;0;0;0;0;0;0;0;1;0;0;0;9,7\\n15;1;2;0;1;0;0;0;0;0;0;0;0;1;0;1;0;10,3\\n16;0;0;0;1;0;0;0;0;1;0;0;0;0;0;0;0;10,9\\n17;0;1;0;1;0;0;0;0;0;0;0;0;0;0;0;0;8,9\\n18;2;0;0;1;1;0;0;0;0;0;0;0;0;0;0;0;9,4\\n19;0;0;0;1;0;0;0;0;0;0;0;0;0;0;1;0;11,3\\n20;0;0;1;2;0;0;0;0;0;0;0;0;0;0;0;0;13\\n21;0;0;0;0;0;0;0;0;0;0;0;0;0;0;0;0;14,6\\n22;0;1;0;1;0;0;0;0;0;0;0;0;0;0;1;0;17,4\\n23;1;0;0;0;1;0;0;0;0;0;0;0;1;0;0;0;17,8\\n24;0;0;0;2;0;0;0;0;0;0;0;0;0;0;0;0;18,1\\n25;1;0;0;2;0;0;0;0;0;0;0;0;0;0;0;0;17,7\\n26;0;4;0;0;0;0;0;0;0;0;0;1;0;0;1;0;17,4\\n27;0;0;0;0;0;0;0;0;0;0;0;0;0;0;0;0;12,1\\n'"
            ],
            "application/vnd.google.colaboratory.intrinsic+json": {
              "type": "string"
            }
          },
          "metadata": {},
          "execution_count": 34
        }
      ]
    },
    {
      "cell_type": "code",
      "source": [
        "time_box = data.split(sep='\\n')[0:10]\n",
        "time_box"
      ],
      "metadata": {
        "colab": {
          "base_uri": "https://localhost:8080/"
        },
        "id": "WfugsIcHwork",
        "outputId": "32d649ca-c09c-409e-f4d7-85be3fcd69e0"
      },
      "execution_count": null,
      "outputs": [
        {
          "output_type": "execute_result",
          "data": {
            "text/plain": [
              "['1;0;0;0;0;0;0;0;0;0;0;0;0;0;0;0;0;4,1',\n",
              " '2;0;0;0;0;0;0;0;0;0;0;0;0;0;0;0;0;6,6',\n",
              " '3;0;0;0;0;0;0;0;0;0;0;0;0;0;0;0;0;8,7',\n",
              " '4;0;0;0;0;0;0;0;0;0;0;0;0;0;0;0;0;9,2',\n",
              " '5;0;0;0;0;0;0;0;0;0;0;0;0;0;0;0;0;11,1',\n",
              " '6;0;0;0;0;0;0;0;0;0;0;0;0;0;0;0;0;10,9',\n",
              " '7;0;0;0;0;0;0;0;0;0;0;0;0;0;0;0;0;8,3',\n",
              " '8;0;0;0;0;0;0;0;0;0;0;0;0;0;0;0;0;8,2',\n",
              " '9;0;0;0;0;0;0;0;0;0;0;0;0;0;0;0;0;7,6',\n",
              " '10;0;0;0;0;0;0;0;0;0;0;0;0;0;0;0;0;6,4']"
            ]
          },
          "metadata": {},
          "execution_count": 51
        }
      ]
    },
    {
      "cell_type": "code",
      "source": [
        "time_box_array = np.array(time_box)\n",
        "time_box_array"
      ],
      "metadata": {
        "colab": {
          "base_uri": "https://localhost:8080/"
        },
        "id": "gqUqT_cjzX37",
        "outputId": "d80855a7-9f1e-4489-bd38-efc2f7f12c20"
      },
      "execution_count": null,
      "outputs": [
        {
          "output_type": "execute_result",
          "data": {
            "text/plain": [
              "array(['1;0;0;0;0;0;0;0;0;0;0;0;0;0;0;0;0;4,1',\n",
              "       '2;0;0;0;0;0;0;0;0;0;0;0;0;0;0;0;0;6,6',\n",
              "       '3;0;0;0;0;0;0;0;0;0;0;0;0;0;0;0;0;8,7',\n",
              "       '4;0;0;0;0;0;0;0;0;0;0;0;0;0;0;0;0;9,2',\n",
              "       '5;0;0;0;0;0;0;0;0;0;0;0;0;0;0;0;0;11,1',\n",
              "       '6;0;0;0;0;0;0;0;0;0;0;0;0;0;0;0;0;10,9',\n",
              "       '7;0;0;0;0;0;0;0;0;0;0;0;0;0;0;0;0;8,3',\n",
              "       '8;0;0;0;0;0;0;0;0;0;0;0;0;0;0;0;0;8,2',\n",
              "       '9;0;0;0;0;0;0;0;0;0;0;0;0;0;0;0;0;7,6',\n",
              "       '10;0;0;0;0;0;0;0;0;0;0;0;0;0;0;0;0;6,4'], dtype='<U38')"
            ]
          },
          "metadata": {},
          "execution_count": 54
        }
      ]
    },
    {
      "cell_type": "code",
      "source": [
        "data = None\n",
        "\n",
        "with open(file='traffic.csv', mode='r', encoding='utf8') as fp:\n",
        "  \n",
        "  fp.readline()\n",
        "  data = fp.read()\n",
        "\n",
        "import numpy as np\n",
        "\n",
        "day = 14\n",
        "incidents = 0\n",
        "incident_by_day = dict()\n",
        "\n",
        "for timebox in data.split(sep='\\n'):\n",
        "  timebox_data = timebox.split(sep=';')\n",
        "  \n",
        "  #for incident in timebox_data[1: len(timebox_data)-1]:\n",
        "    #incidents = incidents + int(incident)\n",
        "\n",
        "  incidents += np.sum(np.array(timebox_data[1: len(timebox_data)-1], dtype = 'int64'))\n",
        " \n",
        "  \n",
        "\n",
        "  try: \n",
        "\n",
        "    half_hour = int(timebox_data[0])\n",
        "\n",
        "    if half_hour == 27:\n",
        "      incident_by_day[day] = incidents\n",
        "      day = day + 1\n",
        "      incidents = 0\n",
        "\n",
        "  except ValueError:\n",
        "    continue\n",
        "\n",
        "# -- results\n",
        "\n",
        "for day in incident_by_day:\n",
        "  \n",
        "  print(f'{day}: {incident_by_day[day]}')\n"
      ],
      "metadata": {
        "colab": {
          "base_uri": "https://localhost:8080/"
        },
        "id": "ndDkW36Xlcur",
        "outputId": "680b4265-f8a3-4113-8342-0b75d6301a83"
      },
      "execution_count": 8,
      "outputs": [
        {
          "output_type": "stream",
          "name": "stdout",
          "text": [
            "14: 16\n",
            "15: 63\n",
            "16: 94\n",
            "17: 82\n",
            "18: 85\n"
          ]
        }
      ]
    }
  ]
}