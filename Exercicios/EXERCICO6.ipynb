{
  "nbformat": 4,
  "nbformat_minor": 0,
  "metadata": {
    "colab": {
      "provenance": [],
      "authorship_tag": "ABX9TyNj82LX0twogD5lfnvL0Ral",
      "include_colab_link": true
    },
    "kernelspec": {
      "name": "python3",
      "display_name": "Python 3"
    },
    "language_info": {
      "name": "python"
    }
  },
  "cells": [
    {
      "cell_type": "markdown",
      "metadata": {
        "id": "view-in-github",
        "colab_type": "text"
      },
      "source": [
        "<a href=\"https://colab.research.google.com/github/VivianeMatosOliveira/Analista_dados/blob/main/Exercicios/EXERCICO6.ipynb\" target=\"_parent\"><img src=\"https://colab.research.google.com/assets/colab-badge.svg\" alt=\"Open In Colab\"/></a>"
      ]
    },
    {
      "cell_type": "markdown",
      "source": [
        "1. Classe para ler arquivos de texto\n",
        "\n",
        "Crie a classe ArquivoTexto . Ela deve conter os seguintes atributos:\n",
        "self.arquivo : Atributo do tipo str com o nome do arquivo;\n",
        "self.conteudo : Atributo do tipo list onde cada elemento é uma linha do\n",
        "arquivo;\n",
        "\n",
        "A classe também deve conter o seguinte método:\n",
        "self.extrair_linha : Método que recebe como parâmetro o número da linha e\n",
        "retorna o seu conteúdo."
      ],
      "metadata": {
        "id": "Njr_DwEHJwxy"
      }
    },
    {
      "cell_type": "code",
      "source": [
        "%%writefile musica.txt\n",
        "Roda Viva\n",
        "Chico Buarque\n",
        "Tem dias que a gente se sente\n",
        "Como quem partiu ou morreu\n",
        "A gente estancou de repente\n",
        "Ou foi o mundo então que cresceu\n",
        "A gente quer ter voz ativa\n",
        "No nosso destino mandar\n",
        "Mas eis que chega a roda viva\n",
        "E carrega o destino pra lá\n",
        "Roda mundo, roda-gigante\n",
        "Roda moinho, roda pião\n",
        "O tempo rodou num instante\n",
        "Nas voltas do meu coração\n",
        "A gente vai contra a corrente\n",
        "Até não poder resistir\n",
        "Na volta do barco é que sente\n",
        "O quanto deixou de cumprir\n",
        "Faz tempo que a gente cultiva\n",
        "A mais linda roseira que há\n",
        "Mas eis que chega a roda viva\n",
        "E carrega a roseira pra lá\n",
        "Roda mundo, roda-gigante\n",
        "Roda moinho, roda pião"
      ],
      "metadata": {
        "id": "ApHFH-rz6x3I",
        "colab": {
          "base_uri": "https://localhost:8080/"
        },
        "outputId": "38ace2d3-e996-4269-f4de-063a7f4dd989"
      },
      "execution_count": null,
      "outputs": [
        {
          "output_type": "stream",
          "name": "stdout",
          "text": [
            "Writing musica.txt\n"
          ]
        }
      ]
    },
    {
      "cell_type": "code",
      "execution_count": null,
      "metadata": {
        "id": "2RLXRgxr5hNX"
      },
      "outputs": [],
      "source": [
        "class ArquivoTexto(object):\n",
        " def __init__(self, arquivo: str):\n",
        "   self.arquivo = arquivo\n",
        "   self.conteudo = self._extrair_conteudo()\n",
        " \n",
        " def _extrair_conteudo(self):\n",
        "   conteudo = list()\n",
        "   with open(file=self.arquivo, mode='r', encoding='utf8') as arquivo:\n",
        "     conteudo = arquivo.readlines()\n",
        "     return conteudo\n",
        " \n",
        " def extrair_linha(self, numero_linha: int):\n",
        "   return self.conteudo[numero_linha-1]"
      ]
    },
    {
      "cell_type": "markdown",
      "source": [
        "Utilize o código abaixo para testar sua classe"
      ],
      "metadata": {
        "id": "Hy4-_s2zK5Uw"
      }
    },
    {
      "cell_type": "code",
      "source": [
        "arquivo_texto = ArquivoTexto(arquivo ='musica.txt')\n",
        "\n",
        "numero_linha = 1\n",
        "print(arquivo_texto.extrair_linha(numero_linha=numero_linha)) # Roda Viva"
      ],
      "metadata": {
        "id": "v9uLVjgE64La",
        "colab": {
          "base_uri": "https://localhost:8080/"
        },
        "outputId": "324325e2-c75d-4513-f7b5-1571feccbc8b"
      },
      "execution_count": null,
      "outputs": [
        {
          "output_type": "stream",
          "name": "stdout",
          "text": [
            "Roda Viva\n",
            "\n"
          ]
        }
      ]
    },
    {
      "cell_type": "code",
      "source": [
        "arquivo_texto = ArquivoTexto(arquivo ='musica.txt')\n",
        "\n",
        "numero_linha = 10\n",
        "print(arquivo_texto.extrair_linha(numero_linha=numero_linha)) # Mas eis que chega a roda viva"
      ],
      "metadata": {
        "id": "MAaDOeu29gHj",
        "colab": {
          "base_uri": "https://localhost:8080/"
        },
        "outputId": "11eb69f2-acf4-42c9-8e6b-baf95f8fae2c"
      },
      "execution_count": null,
      "outputs": [
        {
          "output_type": "stream",
          "name": "stdout",
          "text": [
            "E carrega o destino pra lá\n",
            "\n"
          ]
        }
      ]
    },
    {
      "cell_type": "code",
      "source": [
        "%%writefile carros.csv\n",
        "id,valor_venda,valor_manutencao,portas,pessoas,porta_malas\n",
        "1,vhigh,med,2,2,small\n",
        "2,med,vhigh,2,2,small\n",
        "3,low,vhigh,2,2,small\n",
        "4,low,high,2,2,small\n",
        "5,low,high,2,2,small\n",
        "6,low,high,4,4,big\n",
        "7,low,high,4,4,big\n",
        "8,low,med,2,2,small\n",
        "9,low,med,2,2,small\n",
        "10,low,med,2,2,small\n",
        "11,low,med,4,4,big\n",
        "12,low,low,2,2,small\n",
        "13,low,low,4,4,small\n",
        "14,low,low,4,4,med"
      ],
      "metadata": {
        "id": "jRcG7DV88WlR",
        "colab": {
          "base_uri": "https://localhost:8080/"
        },
        "outputId": "ca6344b4-d48a-4bf3-f1c0-33d4d51f79fb"
      },
      "execution_count": null,
      "outputs": [
        {
          "output_type": "stream",
          "name": "stdout",
          "text": [
            "Writing carros.csv\n"
          ]
        }
      ]
    },
    {
      "cell_type": "markdown",
      "source": [
        "2. Classe para ler arquivos de csv\n",
        "\n",
        "Crie a classe ArquivoCSV . Ela deve extender (herdar) a classe ArquivoTexto para\n",
        "reaproveitar os seus atributos ( self.arquivo e self.conteudo ) e método\n",
        "( self.extrair_linha ). Além disso, adicione o seguinte atributo:\n",
        "self.colunas : Atributo do tipo list onde os elementos são os nome das\n",
        "colunas;\n",
        "\n",
        "A classe também deve conter o seguinte método:\n",
        "self.extrair_coluna_da_linha : Método que recebe como parâmetro o\n",
        "numero da linha e o indice da coluna e retorna o valor em questão."
      ],
      "metadata": {
        "id": "tF0o4X8LKOYg"
      }
    },
    {
      "cell_type": "code",
      "source": [
        "class ArquivoCSV(ArquivoTexto):\n",
        "  def __init__(self, arquivo: str ):\n",
        "    super().__init__(arquivo=arquivo)\n",
        "    self.colunas = self._extrair_nome_colunas()\n",
        "  \n",
        "  def _extrair_nome_colunas(self):\n",
        "    return self.conteudo[0].strip().split(sep=',')\n",
        "  \n",
        "  def _extrair_colunas(self,numero_linha):\n",
        "    return self.extrair_linha(numero_linha).strip().split(sep=',')\n",
        "  \n",
        "  def extrair_coluna_da_linha(self,numero_linha: int,numero_coluna: int):\n",
        "    colunas = self._extrair_colunas(numero_linha)\n",
        "    return colunas[numero_coluna-1]\n",
        "\n"
      ],
      "metadata": {
        "id": "70IcmsIfKrTK"
      },
      "execution_count": null,
      "outputs": []
    },
    {
      "cell_type": "markdown",
      "source": [
        "Utilize o código abaixo para testar sua classe"
      ],
      "metadata": {
        "id": "Hm5Ik-umLak7"
      }
    },
    {
      "cell_type": "code",
      "source": [
        "arquivo_csv = ArquivoCSV(arquivo='./carros.csv')\n",
        "numero_linha = 1\n",
        "print(arquivo_csv.extrair_linha(numero_linha=numero_linha)) \n",
        "print(arquivo_csv.colunas) "
      ],
      "metadata": {
        "id": "g6nxyMDbE7To",
        "colab": {
          "base_uri": "https://localhost:8080/"
        },
        "outputId": "7fe10e87-3189-480a-d532-a638d7c5d240"
      },
      "execution_count": null,
      "outputs": [
        {
          "output_type": "stream",
          "name": "stdout",
          "text": [
            "id,valor_venda,valor_manutencao,portas,pessoas,porta_malas\n",
            "\n",
            "['id', 'valor_venda', 'valor_manutencao', 'portas', 'pessoas', 'porta_malas']\n"
          ]
        }
      ]
    },
    {
      "cell_type": "code",
      "source": [
        "numero_linha = 10\n",
        "print(arquivo_csv.extrair_linha(numero_linha=numero_linha)) # 9,low,med,2,2,small"
      ],
      "metadata": {
        "id": "cun_6lsyI7yU",
        "colab": {
          "base_uri": "https://localhost:8080/"
        },
        "outputId": "bebcfc72-08cc-4a95-8f20-7590bbb60e66"
      },
      "execution_count": null,
      "outputs": [
        {
          "output_type": "stream",
          "name": "stdout",
          "text": [
            "9,low,med,2,2,small\n",
            "\n"
          ]
        }
      ]
    },
    {
      "cell_type": "code",
      "source": [
        "numero_linha = 10\n",
        "numero_coluna = 2\n",
        "print(arquivo_csv.extrair_coluna_da_linha(numero_linha=numero_linha,numero_coluna=numero_coluna))\n",
        "# low"
      ],
      "metadata": {
        "id": "6B6Zhwfx3EXF",
        "colab": {
          "base_uri": "https://localhost:8080/"
        },
        "outputId": "63200c2b-5106-4688-f075-bf5cbf136b55"
      },
      "execution_count": null,
      "outputs": [
        {
          "output_type": "stream",
          "name": "stdout",
          "text": [
            "low\n"
          ]
        }
      ]
    }
  ]
}