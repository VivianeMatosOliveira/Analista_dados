{
  "nbformat": 4,
  "nbformat_minor": 0,
  "metadata": {
    "colab": {
      "provenance": [],
      "include_colab_link": true
    },
    "kernelspec": {
      "name": "python3",
      "display_name": "Python 3"
    }
  },
  "cells": [
    {
      "cell_type": "markdown",
      "metadata": {
        "id": "view-in-github",
        "colab_type": "text"
      },
      "source": [
        "<a href=\"https://colab.research.google.com/github/VivianeMatosOliveira/Curso_Analista_Dados/blob/main/Exercicios/module_13_exercise.ipynb\" target=\"_parent\"><img src=\"https://colab.research.google.com/assets/colab-badge.svg\" alt=\"Open In Colab\"/></a>"
      ]
    },
    {
      "cell_type": "markdown",
      "metadata": {
        "id": "KJqp9AANOCtf"
      },
      "source": [
        "<img src=\"https://raw.githubusercontent.com/andre-marcos-perez/ebac-course-utils/main/media/logo/newebac_logo_black_half.png\" alt=\"ebac-logo\">\n",
        "\n",
        "---\n",
        "\n",
        "# **Módulo** | Análise de Dados: Data Wrangling II\n",
        "Caderno de **Exercícios**<br> \n",
        "Professor [André Perez](https://www.linkedin.com/in/andremarcosperez/)\n",
        "\n",
        "---"
      ]
    },
    {
      "cell_type": "markdown",
      "metadata": {
        "id": "d9jDtUbDOE1-"
      },
      "source": [
        "# **Tópicos**\n",
        "\n",
        "<ol type=\"1\">\n",
        "  <li>Agregação e Ordenação;</li>\n",
        "  <li>Combinação;</li>\n",
        "  <li>Técnicas Avançadas.</li>\n",
        "</ol>"
      ]
    },
    {
      "cell_type": "markdown",
      "metadata": {
        "id": "SmoHgt-lwkpD"
      },
      "source": [
        "---"
      ]
    },
    {
      "cell_type": "markdown",
      "metadata": {
        "id": "GABI6OW8OfQ2"
      },
      "source": [
        "# **Exercícios**"
      ]
    },
    {
      "cell_type": "markdown",
      "metadata": {
        "id": "45DbYPgFhuR7"
      },
      "source": [
        "Neste exercícios, vamos trabalhar com dados geográficos, demográficos e econômicos do Brasil. Vamos manipular e combinar dados de duas frentes distintas para poder responder perguntas de negócios."
      ]
    },
    {
      "cell_type": "markdown",
      "metadata": {
        "id": "GWgNoJN8DHyY"
      },
      "source": [
        "## 1\\. Data Wrangling"
      ]
    },
    {
      "cell_type": "markdown",
      "metadata": {
        "id": "E30KnCdKRdYl"
      },
      "source": [
        "### **1.1. Estados** "
      ]
    },
    {
      "cell_type": "markdown",
      "metadata": {
        "id": "w2q1apyNYHbu"
      },
      "source": [
        "O arquivo `estados-bruto.xml` contém informações sobre estados (nome, sigla e região). **Carregue-o na máquina virtual do Google Colab**. Um arquivo do tipo XML é similar a um arquivo do tipo HTML, exemplo do estado do Acre:"
      ]
    },
    {
      "cell_type": "markdown",
      "metadata": {
        "id": "GzjE2aEyYW5A"
      },
      "source": [
        "```xml\n",
        "<ESTADO>\n",
        "  <ID>1</ID>\n",
        "  <NOME>ACRE</NOME>\n",
        "  <IDCAPITAL>16</IDCAPITAL>\n",
        "  <SIGLA>AC</SIGLA>\n",
        "  <REGIAO>NORTE</REGIAO>\n",
        "</ESTADO>\n",
        "```"
      ]
    },
    {
      "cell_type": "code",
      "source": [
        "import requests\n",
        "from requests.exceptions import HTTPError\n",
        "\n",
        "def crawl_website(url: str) -> str:\n",
        "\n",
        "  try:\n",
        "    resposta = requests.get(url)\n",
        "    resposta.raise_for_status()\n",
        "  except HTTPError as exc:\n",
        "    print(exc)\n",
        "  else:\n",
        "    return resposta.text\n",
        "\n",
        "conteudo = None\n",
        "URL = 'https://static.lms.ebaconline.com.br/content-files/8c8d1912-fa5e-4612-b7f6-568301a125bc/original.xml'\n",
        "conteudo = crawl_website(url=URL)\n",
        "print(conteudo)"
      ],
      "metadata": {
        "id": "fRtNGpd-ukfU",
        "colab": {
          "base_uri": "https://localhost:8080/"
        },
        "outputId": "f2483c71-5fc1-4002-ee4f-e179bdaeef61"
      },
      "execution_count": null,
      "outputs": [
        {
          "output_type": "stream",
          "name": "stdout",
          "text": [
            "<?xml version=\"1.0\" encoding=\"utf-8\" ?>\n",
            "<ESTADOS>\n",
            "\t<ESTADO>\n",
            "\t\t<ID>1</ID>\n",
            "\t\t<NOME>ACRE</NOME>\n",
            "\t\t<IDCAPITAL>16</IDCAPITAL>\n",
            "\t\t<SIGLA>AC</SIGLA>\n",
            "\t\t<REGIAO>NORTE</REGIAO>\n",
            "\t</ESTADO>\n",
            "\t<ESTADO>\n",
            "\t\t<ID>2</ID>\n",
            "\t\t<NOME>ALAGOAS</NOME>\n",
            "\t\t<IDCAPITAL>68</IDCAPITAL>\n",
            "\t\t<SIGLA>AL</SIGLA>\n",
            "\t\t<REGIAO>NORDESTE</REGIAO>\n",
            "\t</ESTADO>\n",
            "\t<ESTADO>\n",
            "\t\t<ID>3</ID>\n",
            "\t\t<NOME>AMAPA</NOME>\n",
            "\t\t<IDCAPITAL>131</IDCAPITAL>\n",
            "\t\t<SIGLA>AP</SIGLA>\n",
            "\t\t<REGIAO>NORTE</REGIAO>\n",
            "\t</ESTADO>\n",
            "\t<ESTADO>\n",
            "\t\t<ID>4</ID>\n",
            "\t\t<NOME>AMAZONAS</NOME>\n",
            "\t\t<IDCAPITAL>178</IDCAPITAL>\n",
            "\t\t<SIGLA>AM</SIGLA>\n",
            "\t\t<REGIAO>NORTE</REGIAO>\n",
            "\t</ESTADO>\n",
            "\t<ESTADO>\n",
            "\t\t<ID>5</ID>\n",
            "\t\t<NOME>BAHIA</NOME>\n",
            "\t\t<IDCAPITAL>536</IDCAPITAL>\n",
            "\t\t<SIGLA>BA</SIGLA>\n",
            "\t\t<REGIAO>NORDESTE</REGIAO>\n",
            "\t</ESTADO>\n",
            "\t<ESTADO>\n",
            "\t\t<ID>6</ID>\n",
            "\t\t<NOME>CEARA</NOME>\n",
            "\t\t<IDCAPITAL>676</IDCAPITAL>\n",
            "\t\t<SIGLA>CE</SIGLA>\n",
            "\t\t<REGIAO>NORDESTE</REGIAO>\n",
            "\t</ESTADO>\n",
            "\t<ESTADO>\n",
            "\t\t<ID>7</ID>\n",
            "\t\t<NOME>DISTRITO FEDERAL</NOME>\n",
            "\t\t<IDCAPITAL>916</IDCAPITAL>\n",
            "\t\t<SIGLA>DF</SIGLA>\n",
            "\t\t<REGIAO>CENTRO-OESTE</REGIAO>\n",
            "\t</ESTADO>\n",
            "\t<ESTADO>\n",
            "\t\t<ID>8</ID>\n",
            "\t\t<NOME>ESPIRITO SANTO</NOME>\n",
            "\t\t<IDCAPITAL>879</IDCAPITAL>\n",
            "\t\t<SIGLA>ES</SIGLA>\n",
            "\t\t<REGIAO>SUDESTE</REGIAO>\n",
            "\t</ESTADO>\n",
            "\t<ESTADO>\n",
            "\t\t<ID>9</ID>\n",
            "\t\t<NOME>GOIAS</NOME>\n",
            "\t\t<IDCAPITAL>973</IDCAPITAL>\n",
            "\t\t<SIGLA>GO</SIGLA>\n",
            "\t\t<REGIAO>CENTRO-OESTE</REGIAO>\n",
            "\t</ESTADO>\n",
            "\t<ESTADO>\n",
            "\t\t<ID>10</ID>\n",
            "\t\t<NOME>MARANHAO</NOME>\n",
            "\t\t<IDCAPITAL>1309</IDCAPITAL>\n",
            "\t\t<SIGLA>MA</SIGLA>\n",
            "\t\t<REGIAO>NORDESTE</REGIAO>\n",
            "\t</ESTADO>\n",
            "\t<ESTADO>\n",
            "\t\t<ID>11</ID>\n",
            "\t\t<NOME>MATO GROSSO</NOME>\n",
            "\t\t<IDCAPITAL>1374</IDCAPITAL>\n",
            "\t\t<SIGLA>MT</SIGLA>\n",
            "\t\t<REGIAO>CENTRO-OESTE</REGIAO>\n",
            "\t</ESTADO>\n",
            "\t<ESTADO>\n",
            "\t\t<ID>12</ID>\n",
            "\t\t<NOME>MATO GROSSO DO SUL</NOME>\n",
            "\t\t<IDCAPITAL>1485</IDCAPITAL>\n",
            "\t\t<SIGLA>MS</SIGLA>\n",
            "\t\t<REGIAO>CENTRO-OESTE</REGIAO>\n",
            "\t</ESTADO>\n",
            "\t<ESTADO>\n",
            "\t\t<ID>13</ID>\n",
            "\t\t<NOME>PARA</NOME>\n",
            "\t\t<IDCAPITAL>1561</IDCAPITAL>\n",
            "\t\t<SIGLA>PA</SIGLA>\n",
            "\t\t<REGIAO>NORTE</REGIAO>\n",
            "\t</ESTADO>\n",
            "\t<ESTADO>\n",
            "\t\t<ID>14</ID>\n",
            "\t\t<NOME>PARAIBA</NOME>\n",
            "\t\t<IDCAPITAL>1779</IDCAPITAL>\n",
            "\t\t<SIGLA>PB</SIGLA>\n",
            "\t\t<REGIAO>NORDESTE</REGIAO>\n",
            "\t</ESTADO>\n",
            "\t<ESTADO>\n",
            "\t\t<ID>15</ID>\n",
            "\t\t<NOME>PARANA</NOME>\n",
            "\t\t<IDCAPITAL>2002</IDCAPITAL>\n",
            "\t\t<SIGLA>PR</SIGLA>\n",
            "\t\t<REGIAO>SUL</REGIAO>\n",
            "\t</ESTADO>\n",
            "\t<ESTADO>\n",
            "\t\t<ID>16</ID>\n",
            "\t\t<NOME>PERNAMBUCO</NOME>\n",
            "\t\t<IDCAPITAL>2439</IDCAPITAL>\n",
            "\t\t<SIGLA>PE</SIGLA>\n",
            "\t\t<REGIAO>NORDESTE</REGIAO>\n",
            "\t</ESTADO>\n",
            "\t<ESTADO>\n",
            "\t\t<ID>17</ID>\n",
            "\t\t<NOME>PIAUI</NOME>\n",
            "\t\t<IDCAPITAL>2704</IDCAPITAL>\n",
            "\t\t<SIGLA>PI</SIGLA>\n",
            "\t\t<REGIAO>NORDESTE</REGIAO>\n",
            "\t</ESTADO>\n",
            "\t<ESTADO>\n",
            "\t\t<ID>18</ID>\n",
            "\t\t<NOME>RIO DE JANEIRO</NOME>\n",
            "\t\t<IDCAPITAL>2779</IDCAPITAL>\n",
            "\t\t<SIGLA>RJ</SIGLA>\n",
            "\t\t<REGIAO>SUDESTE</REGIAO>\n",
            "\t</ESTADO>\n",
            "\t<ESTADO>\n",
            "\t\t<ID>19</ID>\n",
            "\t\t<NOME>RIO GRANDE DO NORTE</NOME>\n",
            "\t\t<IDCAPITAL>2890</IDCAPITAL>\n",
            "\t\t<SIGLA>RN</SIGLA>\n",
            "\t\t<REGIAO>NORDESTE</REGIAO>\n",
            "\t</ESTADO>\n",
            "\t<ESTADO>\n",
            "\t\t<ID>20</ID>\n",
            "\t\t<NOME>RIO GRANDE DO SUL</NOME>\n",
            "\t\t<IDCAPITAL>3273</IDCAPITAL>\n",
            "\t\t<SIGLA>RS</SIGLA>\n",
            "\t\t<REGIAO>SUL</REGIAO>\n",
            "\t</ESTADO>\n",
            "\t<ESTADO>\n",
            "\t\t<ID>21</ID>\n",
            "\t\t<NOME>RONDONIA</NOME>\n",
            "\t\t<IDCAPITAL>3473</IDCAPITAL>\n",
            "\t\t<SIGLA>RO</SIGLA>\n",
            "\t\t<REGIAO>NORTE</REGIAO>\n",
            "\t</ESTADO>\n",
            "\t<ESTADO>\n",
            "\t\t<ID>22</ID>\n",
            "\t\t<NOME>RORAIMA</NOME>\n",
            "\t\t<IDCAPITAL>3491</IDCAPITAL>\n",
            "\t\t<SIGLA>RR</SIGLA>\n",
            "\t\t<REGIAO>NORTE</REGIAO>\n",
            "\t</ESTADO>\n",
            "\t<ESTADO>\n",
            "\t\t<ID>23</ID>\n",
            "\t\t<NOME>SANTA CATARINA</NOME>\n",
            "\t\t<IDCAPITAL>3591</IDCAPITAL>\n",
            "\t\t<SIGLA>SC</SIGLA>\n",
            "\t\t<REGIAO>SUL</REGIAO>\n",
            "\t</ESTADO>\n",
            "\t<ESTADO>\n",
            "\t\t<ID>24</ID>\n",
            "\t\t<NOME>SAO PAULO</NOME>\n",
            "\t\t<IDCAPITAL>4361</IDCAPITAL>\n",
            "\t\t<SIGLA>SP</SIGLA>\n",
            "\t\t<REGIAO>SUDESTE</REGIAO>\n",
            "\t</ESTADO>\n",
            "\t<ESTADO>\n",
            "\t\t<ID>25</ID>\n",
            "\t\t<NOME>SERGIPE</NOME>\n",
            "\t\t<IDCAPITAL>4444</IDCAPITAL>\n",
            "\t\t<SIGLA>SE</SIGLA>\n",
            "\t\t<REGIAO>NORDESTE</REGIAO>\n",
            "\t</ESTADO>\n",
            "\t<ESTADO>\n",
            "\t\t<ID>26</ID>\n",
            "\t\t<NOME>TOCANTINS</NOME>\n",
            "\t\t<IDCAPITAL>4606</IDCAPITAL>\n",
            "\t\t<SIGLA>TO</SIGLA>\n",
            "\t\t<REGIAO>NORTE</REGIAO>\n",
            "\t</ESTADO>\n",
            "\t<ESTADO>\n",
            "\t\t<ID>27</ID>\n",
            "\t\t<NOME>MINAS GERAIS</NOME>\n",
            "\t\t<IDCAPITAL>4790</IDCAPITAL>\n",
            "\t\t<SIGLA>MG</SIGLA>\n",
            "\t\t<REGIAO>SUDESTE</REGIAO>\n",
            "\t</ESTADO>\n",
            "</ESTADOS>\n",
            "\n"
          ]
        }
      ]
    },
    {
      "cell_type": "markdown",
      "metadata": {
        "id": "7Mtk7Dd9UHqg"
      },
      "source": [
        "Utilize o pacote Python `beautifulsoup4` para extrair os dados do arquivo `estados-bruto.xml` providenciado. Salve os dados extraidos no arquivo `estados-limpo.csv` separado por `;`. Exemplo das três primeiras linhas mais o cabeçalho:\n",
        "\n",
        "```\n",
        "estado;sigla;regiao\n",
        "ACRE;AC;NORTE\n",
        "ALAGOAS;AL;NORDESTE\n",
        "AMAPA;AP;NORTE\n",
        "```\n",
        "\n",
        "**Dica**: Utilize o parser de xml chamado `lxml` do `beautifulsoup4`."
      ]
    },
    {
      "cell_type": "code",
      "metadata": {
        "id": "kz0ZyYI0Sg6P"
      },
      "source": [
        "# ler o arquivo estados-bruto.xml, utilize o xml parser chamado lxml\n",
        "\n",
        "from bs4 import BeautifulSoup\n",
        "\n",
        "NOME_ARQUIVO_FONTE = 'estados-bruto.xml'\n",
        "\n",
        "fonte = BeautifulSoup(conteudo, 'lxml')"
      ],
      "execution_count": null,
      "outputs": []
    },
    {
      "cell_type": "code",
      "source": [
        "# visualize os resultados\n",
        "nomes_estado = fonte.find_all('nome')\n",
        "print(nomes_estado)"
      ],
      "metadata": {
        "colab": {
          "base_uri": "https://localhost:8080/"
        },
        "id": "8C_rj0s20pEf",
        "outputId": "9b413cc7-364e-4050-bfa3-4704d33ea375"
      },
      "execution_count": null,
      "outputs": [
        {
          "output_type": "stream",
          "name": "stdout",
          "text": [
            "[<nome>ACRE</nome>, <nome>ALAGOAS</nome>, <nome>AMAPA</nome>, <nome>AMAZONAS</nome>, <nome>BAHIA</nome>, <nome>CEARA</nome>, <nome>DISTRITO FEDERAL</nome>, <nome>ESPIRITO SANTO</nome>, <nome>GOIAS</nome>, <nome>MARANHAO</nome>, <nome>MATO GROSSO</nome>, <nome>MATO GROSSO DO SUL</nome>, <nome>PARA</nome>, <nome>PARAIBA</nome>, <nome>PARANA</nome>, <nome>PERNAMBUCO</nome>, <nome>PIAUI</nome>, <nome>RIO DE JANEIRO</nome>, <nome>RIO GRANDE DO NORTE</nome>, <nome>RIO GRANDE DO SUL</nome>, <nome>RONDONIA</nome>, <nome>RORAIMA</nome>, <nome>SANTA CATARINA</nome>, <nome>SAO PAULO</nome>, <nome>SERGIPE</nome>, <nome>TOCANTINS</nome>, <nome>MINAS GERAIS</nome>]\n"
          ]
        }
      ]
    },
    {
      "cell_type": "code",
      "source": [
        "estados = []\n",
        "\n",
        "for nome_estado  in nomes_estado:\n",
        "  estados.append(nome_estado.get_text( ))\n",
        "print(estados)"
      ],
      "metadata": {
        "colab": {
          "base_uri": "https://localhost:8080/"
        },
        "id": "6o_4XyJiKenP",
        "outputId": "0cb0032e-8623-4edc-d81d-f5e3f99fc7ee"
      },
      "execution_count": null,
      "outputs": [
        {
          "output_type": "stream",
          "name": "stdout",
          "text": [
            "['ACRE', 'ALAGOAS', 'AMAPA', 'AMAZONAS', 'BAHIA', 'CEARA', 'DISTRITO FEDERAL', 'ESPIRITO SANTO', 'GOIAS', 'MARANHAO', 'MATO GROSSO', 'MATO GROSSO DO SUL', 'PARA', 'PARAIBA', 'PARANA', 'PERNAMBUCO', 'PIAUI', 'RIO DE JANEIRO', 'RIO GRANDE DO NORTE', 'RIO GRANDE DO SUL', 'RONDONIA', 'RORAIMA', 'SANTA CATARINA', 'SAO PAULO', 'SERGIPE', 'TOCANTINS', 'MINAS GERAIS']\n"
          ]
        }
      ]
    },
    {
      "cell_type": "code",
      "source": [
        "siglas_estados = fonte.find_all('sigla')\n",
        "print(siglas_estados)"
      ],
      "metadata": {
        "colab": {
          "base_uri": "https://localhost:8080/"
        },
        "id": "CCNYqtUK4eP_",
        "outputId": "979de0e1-a90a-4284-9969-781c581aa159"
      },
      "execution_count": null,
      "outputs": [
        {
          "output_type": "stream",
          "name": "stdout",
          "text": [
            "[<sigla>AC</sigla>, <sigla>AL</sigla>, <sigla>AP</sigla>, <sigla>AM</sigla>, <sigla>BA</sigla>, <sigla>CE</sigla>, <sigla>DF</sigla>, <sigla>ES</sigla>, <sigla>GO</sigla>, <sigla>MA</sigla>, <sigla>MT</sigla>, <sigla>MS</sigla>, <sigla>PA</sigla>, <sigla>PB</sigla>, <sigla>PR</sigla>, <sigla>PE</sigla>, <sigla>PI</sigla>, <sigla>RJ</sigla>, <sigla>RN</sigla>, <sigla>RS</sigla>, <sigla>RO</sigla>, <sigla>RR</sigla>, <sigla>SC</sigla>, <sigla>SP</sigla>, <sigla>SE</sigla>, <sigla>TO</sigla>, <sigla>MG</sigla>]\n"
          ]
        }
      ]
    },
    {
      "cell_type": "code",
      "source": [
        "siglas = []\n",
        "\n",
        "for sigla  in siglas_estados:\n",
        "  siglas.append(sigla.get_text( ))\n",
        "print(siglas)"
      ],
      "metadata": {
        "colab": {
          "base_uri": "https://localhost:8080/"
        },
        "id": "PCRE9I3zMA5y",
        "outputId": "c9a94ddc-e634-44f8-cd43-68883f5124e6"
      },
      "execution_count": null,
      "outputs": [
        {
          "output_type": "stream",
          "name": "stdout",
          "text": [
            "['AC', 'AL', 'AP', 'AM', 'BA', 'CE', 'DF', 'ES', 'GO', 'MA', 'MT', 'MS', 'PA', 'PB', 'PR', 'PE', 'PI', 'RJ', 'RN', 'RS', 'RO', 'RR', 'SC', 'SP', 'SE', 'TO', 'MG']\n"
          ]
        }
      ]
    },
    {
      "cell_type": "code",
      "source": [
        "regiao = fonte.find_all('regiao')\n",
        "print(regiao)"
      ],
      "metadata": {
        "colab": {
          "base_uri": "https://localhost:8080/"
        },
        "id": "yjVFkPlz4uLy",
        "outputId": "8eceb82b-fc25-44c2-cb5a-fbbf7d69b392"
      },
      "execution_count": null,
      "outputs": [
        {
          "output_type": "stream",
          "name": "stdout",
          "text": [
            "[<regiao>NORTE</regiao>, <regiao>NORDESTE</regiao>, <regiao>NORTE</regiao>, <regiao>NORTE</regiao>, <regiao>NORDESTE</regiao>, <regiao>NORDESTE</regiao>, <regiao>CENTRO-OESTE</regiao>, <regiao>SUDESTE</regiao>, <regiao>CENTRO-OESTE</regiao>, <regiao>NORDESTE</regiao>, <regiao>CENTRO-OESTE</regiao>, <regiao>CENTRO-OESTE</regiao>, <regiao>NORTE</regiao>, <regiao>NORDESTE</regiao>, <regiao>SUL</regiao>, <regiao>NORDESTE</regiao>, <regiao>NORDESTE</regiao>, <regiao>SUDESTE</regiao>, <regiao>NORDESTE</regiao>, <regiao>SUL</regiao>, <regiao>NORTE</regiao>, <regiao>NORTE</regiao>, <regiao>SUL</regiao>, <regiao>SUDESTE</regiao>, <regiao>NORDESTE</regiao>, <regiao>NORTE</regiao>, <regiao>SUDESTE</regiao>]\n"
          ]
        }
      ]
    },
    {
      "cell_type": "code",
      "source": [
        "regioes = []\n",
        "\n",
        "for regiao  in regiao:\n",
        "  regioes.append(regiao.get_text( ))\n",
        "print(regioes)"
      ],
      "metadata": {
        "colab": {
          "base_uri": "https://localhost:8080/"
        },
        "id": "IjQQ11GYNYk3",
        "outputId": "c997c450-7c42-461f-cb4e-b425d1fc41bd"
      },
      "execution_count": null,
      "outputs": [
        {
          "output_type": "stream",
          "name": "stdout",
          "text": [
            "['NORTE', 'NORDESTE', 'NORTE', 'NORTE', 'NORDESTE', 'NORDESTE', 'CENTRO-OESTE', 'SUDESTE', 'CENTRO-OESTE', 'NORDESTE', 'CENTRO-OESTE', 'CENTRO-OESTE', 'NORTE', 'NORDESTE', 'SUL', 'NORDESTE', 'NORDESTE', 'SUDESTE', 'NORDESTE', 'SUL', 'NORTE', 'NORTE', 'SUL', 'SUDESTE', 'NORDESTE', 'NORTE', 'SUDESTE']\n"
          ]
        }
      ]
    },
    {
      "cell_type": "code",
      "metadata": {
        "id": "9yCma_LASxFg"
      },
      "source": [
        "# escrever o conteudo extraido no arquivo estados-limpo.csv separados por ;\n",
        "\n",
        "NOME_ARQUIVO_DESTINO = 'estados-limpo.csv'\n",
        "\n",
        "# continue o codigo aqui"
      ],
      "execution_count": null,
      "outputs": []
    },
    {
      "cell_type": "code",
      "metadata": {
        "id": "RNd20OxEyIWV"
      },
      "source": [
        "import csv\n",
        "\n",
        "with open(file='./estados-limpo.csv', mode='w', newline = \"\", encoding='utf8') as arquivo:\n",
        "  escritor_csv = csv.writer(arquivo)\n",
        "  escritor_csv.writerows([['estado', 'sigla','regiao']] + list (map(lambda estados,siglas,regioes: [estados,siglas,regioes],estados,siglas,regioes)))\n"
      ],
      "execution_count": null,
      "outputs": []
    },
    {
      "cell_type": "markdown",
      "metadata": {
        "id": "Fq0xqYYSYq92"
      },
      "source": [
        "### **1.2. Cidades** "
      ]
    },
    {
      "cell_type": "markdown",
      "metadata": {
        "id": "eWRbjhOQYq93"
      },
      "source": [
        "O arquivo `cidades-bruto.csv` contém informações demográficas e socioeconomicas das cidades do Brasil. **Carregue-o na máquina virtual do Google Colab**. Utilize o pacote Python `pandas` para extrair os dados do arquivo `cidades-bruto.xml` providenciado. Seguindo as seguintes especificações:"
      ]
    },
    {
      "cell_type": "markdown",
      "metadata": {
        "id": "76zW8sMsbhEu"
      },
      "source": [
        "1. Apenas dados do censo de 2010;\n",
        "1. Apenas as colunas UF, Nome, PIB, Pop_est_2009 e PIB_percapita."
      ]
    },
    {
      "cell_type": "markdown",
      "metadata": {
        "id": "auiIxlw-blp8"
      },
      "source": [
        "Salve os dados extraidos no arquivo `cidades-limpo.csv` separado por `;`. Exemplo das três primeiras linhas mais o cabeçalho:\n",
        "\n",
        "```\n",
        "estado;cidade;populacao;pib;pib_percapita\n",
        "BAHIA;TREMEDAL;18433;57883.9921875;3140.23999023\n",
        "RIO GRANDE DO SUL;TURUÇU;4000;45723875;11430.96972656\n",
        "ESPIRITO SANTO;VITÓRIA;320156;19782628;61790.58984375\n",
        "```"
      ]
    },
    {
      "cell_type": "code",
      "source": [],
      "metadata": {
        "id": "bn0FH6qHbOsf"
      },
      "execution_count": null,
      "outputs": []
    },
    {
      "cell_type": "code",
      "metadata": {
        "id": "nBmWOkvzYq94"
      },
      "source": [
        "# ler o arquivo cidades-bruto.csv\n",
        "\n",
        "import pandas as pd\n",
        "import io\n",
        "from google.colab import files\n",
        "\n",
        "#NOME_ARQUIVO_FONTE = 'cidades-bruto.csv'\n"
      ],
      "execution_count": null,
      "outputs": []
    },
    {
      "cell_type": "code",
      "source": [
        "arquivo_fonte = files.upload()"
      ],
      "metadata": {
        "colab": {
          "base_uri": "https://localhost:8080/",
          "height": 73
        },
        "id": "kEtYfTNHbRnz",
        "outputId": "b6d8ebd9-3fad-48a1-e934-1fe4db9c01a8"
      },
      "execution_count": null,
      "outputs": [
        {
          "output_type": "display_data",
          "data": {
            "text/plain": [
              "<IPython.core.display.HTML object>"
            ],
            "text/html": [
              "\n",
              "     <input type=\"file\" id=\"files-5b96d759-d57b-48fc-a7d0-ff239651f41e\" name=\"files[]\" multiple disabled\n",
              "        style=\"border:none\" />\n",
              "     <output id=\"result-5b96d759-d57b-48fc-a7d0-ff239651f41e\">\n",
              "      Upload widget is only available when the cell has been executed in the\n",
              "      current browser session. Please rerun this cell to enable.\n",
              "      </output>\n",
              "      <script>// Copyright 2017 Google LLC\n",
              "//\n",
              "// Licensed under the Apache License, Version 2.0 (the \"License\");\n",
              "// you may not use this file except in compliance with the License.\n",
              "// You may obtain a copy of the License at\n",
              "//\n",
              "//      http://www.apache.org/licenses/LICENSE-2.0\n",
              "//\n",
              "// Unless required by applicable law or agreed to in writing, software\n",
              "// distributed under the License is distributed on an \"AS IS\" BASIS,\n",
              "// WITHOUT WARRANTIES OR CONDITIONS OF ANY KIND, either express or implied.\n",
              "// See the License for the specific language governing permissions and\n",
              "// limitations under the License.\n",
              "\n",
              "/**\n",
              " * @fileoverview Helpers for google.colab Python module.\n",
              " */\n",
              "(function(scope) {\n",
              "function span(text, styleAttributes = {}) {\n",
              "  const element = document.createElement('span');\n",
              "  element.textContent = text;\n",
              "  for (const key of Object.keys(styleAttributes)) {\n",
              "    element.style[key] = styleAttributes[key];\n",
              "  }\n",
              "  return element;\n",
              "}\n",
              "\n",
              "// Max number of bytes which will be uploaded at a time.\n",
              "const MAX_PAYLOAD_SIZE = 100 * 1024;\n",
              "\n",
              "function _uploadFiles(inputId, outputId) {\n",
              "  const steps = uploadFilesStep(inputId, outputId);\n",
              "  const outputElement = document.getElementById(outputId);\n",
              "  // Cache steps on the outputElement to make it available for the next call\n",
              "  // to uploadFilesContinue from Python.\n",
              "  outputElement.steps = steps;\n",
              "\n",
              "  return _uploadFilesContinue(outputId);\n",
              "}\n",
              "\n",
              "// This is roughly an async generator (not supported in the browser yet),\n",
              "// where there are multiple asynchronous steps and the Python side is going\n",
              "// to poll for completion of each step.\n",
              "// This uses a Promise to block the python side on completion of each step,\n",
              "// then passes the result of the previous step as the input to the next step.\n",
              "function _uploadFilesContinue(outputId) {\n",
              "  const outputElement = document.getElementById(outputId);\n",
              "  const steps = outputElement.steps;\n",
              "\n",
              "  const next = steps.next(outputElement.lastPromiseValue);\n",
              "  return Promise.resolve(next.value.promise).then((value) => {\n",
              "    // Cache the last promise value to make it available to the next\n",
              "    // step of the generator.\n",
              "    outputElement.lastPromiseValue = value;\n",
              "    return next.value.response;\n",
              "  });\n",
              "}\n",
              "\n",
              "/**\n",
              " * Generator function which is called between each async step of the upload\n",
              " * process.\n",
              " * @param {string} inputId Element ID of the input file picker element.\n",
              " * @param {string} outputId Element ID of the output display.\n",
              " * @return {!Iterable<!Object>} Iterable of next steps.\n",
              " */\n",
              "function* uploadFilesStep(inputId, outputId) {\n",
              "  const inputElement = document.getElementById(inputId);\n",
              "  inputElement.disabled = false;\n",
              "\n",
              "  const outputElement = document.getElementById(outputId);\n",
              "  outputElement.innerHTML = '';\n",
              "\n",
              "  const pickedPromise = new Promise((resolve) => {\n",
              "    inputElement.addEventListener('change', (e) => {\n",
              "      resolve(e.target.files);\n",
              "    });\n",
              "  });\n",
              "\n",
              "  const cancel = document.createElement('button');\n",
              "  inputElement.parentElement.appendChild(cancel);\n",
              "  cancel.textContent = 'Cancel upload';\n",
              "  const cancelPromise = new Promise((resolve) => {\n",
              "    cancel.onclick = () => {\n",
              "      resolve(null);\n",
              "    };\n",
              "  });\n",
              "\n",
              "  // Wait for the user to pick the files.\n",
              "  const files = yield {\n",
              "    promise: Promise.race([pickedPromise, cancelPromise]),\n",
              "    response: {\n",
              "      action: 'starting',\n",
              "    }\n",
              "  };\n",
              "\n",
              "  cancel.remove();\n",
              "\n",
              "  // Disable the input element since further picks are not allowed.\n",
              "  inputElement.disabled = true;\n",
              "\n",
              "  if (!files) {\n",
              "    return {\n",
              "      response: {\n",
              "        action: 'complete',\n",
              "      }\n",
              "    };\n",
              "  }\n",
              "\n",
              "  for (const file of files) {\n",
              "    const li = document.createElement('li');\n",
              "    li.append(span(file.name, {fontWeight: 'bold'}));\n",
              "    li.append(span(\n",
              "        `(${file.type || 'n/a'}) - ${file.size} bytes, ` +\n",
              "        `last modified: ${\n",
              "            file.lastModifiedDate ? file.lastModifiedDate.toLocaleDateString() :\n",
              "                                    'n/a'} - `));\n",
              "    const percent = span('0% done');\n",
              "    li.appendChild(percent);\n",
              "\n",
              "    outputElement.appendChild(li);\n",
              "\n",
              "    const fileDataPromise = new Promise((resolve) => {\n",
              "      const reader = new FileReader();\n",
              "      reader.onload = (e) => {\n",
              "        resolve(e.target.result);\n",
              "      };\n",
              "      reader.readAsArrayBuffer(file);\n",
              "    });\n",
              "    // Wait for the data to be ready.\n",
              "    let fileData = yield {\n",
              "      promise: fileDataPromise,\n",
              "      response: {\n",
              "        action: 'continue',\n",
              "      }\n",
              "    };\n",
              "\n",
              "    // Use a chunked sending to avoid message size limits. See b/62115660.\n",
              "    let position = 0;\n",
              "    do {\n",
              "      const length = Math.min(fileData.byteLength - position, MAX_PAYLOAD_SIZE);\n",
              "      const chunk = new Uint8Array(fileData, position, length);\n",
              "      position += length;\n",
              "\n",
              "      const base64 = btoa(String.fromCharCode.apply(null, chunk));\n",
              "      yield {\n",
              "        response: {\n",
              "          action: 'append',\n",
              "          file: file.name,\n",
              "          data: base64,\n",
              "        },\n",
              "      };\n",
              "\n",
              "      let percentDone = fileData.byteLength === 0 ?\n",
              "          100 :\n",
              "          Math.round((position / fileData.byteLength) * 100);\n",
              "      percent.textContent = `${percentDone}% done`;\n",
              "\n",
              "    } while (position < fileData.byteLength);\n",
              "  }\n",
              "\n",
              "  // All done.\n",
              "  yield {\n",
              "    response: {\n",
              "      action: 'complete',\n",
              "    }\n",
              "  };\n",
              "}\n",
              "\n",
              "scope.google = scope.google || {};\n",
              "scope.google.colab = scope.google.colab || {};\n",
              "scope.google.colab._files = {\n",
              "  _uploadFiles,\n",
              "  _uploadFilesContinue,\n",
              "};\n",
              "})(self);\n",
              "</script> "
            ]
          },
          "metadata": {}
        },
        {
          "output_type": "stream",
          "name": "stdout",
          "text": [
            "Saving cidades-bruto.csv to cidades-bruto.csv\n"
          ]
        }
      ]
    },
    {
      "cell_type": "code",
      "source": [
        "fonte_df = pd.read_csv(io.BytesIO(arquivo_fonte['cidades-bruto.csv']))"
      ],
      "metadata": {
        "id": "ch5pq5WQZO3j"
      },
      "execution_count": null,
      "outputs": []
    },
    {
      "cell_type": "code",
      "metadata": {
        "id": "2NKpI4h9Yq95",
        "colab": {
          "base_uri": "https://localhost:8080/",
          "height": 530
        },
        "outputId": "f4b14687-4063-4389-9f51-2e86c8308577"
      },
      "source": [
        "# visualize os resultados\n",
        "\n",
        "fonte_df.head()"
      ],
      "execution_count": null,
      "outputs": [
        {
          "output_type": "execute_result",
          "data": {
            "text/plain": [
              "                                               FID   gid                 UF  \\\n",
              "0  vw_pib_percapita.fid-4514e25a_17aaa325034_-258f   215              BAHIA   \n",
              "1  vw_pib_percapita.fid-4514e25a_17aaa325034_-258e   306  RIO GRANDE DO SUL   \n",
              "2  vw_pib_percapita.fid-4514e25a_17aaa325034_-258d   900     ESPIRITO SANTO   \n",
              "3  vw_pib_percapita.fid-4514e25a_17aaa325034_-258c  3613       MINAS GERAIS   \n",
              "4  vw_pib_percapita.fid-4514e25a_17aaa325034_-258b  1028              PIAUÍ   \n",
              "\n",
              "        nome   Censo           PIB  Pop_est_2009  PIB_percapita  \\\n",
              "0   Tremedal  2010.0  5.788399e+04         18433    3140.239990   \n",
              "1     Turuçu  2010.0  4.572388e+04          4000   11430.969727   \n",
              "2    Vitória  2010.0  1.978263e+07        320156   61790.589844   \n",
              "3  Jacutinga  2010.0  2.478160e+05         21424   11567.209961   \n",
              "4    Nazária  2010.0  2.095138e+04          7895    2653.750000   \n",
              "\n",
              "                          Descrição               legenda  classe  \\\n",
              "0  Produto Interno Bruto per capita             - 9639.65       1   \n",
              "1  Produto Interno Bruto per capita    9639.65 - 22144.80       2   \n",
              "2  Produto Interno Bruto per capita  52702.10 - 133669.00       4   \n",
              "3  Produto Interno Bruto per capita    9639.65 - 22144.80       2   \n",
              "4  Produto Interno Bruto per capita             - 9639.65       1   \n",
              "\n",
              "                                                geom  \n",
              "0  MULTIPOLYGON (((-41.458803305191566 -14.781415...  \n",
              "1  MULTIPOLYGON (((-52.035349932081274 -31.567509...  \n",
              "2  MULTIPOLYGON (((-40.3292566978242 -20.23997417...  \n",
              "3  MULTIPOLYGON (((-46.50528160015326 -22.3400120...  \n",
              "4  POLYGON ((-42.826685407155495 -5.3480291684437...  "
            ],
            "text/html": [
              "\n",
              "  <div id=\"df-6fb99fc3-64da-4f98-b874-5bf99ab2eb41\">\n",
              "    <div class=\"colab-df-container\">\n",
              "      <div>\n",
              "<style scoped>\n",
              "    .dataframe tbody tr th:only-of-type {\n",
              "        vertical-align: middle;\n",
              "    }\n",
              "\n",
              "    .dataframe tbody tr th {\n",
              "        vertical-align: top;\n",
              "    }\n",
              "\n",
              "    .dataframe thead th {\n",
              "        text-align: right;\n",
              "    }\n",
              "</style>\n",
              "<table border=\"1\" class=\"dataframe\">\n",
              "  <thead>\n",
              "    <tr style=\"text-align: right;\">\n",
              "      <th></th>\n",
              "      <th>FID</th>\n",
              "      <th>gid</th>\n",
              "      <th>UF</th>\n",
              "      <th>nome</th>\n",
              "      <th>Censo</th>\n",
              "      <th>PIB</th>\n",
              "      <th>Pop_est_2009</th>\n",
              "      <th>PIB_percapita</th>\n",
              "      <th>Descrição</th>\n",
              "      <th>legenda</th>\n",
              "      <th>classe</th>\n",
              "      <th>geom</th>\n",
              "    </tr>\n",
              "  </thead>\n",
              "  <tbody>\n",
              "    <tr>\n",
              "      <th>0</th>\n",
              "      <td>vw_pib_percapita.fid-4514e25a_17aaa325034_-258f</td>\n",
              "      <td>215</td>\n",
              "      <td>BAHIA</td>\n",
              "      <td>Tremedal</td>\n",
              "      <td>2010.0</td>\n",
              "      <td>5.788399e+04</td>\n",
              "      <td>18433</td>\n",
              "      <td>3140.239990</td>\n",
              "      <td>Produto Interno Bruto per capita</td>\n",
              "      <td>- 9639.65</td>\n",
              "      <td>1</td>\n",
              "      <td>MULTIPOLYGON (((-41.458803305191566 -14.781415...</td>\n",
              "    </tr>\n",
              "    <tr>\n",
              "      <th>1</th>\n",
              "      <td>vw_pib_percapita.fid-4514e25a_17aaa325034_-258e</td>\n",
              "      <td>306</td>\n",
              "      <td>RIO GRANDE DO SUL</td>\n",
              "      <td>Turuçu</td>\n",
              "      <td>2010.0</td>\n",
              "      <td>4.572388e+04</td>\n",
              "      <td>4000</td>\n",
              "      <td>11430.969727</td>\n",
              "      <td>Produto Interno Bruto per capita</td>\n",
              "      <td>9639.65 - 22144.80</td>\n",
              "      <td>2</td>\n",
              "      <td>MULTIPOLYGON (((-52.035349932081274 -31.567509...</td>\n",
              "    </tr>\n",
              "    <tr>\n",
              "      <th>2</th>\n",
              "      <td>vw_pib_percapita.fid-4514e25a_17aaa325034_-258d</td>\n",
              "      <td>900</td>\n",
              "      <td>ESPIRITO SANTO</td>\n",
              "      <td>Vitória</td>\n",
              "      <td>2010.0</td>\n",
              "      <td>1.978263e+07</td>\n",
              "      <td>320156</td>\n",
              "      <td>61790.589844</td>\n",
              "      <td>Produto Interno Bruto per capita</td>\n",
              "      <td>52702.10 - 133669.00</td>\n",
              "      <td>4</td>\n",
              "      <td>MULTIPOLYGON (((-40.3292566978242 -20.23997417...</td>\n",
              "    </tr>\n",
              "    <tr>\n",
              "      <th>3</th>\n",
              "      <td>vw_pib_percapita.fid-4514e25a_17aaa325034_-258c</td>\n",
              "      <td>3613</td>\n",
              "      <td>MINAS GERAIS</td>\n",
              "      <td>Jacutinga</td>\n",
              "      <td>2010.0</td>\n",
              "      <td>2.478160e+05</td>\n",
              "      <td>21424</td>\n",
              "      <td>11567.209961</td>\n",
              "      <td>Produto Interno Bruto per capita</td>\n",
              "      <td>9639.65 - 22144.80</td>\n",
              "      <td>2</td>\n",
              "      <td>MULTIPOLYGON (((-46.50528160015326 -22.3400120...</td>\n",
              "    </tr>\n",
              "    <tr>\n",
              "      <th>4</th>\n",
              "      <td>vw_pib_percapita.fid-4514e25a_17aaa325034_-258b</td>\n",
              "      <td>1028</td>\n",
              "      <td>PIAUÍ</td>\n",
              "      <td>Nazária</td>\n",
              "      <td>2010.0</td>\n",
              "      <td>2.095138e+04</td>\n",
              "      <td>7895</td>\n",
              "      <td>2653.750000</td>\n",
              "      <td>Produto Interno Bruto per capita</td>\n",
              "      <td>- 9639.65</td>\n",
              "      <td>1</td>\n",
              "      <td>POLYGON ((-42.826685407155495 -5.3480291684437...</td>\n",
              "    </tr>\n",
              "  </tbody>\n",
              "</table>\n",
              "</div>\n",
              "      <button class=\"colab-df-convert\" onclick=\"convertToInteractive('df-6fb99fc3-64da-4f98-b874-5bf99ab2eb41')\"\n",
              "              title=\"Convert this dataframe to an interactive table.\"\n",
              "              style=\"display:none;\">\n",
              "        \n",
              "  <svg xmlns=\"http://www.w3.org/2000/svg\" height=\"24px\"viewBox=\"0 0 24 24\"\n",
              "       width=\"24px\">\n",
              "    <path d=\"M0 0h24v24H0V0z\" fill=\"none\"/>\n",
              "    <path d=\"M18.56 5.44l.94 2.06.94-2.06 2.06-.94-2.06-.94-.94-2.06-.94 2.06-2.06.94zm-11 1L8.5 8.5l.94-2.06 2.06-.94-2.06-.94L8.5 2.5l-.94 2.06-2.06.94zm10 10l.94 2.06.94-2.06 2.06-.94-2.06-.94-.94-2.06-.94 2.06-2.06.94z\"/><path d=\"M17.41 7.96l-1.37-1.37c-.4-.4-.92-.59-1.43-.59-.52 0-1.04.2-1.43.59L10.3 9.45l-7.72 7.72c-.78.78-.78 2.05 0 2.83L4 21.41c.39.39.9.59 1.41.59.51 0 1.02-.2 1.41-.59l7.78-7.78 2.81-2.81c.8-.78.8-2.07 0-2.86zM5.41 20L4 18.59l7.72-7.72 1.47 1.35L5.41 20z\"/>\n",
              "  </svg>\n",
              "      </button>\n",
              "      \n",
              "  <style>\n",
              "    .colab-df-container {\n",
              "      display:flex;\n",
              "      flex-wrap:wrap;\n",
              "      gap: 12px;\n",
              "    }\n",
              "\n",
              "    .colab-df-convert {\n",
              "      background-color: #E8F0FE;\n",
              "      border: none;\n",
              "      border-radius: 50%;\n",
              "      cursor: pointer;\n",
              "      display: none;\n",
              "      fill: #1967D2;\n",
              "      height: 32px;\n",
              "      padding: 0 0 0 0;\n",
              "      width: 32px;\n",
              "    }\n",
              "\n",
              "    .colab-df-convert:hover {\n",
              "      background-color: #E2EBFA;\n",
              "      box-shadow: 0px 1px 2px rgba(60, 64, 67, 0.3), 0px 1px 3px 1px rgba(60, 64, 67, 0.15);\n",
              "      fill: #174EA6;\n",
              "    }\n",
              "\n",
              "    [theme=dark] .colab-df-convert {\n",
              "      background-color: #3B4455;\n",
              "      fill: #D2E3FC;\n",
              "    }\n",
              "\n",
              "    [theme=dark] .colab-df-convert:hover {\n",
              "      background-color: #434B5C;\n",
              "      box-shadow: 0px 1px 3px 1px rgba(0, 0, 0, 0.15);\n",
              "      filter: drop-shadow(0px 1px 2px rgba(0, 0, 0, 0.3));\n",
              "      fill: #FFFFFF;\n",
              "    }\n",
              "  </style>\n",
              "\n",
              "      <script>\n",
              "        const buttonEl =\n",
              "          document.querySelector('#df-6fb99fc3-64da-4f98-b874-5bf99ab2eb41 button.colab-df-convert');\n",
              "        buttonEl.style.display =\n",
              "          google.colab.kernel.accessAllowed ? 'block' : 'none';\n",
              "\n",
              "        async function convertToInteractive(key) {\n",
              "          const element = document.querySelector('#df-6fb99fc3-64da-4f98-b874-5bf99ab2eb41');\n",
              "          const dataTable =\n",
              "            await google.colab.kernel.invokeFunction('convertToInteractive',\n",
              "                                                     [key], {});\n",
              "          if (!dataTable) return;\n",
              "\n",
              "          const docLinkHtml = 'Like what you see? Visit the ' +\n",
              "            '<a target=\"_blank\" href=https://colab.research.google.com/notebooks/data_table.ipynb>data table notebook</a>'\n",
              "            + ' to learn more about interactive tables.';\n",
              "          element.innerHTML = '';\n",
              "          dataTable['output_type'] = 'display_data';\n",
              "          await google.colab.output.renderOutput(dataTable, element);\n",
              "          const docLink = document.createElement('div');\n",
              "          docLink.innerHTML = docLinkHtml;\n",
              "          element.appendChild(docLink);\n",
              "        }\n",
              "      </script>\n",
              "    </div>\n",
              "  </div>\n",
              "  "
            ]
          },
          "metadata": {},
          "execution_count": 14
        }
      ]
    },
    {
      "cell_type": "code",
      "source": [
        "cidades_limpos = fonte_df.query('Censo == 2010')[['UF', 'nome','Pop_est_2009', 'PIB','PIB_percapita']]"
      ],
      "metadata": {
        "id": "_ZblKsEhxJcv"
      },
      "execution_count": null,
      "outputs": []
    },
    {
      "cell_type": "code",
      "source": [
        "cidades_limpos"
      ],
      "metadata": {
        "colab": {
          "base_uri": "https://localhost:8080/",
          "height": 423
        },
        "id": "mM9XBoknbxBz",
        "outputId": "94adef53-e871-4eaf-c5ae-b7f8e6f4e736"
      },
      "execution_count": null,
      "outputs": [
        {
          "output_type": "execute_result",
          "data": {
            "text/plain": [
              "                     UF              nome  Pop_est_2009           PIB  \\\n",
              "0                 BAHIA          Tremedal         18433  5.788399e+04   \n",
              "1     RIO GRANDE DO SUL            Turuçu          4000  4.572388e+04   \n",
              "2        ESPIRITO SANTO           Vitória        320156  1.978263e+07   \n",
              "3          MINAS GERAIS         Jacutinga         21424  2.478160e+05   \n",
              "4                 PIAUÍ           Nazária          7895  2.095138e+04   \n",
              "...                 ...               ...           ...           ...   \n",
              "5561     SANTA CATARINA         Campo Erê          9737  1.876289e+05   \n",
              "5562             PARANÁ          Planalto         13983  1.385535e+05   \n",
              "5563          SÃO PAULO        Guararapes         29639  5.320191e+05   \n",
              "5564  RIO GRANDE DO SUL  Barra do Guarita          3067  2.198064e+04   \n",
              "5565  RIO GRANDE DO SUL        Machadinho          5623  5.715017e+04   \n",
              "\n",
              "      PIB_percapita  \n",
              "0       3140.239990  \n",
              "1      11430.969727  \n",
              "2      61790.589844  \n",
              "3      11567.209961  \n",
              "4       2653.750000  \n",
              "...             ...  \n",
              "5561   19269.679688  \n",
              "5562    9908.709961  \n",
              "5563   17949.970703  \n",
              "5564    7166.819824  \n",
              "5565   10163.639648  \n",
              "\n",
              "[5555 rows x 5 columns]"
            ],
            "text/html": [
              "\n",
              "  <div id=\"df-ef3853e8-9f18-451a-9e59-bf5427da53a5\">\n",
              "    <div class=\"colab-df-container\">\n",
              "      <div>\n",
              "<style scoped>\n",
              "    .dataframe tbody tr th:only-of-type {\n",
              "        vertical-align: middle;\n",
              "    }\n",
              "\n",
              "    .dataframe tbody tr th {\n",
              "        vertical-align: top;\n",
              "    }\n",
              "\n",
              "    .dataframe thead th {\n",
              "        text-align: right;\n",
              "    }\n",
              "</style>\n",
              "<table border=\"1\" class=\"dataframe\">\n",
              "  <thead>\n",
              "    <tr style=\"text-align: right;\">\n",
              "      <th></th>\n",
              "      <th>UF</th>\n",
              "      <th>nome</th>\n",
              "      <th>Pop_est_2009</th>\n",
              "      <th>PIB</th>\n",
              "      <th>PIB_percapita</th>\n",
              "    </tr>\n",
              "  </thead>\n",
              "  <tbody>\n",
              "    <tr>\n",
              "      <th>0</th>\n",
              "      <td>BAHIA</td>\n",
              "      <td>Tremedal</td>\n",
              "      <td>18433</td>\n",
              "      <td>5.788399e+04</td>\n",
              "      <td>3140.239990</td>\n",
              "    </tr>\n",
              "    <tr>\n",
              "      <th>1</th>\n",
              "      <td>RIO GRANDE DO SUL</td>\n",
              "      <td>Turuçu</td>\n",
              "      <td>4000</td>\n",
              "      <td>4.572388e+04</td>\n",
              "      <td>11430.969727</td>\n",
              "    </tr>\n",
              "    <tr>\n",
              "      <th>2</th>\n",
              "      <td>ESPIRITO SANTO</td>\n",
              "      <td>Vitória</td>\n",
              "      <td>320156</td>\n",
              "      <td>1.978263e+07</td>\n",
              "      <td>61790.589844</td>\n",
              "    </tr>\n",
              "    <tr>\n",
              "      <th>3</th>\n",
              "      <td>MINAS GERAIS</td>\n",
              "      <td>Jacutinga</td>\n",
              "      <td>21424</td>\n",
              "      <td>2.478160e+05</td>\n",
              "      <td>11567.209961</td>\n",
              "    </tr>\n",
              "    <tr>\n",
              "      <th>4</th>\n",
              "      <td>PIAUÍ</td>\n",
              "      <td>Nazária</td>\n",
              "      <td>7895</td>\n",
              "      <td>2.095138e+04</td>\n",
              "      <td>2653.750000</td>\n",
              "    </tr>\n",
              "    <tr>\n",
              "      <th>...</th>\n",
              "      <td>...</td>\n",
              "      <td>...</td>\n",
              "      <td>...</td>\n",
              "      <td>...</td>\n",
              "      <td>...</td>\n",
              "    </tr>\n",
              "    <tr>\n",
              "      <th>5561</th>\n",
              "      <td>SANTA CATARINA</td>\n",
              "      <td>Campo Erê</td>\n",
              "      <td>9737</td>\n",
              "      <td>1.876289e+05</td>\n",
              "      <td>19269.679688</td>\n",
              "    </tr>\n",
              "    <tr>\n",
              "      <th>5562</th>\n",
              "      <td>PARANÁ</td>\n",
              "      <td>Planalto</td>\n",
              "      <td>13983</td>\n",
              "      <td>1.385535e+05</td>\n",
              "      <td>9908.709961</td>\n",
              "    </tr>\n",
              "    <tr>\n",
              "      <th>5563</th>\n",
              "      <td>SÃO PAULO</td>\n",
              "      <td>Guararapes</td>\n",
              "      <td>29639</td>\n",
              "      <td>5.320191e+05</td>\n",
              "      <td>17949.970703</td>\n",
              "    </tr>\n",
              "    <tr>\n",
              "      <th>5564</th>\n",
              "      <td>RIO GRANDE DO SUL</td>\n",
              "      <td>Barra do Guarita</td>\n",
              "      <td>3067</td>\n",
              "      <td>2.198064e+04</td>\n",
              "      <td>7166.819824</td>\n",
              "    </tr>\n",
              "    <tr>\n",
              "      <th>5565</th>\n",
              "      <td>RIO GRANDE DO SUL</td>\n",
              "      <td>Machadinho</td>\n",
              "      <td>5623</td>\n",
              "      <td>5.715017e+04</td>\n",
              "      <td>10163.639648</td>\n",
              "    </tr>\n",
              "  </tbody>\n",
              "</table>\n",
              "<p>5555 rows × 5 columns</p>\n",
              "</div>\n",
              "      <button class=\"colab-df-convert\" onclick=\"convertToInteractive('df-ef3853e8-9f18-451a-9e59-bf5427da53a5')\"\n",
              "              title=\"Convert this dataframe to an interactive table.\"\n",
              "              style=\"display:none;\">\n",
              "        \n",
              "  <svg xmlns=\"http://www.w3.org/2000/svg\" height=\"24px\"viewBox=\"0 0 24 24\"\n",
              "       width=\"24px\">\n",
              "    <path d=\"M0 0h24v24H0V0z\" fill=\"none\"/>\n",
              "    <path d=\"M18.56 5.44l.94 2.06.94-2.06 2.06-.94-2.06-.94-.94-2.06-.94 2.06-2.06.94zm-11 1L8.5 8.5l.94-2.06 2.06-.94-2.06-.94L8.5 2.5l-.94 2.06-2.06.94zm10 10l.94 2.06.94-2.06 2.06-.94-2.06-.94-.94-2.06-.94 2.06-2.06.94z\"/><path d=\"M17.41 7.96l-1.37-1.37c-.4-.4-.92-.59-1.43-.59-.52 0-1.04.2-1.43.59L10.3 9.45l-7.72 7.72c-.78.78-.78 2.05 0 2.83L4 21.41c.39.39.9.59 1.41.59.51 0 1.02-.2 1.41-.59l7.78-7.78 2.81-2.81c.8-.78.8-2.07 0-2.86zM5.41 20L4 18.59l7.72-7.72 1.47 1.35L5.41 20z\"/>\n",
              "  </svg>\n",
              "      </button>\n",
              "      \n",
              "  <style>\n",
              "    .colab-df-container {\n",
              "      display:flex;\n",
              "      flex-wrap:wrap;\n",
              "      gap: 12px;\n",
              "    }\n",
              "\n",
              "    .colab-df-convert {\n",
              "      background-color: #E8F0FE;\n",
              "      border: none;\n",
              "      border-radius: 50%;\n",
              "      cursor: pointer;\n",
              "      display: none;\n",
              "      fill: #1967D2;\n",
              "      height: 32px;\n",
              "      padding: 0 0 0 0;\n",
              "      width: 32px;\n",
              "    }\n",
              "\n",
              "    .colab-df-convert:hover {\n",
              "      background-color: #E2EBFA;\n",
              "      box-shadow: 0px 1px 2px rgba(60, 64, 67, 0.3), 0px 1px 3px 1px rgba(60, 64, 67, 0.15);\n",
              "      fill: #174EA6;\n",
              "    }\n",
              "\n",
              "    [theme=dark] .colab-df-convert {\n",
              "      background-color: #3B4455;\n",
              "      fill: #D2E3FC;\n",
              "    }\n",
              "\n",
              "    [theme=dark] .colab-df-convert:hover {\n",
              "      background-color: #434B5C;\n",
              "      box-shadow: 0px 1px 3px 1px rgba(0, 0, 0, 0.15);\n",
              "      filter: drop-shadow(0px 1px 2px rgba(0, 0, 0, 0.3));\n",
              "      fill: #FFFFFF;\n",
              "    }\n",
              "  </style>\n",
              "\n",
              "      <script>\n",
              "        const buttonEl =\n",
              "          document.querySelector('#df-ef3853e8-9f18-451a-9e59-bf5427da53a5 button.colab-df-convert');\n",
              "        buttonEl.style.display =\n",
              "          google.colab.kernel.accessAllowed ? 'block' : 'none';\n",
              "\n",
              "        async function convertToInteractive(key) {\n",
              "          const element = document.querySelector('#df-ef3853e8-9f18-451a-9e59-bf5427da53a5');\n",
              "          const dataTable =\n",
              "            await google.colab.kernel.invokeFunction('convertToInteractive',\n",
              "                                                     [key], {});\n",
              "          if (!dataTable) return;\n",
              "\n",
              "          const docLinkHtml = 'Like what you see? Visit the ' +\n",
              "            '<a target=\"_blank\" href=https://colab.research.google.com/notebooks/data_table.ipynb>data table notebook</a>'\n",
              "            + ' to learn more about interactive tables.';\n",
              "          element.innerHTML = '';\n",
              "          dataTable['output_type'] = 'display_data';\n",
              "          await google.colab.output.renderOutput(dataTable, element);\n",
              "          const docLink = document.createElement('div');\n",
              "          docLink.innerHTML = docLinkHtml;\n",
              "          element.appendChild(docLink);\n",
              "        }\n",
              "      </script>\n",
              "    </div>\n",
              "  </div>\n",
              "  "
            ]
          },
          "metadata": {},
          "execution_count": 16
        }
      ]
    },
    {
      "cell_type": "code",
      "source": [
        "cidades_limpos.rename(columns={'UF': 'estado','nome':'cidade','Pop_est_2009':'populacao',}, inplace = True)"
      ],
      "metadata": {
        "id": "HmLRq1vOxoHA"
      },
      "execution_count": null,
      "outputs": []
    },
    {
      "cell_type": "code",
      "source": [
        "cidades_limpos.columns"
      ],
      "metadata": {
        "colab": {
          "base_uri": "https://localhost:8080/"
        },
        "id": "vKxg98b4pwqx",
        "outputId": "1de4d76f-94fb-4354-9b5c-8a8dda1e0bfc"
      },
      "execution_count": null,
      "outputs": [
        {
          "output_type": "execute_result",
          "data": {
            "text/plain": [
              "Index(['estado', 'cidade', 'populacao', 'PIB', 'PIB_percapita'], dtype='object')"
            ]
          },
          "metadata": {},
          "execution_count": 18
        }
      ]
    },
    {
      "cell_type": "code",
      "metadata": {
        "id": "GcAWBfwhYq96"
      },
      "source": [
        "# escrever o conteudo extraido no arquivo cidades-limpo.csv separados por ;\n",
        "\n",
        "NOME_ARQUIVO_DESTINO = 'cidades-limpo.csv'\n",
        "\n",
        "# continue o codigo aqui"
      ],
      "execution_count": null,
      "outputs": []
    },
    {
      "cell_type": "code",
      "source": [
        "cidades_limpos.to_csv('cidades-limpo.csv',index= False)"
      ],
      "metadata": {
        "id": "uFrRdkyADVXj"
      },
      "execution_count": null,
      "outputs": []
    },
    {
      "cell_type": "markdown",
      "metadata": {
        "id": "EBzoHVD8b_c7"
      },
      "source": [
        "### **1.3. Brasil** "
      ]
    },
    {
      "cell_type": "markdown",
      "metadata": {
        "id": "Ft6l5bDwb_c7"
      },
      "source": [
        "Utilize o pacote Python `pandas` para combinar os dados do arquivo `estados-limpo.csv` com os dados do arquivo `cidades-limpo.csv` em um único dataframe. Escolha a coluna e o método de combinação de tal forma que **não haja perda de dados** no processo (não produzirá valores nulos `NaN`). Salve os dados do dataframe no arquivo `brasil.csv`"
      ]
    },
    {
      "cell_type": "code",
      "metadata": {
        "id": "Vz3J7G4-dBXa"
      },
      "source": [
        "# solução do exercício 1.3"
      ],
      "execution_count": null,
      "outputs": []
    },
    {
      "cell_type": "code",
      "metadata": {
        "id": "eH37hPOf15FS"
      },
      "source": [
        "import pandas as pd\n",
        "\n",
        "cidades_df = pd.read_csv('cidades-limpo.csv', sep=',')"
      ],
      "execution_count": null,
      "outputs": []
    },
    {
      "cell_type": "code",
      "source": [
        "cidades_df"
      ],
      "metadata": {
        "colab": {
          "base_uri": "https://localhost:8080/",
          "height": 423
        },
        "id": "GzttDYUr2oLA",
        "outputId": "abf45899-31af-424c-86eb-96768189fbbf"
      },
      "execution_count": null,
      "outputs": [
        {
          "output_type": "execute_result",
          "data": {
            "text/plain": [
              "                 estado            cidade  populacao           PIB  \\\n",
              "0                 BAHIA          Tremedal      18433  5.788399e+04   \n",
              "1     RIO GRANDE DO SUL            Turuçu       4000  4.572388e+04   \n",
              "2        ESPIRITO SANTO           Vitória     320156  1.978263e+07   \n",
              "3          MINAS GERAIS         Jacutinga      21424  2.478160e+05   \n",
              "4                 PIAUÍ           Nazária       7895  2.095138e+04   \n",
              "...                 ...               ...        ...           ...   \n",
              "5550     SANTA CATARINA         Campo Erê       9737  1.876289e+05   \n",
              "5551             PARANÁ          Planalto      13983  1.385535e+05   \n",
              "5552          SÃO PAULO        Guararapes      29639  5.320191e+05   \n",
              "5553  RIO GRANDE DO SUL  Barra do Guarita       3067  2.198064e+04   \n",
              "5554  RIO GRANDE DO SUL        Machadinho       5623  5.715017e+04   \n",
              "\n",
              "      PIB_percapita  \n",
              "0       3140.239990  \n",
              "1      11430.969727  \n",
              "2      61790.589844  \n",
              "3      11567.209961  \n",
              "4       2653.750000  \n",
              "...             ...  \n",
              "5550   19269.679688  \n",
              "5551    9908.709961  \n",
              "5552   17949.970703  \n",
              "5553    7166.819824  \n",
              "5554   10163.639648  \n",
              "\n",
              "[5555 rows x 5 columns]"
            ],
            "text/html": [
              "\n",
              "  <div id=\"df-7cb6e6bc-b346-4252-8276-8c98f8ce7660\">\n",
              "    <div class=\"colab-df-container\">\n",
              "      <div>\n",
              "<style scoped>\n",
              "    .dataframe tbody tr th:only-of-type {\n",
              "        vertical-align: middle;\n",
              "    }\n",
              "\n",
              "    .dataframe tbody tr th {\n",
              "        vertical-align: top;\n",
              "    }\n",
              "\n",
              "    .dataframe thead th {\n",
              "        text-align: right;\n",
              "    }\n",
              "</style>\n",
              "<table border=\"1\" class=\"dataframe\">\n",
              "  <thead>\n",
              "    <tr style=\"text-align: right;\">\n",
              "      <th></th>\n",
              "      <th>estado</th>\n",
              "      <th>cidade</th>\n",
              "      <th>populacao</th>\n",
              "      <th>PIB</th>\n",
              "      <th>PIB_percapita</th>\n",
              "    </tr>\n",
              "  </thead>\n",
              "  <tbody>\n",
              "    <tr>\n",
              "      <th>0</th>\n",
              "      <td>BAHIA</td>\n",
              "      <td>Tremedal</td>\n",
              "      <td>18433</td>\n",
              "      <td>5.788399e+04</td>\n",
              "      <td>3140.239990</td>\n",
              "    </tr>\n",
              "    <tr>\n",
              "      <th>1</th>\n",
              "      <td>RIO GRANDE DO SUL</td>\n",
              "      <td>Turuçu</td>\n",
              "      <td>4000</td>\n",
              "      <td>4.572388e+04</td>\n",
              "      <td>11430.969727</td>\n",
              "    </tr>\n",
              "    <tr>\n",
              "      <th>2</th>\n",
              "      <td>ESPIRITO SANTO</td>\n",
              "      <td>Vitória</td>\n",
              "      <td>320156</td>\n",
              "      <td>1.978263e+07</td>\n",
              "      <td>61790.589844</td>\n",
              "    </tr>\n",
              "    <tr>\n",
              "      <th>3</th>\n",
              "      <td>MINAS GERAIS</td>\n",
              "      <td>Jacutinga</td>\n",
              "      <td>21424</td>\n",
              "      <td>2.478160e+05</td>\n",
              "      <td>11567.209961</td>\n",
              "    </tr>\n",
              "    <tr>\n",
              "      <th>4</th>\n",
              "      <td>PIAUÍ</td>\n",
              "      <td>Nazária</td>\n",
              "      <td>7895</td>\n",
              "      <td>2.095138e+04</td>\n",
              "      <td>2653.750000</td>\n",
              "    </tr>\n",
              "    <tr>\n",
              "      <th>...</th>\n",
              "      <td>...</td>\n",
              "      <td>...</td>\n",
              "      <td>...</td>\n",
              "      <td>...</td>\n",
              "      <td>...</td>\n",
              "    </tr>\n",
              "    <tr>\n",
              "      <th>5550</th>\n",
              "      <td>SANTA CATARINA</td>\n",
              "      <td>Campo Erê</td>\n",
              "      <td>9737</td>\n",
              "      <td>1.876289e+05</td>\n",
              "      <td>19269.679688</td>\n",
              "    </tr>\n",
              "    <tr>\n",
              "      <th>5551</th>\n",
              "      <td>PARANÁ</td>\n",
              "      <td>Planalto</td>\n",
              "      <td>13983</td>\n",
              "      <td>1.385535e+05</td>\n",
              "      <td>9908.709961</td>\n",
              "    </tr>\n",
              "    <tr>\n",
              "      <th>5552</th>\n",
              "      <td>SÃO PAULO</td>\n",
              "      <td>Guararapes</td>\n",
              "      <td>29639</td>\n",
              "      <td>5.320191e+05</td>\n",
              "      <td>17949.970703</td>\n",
              "    </tr>\n",
              "    <tr>\n",
              "      <th>5553</th>\n",
              "      <td>RIO GRANDE DO SUL</td>\n",
              "      <td>Barra do Guarita</td>\n",
              "      <td>3067</td>\n",
              "      <td>2.198064e+04</td>\n",
              "      <td>7166.819824</td>\n",
              "    </tr>\n",
              "    <tr>\n",
              "      <th>5554</th>\n",
              "      <td>RIO GRANDE DO SUL</td>\n",
              "      <td>Machadinho</td>\n",
              "      <td>5623</td>\n",
              "      <td>5.715017e+04</td>\n",
              "      <td>10163.639648</td>\n",
              "    </tr>\n",
              "  </tbody>\n",
              "</table>\n",
              "<p>5555 rows × 5 columns</p>\n",
              "</div>\n",
              "      <button class=\"colab-df-convert\" onclick=\"convertToInteractive('df-7cb6e6bc-b346-4252-8276-8c98f8ce7660')\"\n",
              "              title=\"Convert this dataframe to an interactive table.\"\n",
              "              style=\"display:none;\">\n",
              "        \n",
              "  <svg xmlns=\"http://www.w3.org/2000/svg\" height=\"24px\"viewBox=\"0 0 24 24\"\n",
              "       width=\"24px\">\n",
              "    <path d=\"M0 0h24v24H0V0z\" fill=\"none\"/>\n",
              "    <path d=\"M18.56 5.44l.94 2.06.94-2.06 2.06-.94-2.06-.94-.94-2.06-.94 2.06-2.06.94zm-11 1L8.5 8.5l.94-2.06 2.06-.94-2.06-.94L8.5 2.5l-.94 2.06-2.06.94zm10 10l.94 2.06.94-2.06 2.06-.94-2.06-.94-.94-2.06-.94 2.06-2.06.94z\"/><path d=\"M17.41 7.96l-1.37-1.37c-.4-.4-.92-.59-1.43-.59-.52 0-1.04.2-1.43.59L10.3 9.45l-7.72 7.72c-.78.78-.78 2.05 0 2.83L4 21.41c.39.39.9.59 1.41.59.51 0 1.02-.2 1.41-.59l7.78-7.78 2.81-2.81c.8-.78.8-2.07 0-2.86zM5.41 20L4 18.59l7.72-7.72 1.47 1.35L5.41 20z\"/>\n",
              "  </svg>\n",
              "      </button>\n",
              "      \n",
              "  <style>\n",
              "    .colab-df-container {\n",
              "      display:flex;\n",
              "      flex-wrap:wrap;\n",
              "      gap: 12px;\n",
              "    }\n",
              "\n",
              "    .colab-df-convert {\n",
              "      background-color: #E8F0FE;\n",
              "      border: none;\n",
              "      border-radius: 50%;\n",
              "      cursor: pointer;\n",
              "      display: none;\n",
              "      fill: #1967D2;\n",
              "      height: 32px;\n",
              "      padding: 0 0 0 0;\n",
              "      width: 32px;\n",
              "    }\n",
              "\n",
              "    .colab-df-convert:hover {\n",
              "      background-color: #E2EBFA;\n",
              "      box-shadow: 0px 1px 2px rgba(60, 64, 67, 0.3), 0px 1px 3px 1px rgba(60, 64, 67, 0.15);\n",
              "      fill: #174EA6;\n",
              "    }\n",
              "\n",
              "    [theme=dark] .colab-df-convert {\n",
              "      background-color: #3B4455;\n",
              "      fill: #D2E3FC;\n",
              "    }\n",
              "\n",
              "    [theme=dark] .colab-df-convert:hover {\n",
              "      background-color: #434B5C;\n",
              "      box-shadow: 0px 1px 3px 1px rgba(0, 0, 0, 0.15);\n",
              "      filter: drop-shadow(0px 1px 2px rgba(0, 0, 0, 0.3));\n",
              "      fill: #FFFFFF;\n",
              "    }\n",
              "  </style>\n",
              "\n",
              "      <script>\n",
              "        const buttonEl =\n",
              "          document.querySelector('#df-7cb6e6bc-b346-4252-8276-8c98f8ce7660 button.colab-df-convert');\n",
              "        buttonEl.style.display =\n",
              "          google.colab.kernel.accessAllowed ? 'block' : 'none';\n",
              "\n",
              "        async function convertToInteractive(key) {\n",
              "          const element = document.querySelector('#df-7cb6e6bc-b346-4252-8276-8c98f8ce7660');\n",
              "          const dataTable =\n",
              "            await google.colab.kernel.invokeFunction('convertToInteractive',\n",
              "                                                     [key], {});\n",
              "          if (!dataTable) return;\n",
              "\n",
              "          const docLinkHtml = 'Like what you see? Visit the ' +\n",
              "            '<a target=\"_blank\" href=https://colab.research.google.com/notebooks/data_table.ipynb>data table notebook</a>'\n",
              "            + ' to learn more about interactive tables.';\n",
              "          element.innerHTML = '';\n",
              "          dataTable['output_type'] = 'display_data';\n",
              "          await google.colab.output.renderOutput(dataTable, element);\n",
              "          const docLink = document.createElement('div');\n",
              "          docLink.innerHTML = docLinkHtml;\n",
              "          element.appendChild(docLink);\n",
              "        }\n",
              "      </script>\n",
              "    </div>\n",
              "  </div>\n",
              "  "
            ]
          },
          "metadata": {},
          "execution_count": 23
        }
      ]
    },
    {
      "cell_type": "code",
      "source": [
        "estados_df['estado'].unique()"
      ],
      "metadata": {
        "colab": {
          "base_uri": "https://localhost:8080/"
        },
        "id": "cQQ7-rGtsCLb",
        "outputId": "d9522cff-3d4d-4fb8-bb35-e33aece600e3"
      },
      "execution_count": null,
      "outputs": [
        {
          "output_type": "execute_result",
          "data": {
            "text/plain": [
              "array(['ACRE', 'ALAGOAS', 'AMAPA', 'AMAZONAS', 'BAHIA', 'CEARA',\n",
              "       'DISTRITO FEDERAL', 'ESPIRITO SANTO', 'GOIAS', 'MARANHAO',\n",
              "       'MATO GROSSO', 'MATO GROSSO DO SUL', 'PARA', 'PARAIBA', 'PARANA',\n",
              "       'PERNAMBUCO', 'PIAUI', 'RIO DE JANEIRO', 'RIO GRANDE DO NORTE',\n",
              "       'RIO GRANDE DO SUL', 'RONDONIA', 'RORAIMA', 'SANTA CATARINA',\n",
              "       'SAO PAULO', 'SERGIPE', 'TOCANTINS', 'MINAS GERAIS'], dtype=object)"
            ]
          },
          "metadata": {},
          "execution_count": 73
        }
      ]
    },
    {
      "cell_type": "code",
      "metadata": {
        "id": "gUCCEiDm273j"
      },
      "source": [
        "estados_df = pd.read_csv('estados-limpo.csv', sep=',')"
      ],
      "execution_count": null,
      "outputs": []
    },
    {
      "cell_type": "code",
      "source": [
        "estados_df"
      ],
      "metadata": {
        "id": "AvBxKccS3CKI"
      },
      "execution_count": null,
      "outputs": []
    },
    {
      "cell_type": "code",
      "source": [
        "cidades_df['estado'].unique() #verificando valores unicos para coluna estado"
      ],
      "metadata": {
        "colab": {
          "base_uri": "https://localhost:8080/"
        },
        "id": "8hTLXeJpsS2P",
        "outputId": "533a0c49-81b4-4e19-ae2f-8399f3cf08b8"
      },
      "execution_count": null,
      "outputs": [
        {
          "output_type": "execute_result",
          "data": {
            "text/plain": [
              "array(['BAHIA', 'RIO GRANDE DO SUL', 'ESPIRITO SANTO', 'MINAS GERAIS',\n",
              "       'PIAUÍ', 'GOIÁS', 'PERNAMBUCO', 'PARÁ', 'SERGIPE', 'SÃO PAULO',\n",
              "       'PARAÍBA', 'TOCANTINS', 'AMAZONAS', 'SANTA CATARINA', 'CEARÁ',\n",
              "       'RORAIMA', 'MARANHÃO', 'RIO DE JANEIRO', 'MATO GROSSO', 'PARANÁ',\n",
              "       'ALAGOAS', 'MATO GROSSO DO SUL', 'ACRE', 'RIO GRANDE DO NORTE',\n",
              "       'RONDÔNIA', 'AMAPÁ', 'DISTRITO FEDERAL'], dtype=object)"
            ]
          },
          "metadata": {},
          "execution_count": 64
        }
      ]
    },
    {
      "cell_type": "code",
      "source": [
        "def corrigir_estados(estado):   #retirando acentuação\n",
        "    estado = estado.replace('Ã', 'A').replace('Í', 'I').replace('Á', 'A').replace('Ô','O')\n",
        "    return estado"
      ],
      "metadata": {
        "id": "GageDMIgzH1T"
      },
      "execution_count": null,
      "outputs": []
    },
    {
      "cell_type": "code",
      "source": [
        "cidades_df['estado'] = cidades_df['estado'].apply(corrigir_estados)  # aplicando no df\n",
        "cidades_df"
      ],
      "metadata": {
        "id": "gQCoZ5RhzrWK"
      },
      "execution_count": null,
      "outputs": []
    },
    {
      "cell_type": "code",
      "source": [
        "cidades_df['estado'].unique()"
      ],
      "metadata": {
        "colab": {
          "base_uri": "https://localhost:8080/"
        },
        "id": "Yc0140FStVsv",
        "outputId": "dbb48c04-b719-464f-815a-24d2d9e5c177"
      },
      "execution_count": null,
      "outputs": [
        {
          "output_type": "execute_result",
          "data": {
            "text/plain": [
              "array(['BAHIA', 'RIO GRANDE DO SUL', 'ESPIRITO SANTO', 'MINAS GERAIS',\n",
              "       'PIAUI', 'GOIAS', 'PERNAMBUCO', 'PARA', 'SERGIPE', 'SAO PAULO',\n",
              "       'PARAIBA', 'TOCANTINS', 'AMAZONAS', 'SANTA CATARINA', 'CEARA',\n",
              "       'RORAIMA', 'MARANHAO', 'RIO DE JANEIRO', 'MATO GROSSO', 'PARANA',\n",
              "       'ALAGOAS', 'MATO GROSSO DO SUL', 'ACRE', 'RIO GRANDE DO NORTE',\n",
              "       'RONDONIA', 'AMAPA', 'DISTRITO FEDERAL'], dtype=object)"
            ]
          },
          "metadata": {},
          "execution_count": 87
        }
      ]
    },
    {
      "cell_type": "code",
      "source": [
        "brasil = pd.merge(left=estados_df,right=cidades_df, on='estado', how='inner' )"
      ],
      "metadata": {
        "id": "QtzrNAEH_jcu"
      },
      "execution_count": null,
      "outputs": []
    },
    {
      "cell_type": "code",
      "source": [
        "brasil"
      ],
      "metadata": {
        "colab": {
          "base_uri": "https://localhost:8080/",
          "height": 423
        },
        "id": "rK5rG6MSDdz-",
        "outputId": "7c2275b9-4d29-4416-e2da-9fb0b6921f15"
      },
      "execution_count": null,
      "outputs": [
        {
          "output_type": "execute_result",
          "data": {
            "text/plain": [
              "            estado sigla   regiao                   cidade  populacao  \\\n",
              "0             ACRE    AC    NORTE     Marechal Thaumaturgo      14275   \n",
              "1             ACRE    AC    NORTE         Senador Guiomard      19697   \n",
              "2             ACRE    AC    NORTE             Assis Brasil       5662   \n",
              "3             ACRE    AC    NORTE           Epitaciolândia      14224   \n",
              "4             ACRE    AC    NORTE            Manoel Urbano       7505   \n",
              "...            ...   ...      ...                      ...        ...   \n",
              "5550  MINAS GERAIS    MG  SUDESTE             Nacip Raydan       3015   \n",
              "5551  MINAS GERAIS    MG  SUDESTE               Nova Ponte      12504   \n",
              "5552  MINAS GERAIS    MG  SUDESTE   São Gonçalo do Sapucaí      23627   \n",
              "5553  MINAS GERAIS    MG  SUDESTE                Barbacena     128572   \n",
              "5554  MINAS GERAIS    MG  SUDESTE  São Francisco do Glória       5685   \n",
              "\n",
              "               PIB  PIB_percapita  \n",
              "0     1.091819e+05    7648.470215  \n",
              "1     2.171539e+05   11024.719727  \n",
              "2     4.834730e+04    8538.910156  \n",
              "3     1.296411e+05    9114.250000  \n",
              "4     6.147873e+04    8191.700195  \n",
              "...            ...            ...  \n",
              "5550  1.600776e+04    5309.370117  \n",
              "5551  4.681494e+05   37439.968750  \n",
              "5552  2.886858e+05   12218.469727  \n",
              "5553  1.335420e+06   10386.549805  \n",
              "5554  3.237613e+04    5695.009766  \n",
              "\n",
              "[5555 rows x 7 columns]"
            ],
            "text/html": [
              "\n",
              "  <div id=\"df-0730b6ce-fdee-442d-9f27-6181a7b637dc\">\n",
              "    <div class=\"colab-df-container\">\n",
              "      <div>\n",
              "<style scoped>\n",
              "    .dataframe tbody tr th:only-of-type {\n",
              "        vertical-align: middle;\n",
              "    }\n",
              "\n",
              "    .dataframe tbody tr th {\n",
              "        vertical-align: top;\n",
              "    }\n",
              "\n",
              "    .dataframe thead th {\n",
              "        text-align: right;\n",
              "    }\n",
              "</style>\n",
              "<table border=\"1\" class=\"dataframe\">\n",
              "  <thead>\n",
              "    <tr style=\"text-align: right;\">\n",
              "      <th></th>\n",
              "      <th>estado</th>\n",
              "      <th>sigla</th>\n",
              "      <th>regiao</th>\n",
              "      <th>cidade</th>\n",
              "      <th>populacao</th>\n",
              "      <th>PIB</th>\n",
              "      <th>PIB_percapita</th>\n",
              "    </tr>\n",
              "  </thead>\n",
              "  <tbody>\n",
              "    <tr>\n",
              "      <th>0</th>\n",
              "      <td>ACRE</td>\n",
              "      <td>AC</td>\n",
              "      <td>NORTE</td>\n",
              "      <td>Marechal Thaumaturgo</td>\n",
              "      <td>14275</td>\n",
              "      <td>1.091819e+05</td>\n",
              "      <td>7648.470215</td>\n",
              "    </tr>\n",
              "    <tr>\n",
              "      <th>1</th>\n",
              "      <td>ACRE</td>\n",
              "      <td>AC</td>\n",
              "      <td>NORTE</td>\n",
              "      <td>Senador Guiomard</td>\n",
              "      <td>19697</td>\n",
              "      <td>2.171539e+05</td>\n",
              "      <td>11024.719727</td>\n",
              "    </tr>\n",
              "    <tr>\n",
              "      <th>2</th>\n",
              "      <td>ACRE</td>\n",
              "      <td>AC</td>\n",
              "      <td>NORTE</td>\n",
              "      <td>Assis Brasil</td>\n",
              "      <td>5662</td>\n",
              "      <td>4.834730e+04</td>\n",
              "      <td>8538.910156</td>\n",
              "    </tr>\n",
              "    <tr>\n",
              "      <th>3</th>\n",
              "      <td>ACRE</td>\n",
              "      <td>AC</td>\n",
              "      <td>NORTE</td>\n",
              "      <td>Epitaciolândia</td>\n",
              "      <td>14224</td>\n",
              "      <td>1.296411e+05</td>\n",
              "      <td>9114.250000</td>\n",
              "    </tr>\n",
              "    <tr>\n",
              "      <th>4</th>\n",
              "      <td>ACRE</td>\n",
              "      <td>AC</td>\n",
              "      <td>NORTE</td>\n",
              "      <td>Manoel Urbano</td>\n",
              "      <td>7505</td>\n",
              "      <td>6.147873e+04</td>\n",
              "      <td>8191.700195</td>\n",
              "    </tr>\n",
              "    <tr>\n",
              "      <th>...</th>\n",
              "      <td>...</td>\n",
              "      <td>...</td>\n",
              "      <td>...</td>\n",
              "      <td>...</td>\n",
              "      <td>...</td>\n",
              "      <td>...</td>\n",
              "      <td>...</td>\n",
              "    </tr>\n",
              "    <tr>\n",
              "      <th>5550</th>\n",
              "      <td>MINAS GERAIS</td>\n",
              "      <td>MG</td>\n",
              "      <td>SUDESTE</td>\n",
              "      <td>Nacip Raydan</td>\n",
              "      <td>3015</td>\n",
              "      <td>1.600776e+04</td>\n",
              "      <td>5309.370117</td>\n",
              "    </tr>\n",
              "    <tr>\n",
              "      <th>5551</th>\n",
              "      <td>MINAS GERAIS</td>\n",
              "      <td>MG</td>\n",
              "      <td>SUDESTE</td>\n",
              "      <td>Nova Ponte</td>\n",
              "      <td>12504</td>\n",
              "      <td>4.681494e+05</td>\n",
              "      <td>37439.968750</td>\n",
              "    </tr>\n",
              "    <tr>\n",
              "      <th>5552</th>\n",
              "      <td>MINAS GERAIS</td>\n",
              "      <td>MG</td>\n",
              "      <td>SUDESTE</td>\n",
              "      <td>São Gonçalo do Sapucaí</td>\n",
              "      <td>23627</td>\n",
              "      <td>2.886858e+05</td>\n",
              "      <td>12218.469727</td>\n",
              "    </tr>\n",
              "    <tr>\n",
              "      <th>5553</th>\n",
              "      <td>MINAS GERAIS</td>\n",
              "      <td>MG</td>\n",
              "      <td>SUDESTE</td>\n",
              "      <td>Barbacena</td>\n",
              "      <td>128572</td>\n",
              "      <td>1.335420e+06</td>\n",
              "      <td>10386.549805</td>\n",
              "    </tr>\n",
              "    <tr>\n",
              "      <th>5554</th>\n",
              "      <td>MINAS GERAIS</td>\n",
              "      <td>MG</td>\n",
              "      <td>SUDESTE</td>\n",
              "      <td>São Francisco do Glória</td>\n",
              "      <td>5685</td>\n",
              "      <td>3.237613e+04</td>\n",
              "      <td>5695.009766</td>\n",
              "    </tr>\n",
              "  </tbody>\n",
              "</table>\n",
              "<p>5555 rows × 7 columns</p>\n",
              "</div>\n",
              "      <button class=\"colab-df-convert\" onclick=\"convertToInteractive('df-0730b6ce-fdee-442d-9f27-6181a7b637dc')\"\n",
              "              title=\"Convert this dataframe to an interactive table.\"\n",
              "              style=\"display:none;\">\n",
              "        \n",
              "  <svg xmlns=\"http://www.w3.org/2000/svg\" height=\"24px\"viewBox=\"0 0 24 24\"\n",
              "       width=\"24px\">\n",
              "    <path d=\"M0 0h24v24H0V0z\" fill=\"none\"/>\n",
              "    <path d=\"M18.56 5.44l.94 2.06.94-2.06 2.06-.94-2.06-.94-.94-2.06-.94 2.06-2.06.94zm-11 1L8.5 8.5l.94-2.06 2.06-.94-2.06-.94L8.5 2.5l-.94 2.06-2.06.94zm10 10l.94 2.06.94-2.06 2.06-.94-2.06-.94-.94-2.06-.94 2.06-2.06.94z\"/><path d=\"M17.41 7.96l-1.37-1.37c-.4-.4-.92-.59-1.43-.59-.52 0-1.04.2-1.43.59L10.3 9.45l-7.72 7.72c-.78.78-.78 2.05 0 2.83L4 21.41c.39.39.9.59 1.41.59.51 0 1.02-.2 1.41-.59l7.78-7.78 2.81-2.81c.8-.78.8-2.07 0-2.86zM5.41 20L4 18.59l7.72-7.72 1.47 1.35L5.41 20z\"/>\n",
              "  </svg>\n",
              "      </button>\n",
              "      \n",
              "  <style>\n",
              "    .colab-df-container {\n",
              "      display:flex;\n",
              "      flex-wrap:wrap;\n",
              "      gap: 12px;\n",
              "    }\n",
              "\n",
              "    .colab-df-convert {\n",
              "      background-color: #E8F0FE;\n",
              "      border: none;\n",
              "      border-radius: 50%;\n",
              "      cursor: pointer;\n",
              "      display: none;\n",
              "      fill: #1967D2;\n",
              "      height: 32px;\n",
              "      padding: 0 0 0 0;\n",
              "      width: 32px;\n",
              "    }\n",
              "\n",
              "    .colab-df-convert:hover {\n",
              "      background-color: #E2EBFA;\n",
              "      box-shadow: 0px 1px 2px rgba(60, 64, 67, 0.3), 0px 1px 3px 1px rgba(60, 64, 67, 0.15);\n",
              "      fill: #174EA6;\n",
              "    }\n",
              "\n",
              "    [theme=dark] .colab-df-convert {\n",
              "      background-color: #3B4455;\n",
              "      fill: #D2E3FC;\n",
              "    }\n",
              "\n",
              "    [theme=dark] .colab-df-convert:hover {\n",
              "      background-color: #434B5C;\n",
              "      box-shadow: 0px 1px 3px 1px rgba(0, 0, 0, 0.15);\n",
              "      filter: drop-shadow(0px 1px 2px rgba(0, 0, 0, 0.3));\n",
              "      fill: #FFFFFF;\n",
              "    }\n",
              "  </style>\n",
              "\n",
              "      <script>\n",
              "        const buttonEl =\n",
              "          document.querySelector('#df-0730b6ce-fdee-442d-9f27-6181a7b637dc button.colab-df-convert');\n",
              "        buttonEl.style.display =\n",
              "          google.colab.kernel.accessAllowed ? 'block' : 'none';\n",
              "\n",
              "        async function convertToInteractive(key) {\n",
              "          const element = document.querySelector('#df-0730b6ce-fdee-442d-9f27-6181a7b637dc');\n",
              "          const dataTable =\n",
              "            await google.colab.kernel.invokeFunction('convertToInteractive',\n",
              "                                                     [key], {});\n",
              "          if (!dataTable) return;\n",
              "\n",
              "          const docLinkHtml = 'Like what you see? Visit the ' +\n",
              "            '<a target=\"_blank\" href=https://colab.research.google.com/notebooks/data_table.ipynb>data table notebook</a>'\n",
              "            + ' to learn more about interactive tables.';\n",
              "          element.innerHTML = '';\n",
              "          dataTable['output_type'] = 'display_data';\n",
              "          await google.colab.output.renderOutput(dataTable, element);\n",
              "          const docLink = document.createElement('div');\n",
              "          docLink.innerHTML = docLinkHtml;\n",
              "          element.appendChild(docLink);\n",
              "        }\n",
              "      </script>\n",
              "    </div>\n",
              "  </div>\n",
              "  "
            ]
          },
          "metadata": {},
          "execution_count": 115
        }
      ]
    },
    {
      "cell_type": "code",
      "source": [
        "print(brasil.isna().sum()) #verificando se há valores nulos"
      ],
      "metadata": {
        "colab": {
          "base_uri": "https://localhost:8080/"
        },
        "id": "YPkwxKy5HJKn",
        "outputId": "f97c523a-3c2e-4cb5-8c19-8c8aef8045f0"
      },
      "execution_count": null,
      "outputs": [
        {
          "output_type": "stream",
          "name": "stdout",
          "text": [
            "estado           0\n",
            "sigla            0\n",
            "regiao           0\n",
            "cidade           0\n",
            "populacao        0\n",
            "PIB              0\n",
            "PIB_percapita    0\n",
            "dtype: int64\n"
          ]
        }
      ]
    },
    {
      "cell_type": "code",
      "source": [
        "brasil.to_csv('brasil.csv',index= False)"
      ],
      "metadata": {
        "id": "KxLDBBioDDFu"
      },
      "execution_count": null,
      "outputs": []
    },
    {
      "cell_type": "markdown",
      "metadata": {
        "id": "finLQoyyGVmk"
      },
      "source": [
        "## 2\\. Data Analytics"
      ]
    },
    {
      "cell_type": "markdown",
      "metadata": {
        "id": "Ab0GW19Ed1ig"
      },
      "source": [
        "### **2.1. DataFrame** "
      ]
    },
    {
      "cell_type": "markdown",
      "metadata": {
        "id": "l8jJYjeBdijt"
      },
      "source": [
        "Utilize o pacote Python `pandas` para carregar o arquivo `brasil.csv` no dataframe `brasil_df`."
      ]
    },
    {
      "cell_type": "code",
      "metadata": {
        "id": "8kFQLlqud4QL"
      },
      "source": [
        "# solução do exercício 2.1"
      ],
      "execution_count": null,
      "outputs": []
    },
    {
      "cell_type": "code",
      "metadata": {
        "id": "n5joL27dDr40"
      },
      "source": [
        "import pandas as pd\n",
        "\n",
        "brasil_df = pd.read_csv('brasil.csv', sep=',')"
      ],
      "execution_count": null,
      "outputs": []
    },
    {
      "cell_type": "code",
      "source": [
        "brasil.head()"
      ],
      "metadata": {
        "colab": {
          "base_uri": "https://localhost:8080/",
          "height": 206
        },
        "id": "W7A3X5D9D1W1",
        "outputId": "805b2e98-b310-42ad-e0a6-df4ffe54f2a7"
      },
      "execution_count": null,
      "outputs": [
        {
          "output_type": "execute_result",
          "data": {
            "text/plain": [
              "  estado sigla regiao                cidade  populacao            PIB  \\\n",
              "0   ACRE    AC  NORTE  Marechal Thaumaturgo      14275  109181.867188   \n",
              "1   ACRE    AC  NORTE      Senador Guiomard      19697  217153.859375   \n",
              "2   ACRE    AC  NORTE          Assis Brasil       5662   48347.300781   \n",
              "3   ACRE    AC  NORTE        Epitaciolândia      14224  129641.093750   \n",
              "4   ACRE    AC  NORTE         Manoel Urbano       7505   61478.730469   \n",
              "\n",
              "   PIB_percapita  \n",
              "0    7648.470215  \n",
              "1   11024.719727  \n",
              "2    8538.910156  \n",
              "3    9114.250000  \n",
              "4    8191.700195  "
            ],
            "text/html": [
              "\n",
              "  <div id=\"df-bccae257-f42a-4b95-8a0a-9077fe5c29ed\">\n",
              "    <div class=\"colab-df-container\">\n",
              "      <div>\n",
              "<style scoped>\n",
              "    .dataframe tbody tr th:only-of-type {\n",
              "        vertical-align: middle;\n",
              "    }\n",
              "\n",
              "    .dataframe tbody tr th {\n",
              "        vertical-align: top;\n",
              "    }\n",
              "\n",
              "    .dataframe thead th {\n",
              "        text-align: right;\n",
              "    }\n",
              "</style>\n",
              "<table border=\"1\" class=\"dataframe\">\n",
              "  <thead>\n",
              "    <tr style=\"text-align: right;\">\n",
              "      <th></th>\n",
              "      <th>estado</th>\n",
              "      <th>sigla</th>\n",
              "      <th>regiao</th>\n",
              "      <th>cidade</th>\n",
              "      <th>populacao</th>\n",
              "      <th>PIB</th>\n",
              "      <th>PIB_percapita</th>\n",
              "    </tr>\n",
              "  </thead>\n",
              "  <tbody>\n",
              "    <tr>\n",
              "      <th>0</th>\n",
              "      <td>ACRE</td>\n",
              "      <td>AC</td>\n",
              "      <td>NORTE</td>\n",
              "      <td>Marechal Thaumaturgo</td>\n",
              "      <td>14275</td>\n",
              "      <td>109181.867188</td>\n",
              "      <td>7648.470215</td>\n",
              "    </tr>\n",
              "    <tr>\n",
              "      <th>1</th>\n",
              "      <td>ACRE</td>\n",
              "      <td>AC</td>\n",
              "      <td>NORTE</td>\n",
              "      <td>Senador Guiomard</td>\n",
              "      <td>19697</td>\n",
              "      <td>217153.859375</td>\n",
              "      <td>11024.719727</td>\n",
              "    </tr>\n",
              "    <tr>\n",
              "      <th>2</th>\n",
              "      <td>ACRE</td>\n",
              "      <td>AC</td>\n",
              "      <td>NORTE</td>\n",
              "      <td>Assis Brasil</td>\n",
              "      <td>5662</td>\n",
              "      <td>48347.300781</td>\n",
              "      <td>8538.910156</td>\n",
              "    </tr>\n",
              "    <tr>\n",
              "      <th>3</th>\n",
              "      <td>ACRE</td>\n",
              "      <td>AC</td>\n",
              "      <td>NORTE</td>\n",
              "      <td>Epitaciolândia</td>\n",
              "      <td>14224</td>\n",
              "      <td>129641.093750</td>\n",
              "      <td>9114.250000</td>\n",
              "    </tr>\n",
              "    <tr>\n",
              "      <th>4</th>\n",
              "      <td>ACRE</td>\n",
              "      <td>AC</td>\n",
              "      <td>NORTE</td>\n",
              "      <td>Manoel Urbano</td>\n",
              "      <td>7505</td>\n",
              "      <td>61478.730469</td>\n",
              "      <td>8191.700195</td>\n",
              "    </tr>\n",
              "  </tbody>\n",
              "</table>\n",
              "</div>\n",
              "      <button class=\"colab-df-convert\" onclick=\"convertToInteractive('df-bccae257-f42a-4b95-8a0a-9077fe5c29ed')\"\n",
              "              title=\"Convert this dataframe to an interactive table.\"\n",
              "              style=\"display:none;\">\n",
              "        \n",
              "  <svg xmlns=\"http://www.w3.org/2000/svg\" height=\"24px\"viewBox=\"0 0 24 24\"\n",
              "       width=\"24px\">\n",
              "    <path d=\"M0 0h24v24H0V0z\" fill=\"none\"/>\n",
              "    <path d=\"M18.56 5.44l.94 2.06.94-2.06 2.06-.94-2.06-.94-.94-2.06-.94 2.06-2.06.94zm-11 1L8.5 8.5l.94-2.06 2.06-.94-2.06-.94L8.5 2.5l-.94 2.06-2.06.94zm10 10l.94 2.06.94-2.06 2.06-.94-2.06-.94-.94-2.06-.94 2.06-2.06.94z\"/><path d=\"M17.41 7.96l-1.37-1.37c-.4-.4-.92-.59-1.43-.59-.52 0-1.04.2-1.43.59L10.3 9.45l-7.72 7.72c-.78.78-.78 2.05 0 2.83L4 21.41c.39.39.9.59 1.41.59.51 0 1.02-.2 1.41-.59l7.78-7.78 2.81-2.81c.8-.78.8-2.07 0-2.86zM5.41 20L4 18.59l7.72-7.72 1.47 1.35L5.41 20z\"/>\n",
              "  </svg>\n",
              "      </button>\n",
              "      \n",
              "  <style>\n",
              "    .colab-df-container {\n",
              "      display:flex;\n",
              "      flex-wrap:wrap;\n",
              "      gap: 12px;\n",
              "    }\n",
              "\n",
              "    .colab-df-convert {\n",
              "      background-color: #E8F0FE;\n",
              "      border: none;\n",
              "      border-radius: 50%;\n",
              "      cursor: pointer;\n",
              "      display: none;\n",
              "      fill: #1967D2;\n",
              "      height: 32px;\n",
              "      padding: 0 0 0 0;\n",
              "      width: 32px;\n",
              "    }\n",
              "\n",
              "    .colab-df-convert:hover {\n",
              "      background-color: #E2EBFA;\n",
              "      box-shadow: 0px 1px 2px rgba(60, 64, 67, 0.3), 0px 1px 3px 1px rgba(60, 64, 67, 0.15);\n",
              "      fill: #174EA6;\n",
              "    }\n",
              "\n",
              "    [theme=dark] .colab-df-convert {\n",
              "      background-color: #3B4455;\n",
              "      fill: #D2E3FC;\n",
              "    }\n",
              "\n",
              "    [theme=dark] .colab-df-convert:hover {\n",
              "      background-color: #434B5C;\n",
              "      box-shadow: 0px 1px 3px 1px rgba(0, 0, 0, 0.15);\n",
              "      filter: drop-shadow(0px 1px 2px rgba(0, 0, 0, 0.3));\n",
              "      fill: #FFFFFF;\n",
              "    }\n",
              "  </style>\n",
              "\n",
              "      <script>\n",
              "        const buttonEl =\n",
              "          document.querySelector('#df-bccae257-f42a-4b95-8a0a-9077fe5c29ed button.colab-df-convert');\n",
              "        buttonEl.style.display =\n",
              "          google.colab.kernel.accessAllowed ? 'block' : 'none';\n",
              "\n",
              "        async function convertToInteractive(key) {\n",
              "          const element = document.querySelector('#df-bccae257-f42a-4b95-8a0a-9077fe5c29ed');\n",
              "          const dataTable =\n",
              "            await google.colab.kernel.invokeFunction('convertToInteractive',\n",
              "                                                     [key], {});\n",
              "          if (!dataTable) return;\n",
              "\n",
              "          const docLinkHtml = 'Like what you see? Visit the ' +\n",
              "            '<a target=\"_blank\" href=https://colab.research.google.com/notebooks/data_table.ipynb>data table notebook</a>'\n",
              "            + ' to learn more about interactive tables.';\n",
              "          element.innerHTML = '';\n",
              "          dataTable['output_type'] = 'display_data';\n",
              "          await google.colab.output.renderOutput(dataTable, element);\n",
              "          const docLink = document.createElement('div');\n",
              "          docLink.innerHTML = docLinkHtml;\n",
              "          element.appendChild(docLink);\n",
              "        }\n",
              "      </script>\n",
              "    </div>\n",
              "  </div>\n",
              "  "
            ]
          },
          "metadata": {},
          "execution_count": 92
        }
      ]
    },
    {
      "cell_type": "markdown",
      "metadata": {
        "id": "ZFWvK8FXHuex"
      },
      "source": [
        "### **2.2. Analise** "
      ]
    },
    {
      "cell_type": "markdown",
      "metadata": {
        "id": "EGyz0R1dd62D"
      },
      "source": [
        "Utilize o dataframe `brasil_df` para responder as seguintes perguntas de negócio:"
      ]
    },
    {
      "cell_type": "markdown",
      "metadata": {
        "id": "lGnYVp7IeFBD"
      },
      "source": [
        " - Quais são as 10 cidades mais populosas do Brasil?"
      ]
    },
    {
      "cell_type": "code",
      "source": [
        "brasil_df.sort_values(by=['populacao'], ascending=False).head(10)"
      ],
      "metadata": {
        "colab": {
          "base_uri": "https://localhost:8080/",
          "height": 363
        },
        "id": "eiQAiKRPJAaN",
        "outputId": "3eb7ad2c-7cee-4690-9c7c-2365f1c0e460"
      },
      "execution_count": null,
      "outputs": [
        {
          "output_type": "execute_result",
          "data": {
            "text/plain": [
              "                estado sigla        regiao          cidade  populacao  \\\n",
              "4403         SAO PAULO    SP       SUDESTE       São Paulo   11037593   \n",
              "2747    RIO DE JANEIRO    RJ       SUDESTE  Rio de Janeiro    6186710   \n",
              "246              BAHIA    BA      NORDESTE        Salvador    2998056   \n",
              "802   DISTRITO FEDERAL    DF  CENTRO-OESTE        Brasília    2606885   \n",
              "766              CEARA    CE      NORDESTE       Fortaleza    2505552   \n",
              "5447      MINAS GERAIS    MG       SUDESTE  Belo Horizonte    2452617   \n",
              "2056            PARANA    PR           SUL        Curitiba    1851215   \n",
              "142           AMAZONAS    AM         NORTE          Manaus    1738641   \n",
              "2446        PERNAMBUCO    PE      NORDESTE          Recife    1561659   \n",
              "1687              PARA    PA         NORTE           Belém    1437600   \n",
              "\n",
              "              PIB  PIB_percapita  \n",
              "4403  389317152.0   35271.929688  \n",
              "2747  175739344.0   28405.949219  \n",
              "246    32824228.0   10948.500000  \n",
              "802   131487264.0   50438.460938  \n",
              "766    31789186.0   12687.500000  \n",
              "5447   44595204.0   18182.699219  \n",
              "2056   45762420.0   24720.210938  \n",
              "142    40486108.0   23286.060547  \n",
              "2446   24835340.0   15903.179688  \n",
              "1687   16526989.0   11496.240234  "
            ],
            "text/html": [
              "\n",
              "  <div id=\"df-f35fcd4b-9147-463f-b931-171295c13959\">\n",
              "    <div class=\"colab-df-container\">\n",
              "      <div>\n",
              "<style scoped>\n",
              "    .dataframe tbody tr th:only-of-type {\n",
              "        vertical-align: middle;\n",
              "    }\n",
              "\n",
              "    .dataframe tbody tr th {\n",
              "        vertical-align: top;\n",
              "    }\n",
              "\n",
              "    .dataframe thead th {\n",
              "        text-align: right;\n",
              "    }\n",
              "</style>\n",
              "<table border=\"1\" class=\"dataframe\">\n",
              "  <thead>\n",
              "    <tr style=\"text-align: right;\">\n",
              "      <th></th>\n",
              "      <th>estado</th>\n",
              "      <th>sigla</th>\n",
              "      <th>regiao</th>\n",
              "      <th>cidade</th>\n",
              "      <th>populacao</th>\n",
              "      <th>PIB</th>\n",
              "      <th>PIB_percapita</th>\n",
              "    </tr>\n",
              "  </thead>\n",
              "  <tbody>\n",
              "    <tr>\n",
              "      <th>4403</th>\n",
              "      <td>SAO PAULO</td>\n",
              "      <td>SP</td>\n",
              "      <td>SUDESTE</td>\n",
              "      <td>São Paulo</td>\n",
              "      <td>11037593</td>\n",
              "      <td>389317152.0</td>\n",
              "      <td>35271.929688</td>\n",
              "    </tr>\n",
              "    <tr>\n",
              "      <th>2747</th>\n",
              "      <td>RIO DE JANEIRO</td>\n",
              "      <td>RJ</td>\n",
              "      <td>SUDESTE</td>\n",
              "      <td>Rio de Janeiro</td>\n",
              "      <td>6186710</td>\n",
              "      <td>175739344.0</td>\n",
              "      <td>28405.949219</td>\n",
              "    </tr>\n",
              "    <tr>\n",
              "      <th>246</th>\n",
              "      <td>BAHIA</td>\n",
              "      <td>BA</td>\n",
              "      <td>NORDESTE</td>\n",
              "      <td>Salvador</td>\n",
              "      <td>2998056</td>\n",
              "      <td>32824228.0</td>\n",
              "      <td>10948.500000</td>\n",
              "    </tr>\n",
              "    <tr>\n",
              "      <th>802</th>\n",
              "      <td>DISTRITO FEDERAL</td>\n",
              "      <td>DF</td>\n",
              "      <td>CENTRO-OESTE</td>\n",
              "      <td>Brasília</td>\n",
              "      <td>2606885</td>\n",
              "      <td>131487264.0</td>\n",
              "      <td>50438.460938</td>\n",
              "    </tr>\n",
              "    <tr>\n",
              "      <th>766</th>\n",
              "      <td>CEARA</td>\n",
              "      <td>CE</td>\n",
              "      <td>NORDESTE</td>\n",
              "      <td>Fortaleza</td>\n",
              "      <td>2505552</td>\n",
              "      <td>31789186.0</td>\n",
              "      <td>12687.500000</td>\n",
              "    </tr>\n",
              "    <tr>\n",
              "      <th>5447</th>\n",
              "      <td>MINAS GERAIS</td>\n",
              "      <td>MG</td>\n",
              "      <td>SUDESTE</td>\n",
              "      <td>Belo Horizonte</td>\n",
              "      <td>2452617</td>\n",
              "      <td>44595204.0</td>\n",
              "      <td>18182.699219</td>\n",
              "    </tr>\n",
              "    <tr>\n",
              "      <th>2056</th>\n",
              "      <td>PARANA</td>\n",
              "      <td>PR</td>\n",
              "      <td>SUL</td>\n",
              "      <td>Curitiba</td>\n",
              "      <td>1851215</td>\n",
              "      <td>45762420.0</td>\n",
              "      <td>24720.210938</td>\n",
              "    </tr>\n",
              "    <tr>\n",
              "      <th>142</th>\n",
              "      <td>AMAZONAS</td>\n",
              "      <td>AM</td>\n",
              "      <td>NORTE</td>\n",
              "      <td>Manaus</td>\n",
              "      <td>1738641</td>\n",
              "      <td>40486108.0</td>\n",
              "      <td>23286.060547</td>\n",
              "    </tr>\n",
              "    <tr>\n",
              "      <th>2446</th>\n",
              "      <td>PERNAMBUCO</td>\n",
              "      <td>PE</td>\n",
              "      <td>NORDESTE</td>\n",
              "      <td>Recife</td>\n",
              "      <td>1561659</td>\n",
              "      <td>24835340.0</td>\n",
              "      <td>15903.179688</td>\n",
              "    </tr>\n",
              "    <tr>\n",
              "      <th>1687</th>\n",
              "      <td>PARA</td>\n",
              "      <td>PA</td>\n",
              "      <td>NORTE</td>\n",
              "      <td>Belém</td>\n",
              "      <td>1437600</td>\n",
              "      <td>16526989.0</td>\n",
              "      <td>11496.240234</td>\n",
              "    </tr>\n",
              "  </tbody>\n",
              "</table>\n",
              "</div>\n",
              "      <button class=\"colab-df-convert\" onclick=\"convertToInteractive('df-f35fcd4b-9147-463f-b931-171295c13959')\"\n",
              "              title=\"Convert this dataframe to an interactive table.\"\n",
              "              style=\"display:none;\">\n",
              "        \n",
              "  <svg xmlns=\"http://www.w3.org/2000/svg\" height=\"24px\"viewBox=\"0 0 24 24\"\n",
              "       width=\"24px\">\n",
              "    <path d=\"M0 0h24v24H0V0z\" fill=\"none\"/>\n",
              "    <path d=\"M18.56 5.44l.94 2.06.94-2.06 2.06-.94-2.06-.94-.94-2.06-.94 2.06-2.06.94zm-11 1L8.5 8.5l.94-2.06 2.06-.94-2.06-.94L8.5 2.5l-.94 2.06-2.06.94zm10 10l.94 2.06.94-2.06 2.06-.94-2.06-.94-.94-2.06-.94 2.06-2.06.94z\"/><path d=\"M17.41 7.96l-1.37-1.37c-.4-.4-.92-.59-1.43-.59-.52 0-1.04.2-1.43.59L10.3 9.45l-7.72 7.72c-.78.78-.78 2.05 0 2.83L4 21.41c.39.39.9.59 1.41.59.51 0 1.02-.2 1.41-.59l7.78-7.78 2.81-2.81c.8-.78.8-2.07 0-2.86zM5.41 20L4 18.59l7.72-7.72 1.47 1.35L5.41 20z\"/>\n",
              "  </svg>\n",
              "      </button>\n",
              "      \n",
              "  <style>\n",
              "    .colab-df-container {\n",
              "      display:flex;\n",
              "      flex-wrap:wrap;\n",
              "      gap: 12px;\n",
              "    }\n",
              "\n",
              "    .colab-df-convert {\n",
              "      background-color: #E8F0FE;\n",
              "      border: none;\n",
              "      border-radius: 50%;\n",
              "      cursor: pointer;\n",
              "      display: none;\n",
              "      fill: #1967D2;\n",
              "      height: 32px;\n",
              "      padding: 0 0 0 0;\n",
              "      width: 32px;\n",
              "    }\n",
              "\n",
              "    .colab-df-convert:hover {\n",
              "      background-color: #E2EBFA;\n",
              "      box-shadow: 0px 1px 2px rgba(60, 64, 67, 0.3), 0px 1px 3px 1px rgba(60, 64, 67, 0.15);\n",
              "      fill: #174EA6;\n",
              "    }\n",
              "\n",
              "    [theme=dark] .colab-df-convert {\n",
              "      background-color: #3B4455;\n",
              "      fill: #D2E3FC;\n",
              "    }\n",
              "\n",
              "    [theme=dark] .colab-df-convert:hover {\n",
              "      background-color: #434B5C;\n",
              "      box-shadow: 0px 1px 3px 1px rgba(0, 0, 0, 0.15);\n",
              "      filter: drop-shadow(0px 1px 2px rgba(0, 0, 0, 0.3));\n",
              "      fill: #FFFFFF;\n",
              "    }\n",
              "  </style>\n",
              "\n",
              "      <script>\n",
              "        const buttonEl =\n",
              "          document.querySelector('#df-f35fcd4b-9147-463f-b931-171295c13959 button.colab-df-convert');\n",
              "        buttonEl.style.display =\n",
              "          google.colab.kernel.accessAllowed ? 'block' : 'none';\n",
              "\n",
              "        async function convertToInteractive(key) {\n",
              "          const element = document.querySelector('#df-f35fcd4b-9147-463f-b931-171295c13959');\n",
              "          const dataTable =\n",
              "            await google.colab.kernel.invokeFunction('convertToInteractive',\n",
              "                                                     [key], {});\n",
              "          if (!dataTable) return;\n",
              "\n",
              "          const docLinkHtml = 'Like what you see? Visit the ' +\n",
              "            '<a target=\"_blank\" href=https://colab.research.google.com/notebooks/data_table.ipynb>data table notebook</a>'\n",
              "            + ' to learn more about interactive tables.';\n",
              "          element.innerHTML = '';\n",
              "          dataTable['output_type'] = 'display_data';\n",
              "          await google.colab.output.renderOutput(dataTable, element);\n",
              "          const docLink = document.createElement('div');\n",
              "          docLink.innerHTML = docLinkHtml;\n",
              "          element.appendChild(docLink);\n",
              "        }\n",
              "      </script>\n",
              "    </div>\n",
              "  </div>\n",
              "  "
            ]
          },
          "metadata": {},
          "execution_count": 93
        }
      ]
    },
    {
      "cell_type": "markdown",
      "metadata": {
        "id": "l93St6uleWTp"
      },
      "source": [
        " - Quais são as 5 cidades com a menor PIB per capita da região nordeste?"
      ]
    },
    {
      "cell_type": "code",
      "source": [
        "regiao_nordeste =(brasil_df[\"regiao\"] == \"NORDESTE\")\n",
        "regiao_nordeste"
      ],
      "metadata": {
        "id": "WQrlIQLdqBDF",
        "colab": {
          "base_uri": "https://localhost:8080/"
        },
        "outputId": "7fecefe6-2806-4246-d1f4-45ec8eb22af7"
      },
      "execution_count": null,
      "outputs": [
        {
          "output_type": "execute_result",
          "data": {
            "text/plain": [
              "0       False\n",
              "1       False\n",
              "2       False\n",
              "3       False\n",
              "4       False\n",
              "        ...  \n",
              "5550    False\n",
              "5551    False\n",
              "5552    False\n",
              "5553    False\n",
              "5554    False\n",
              "Name: regiao, Length: 5555, dtype: bool"
            ]
          },
          "metadata": {},
          "execution_count": 94
        }
      ]
    },
    {
      "cell_type": "code",
      "source": [
        "menor_pib_nordeste = brasil_df.sort_values(by=['PIB_percapita'], ascending=True)[regiao_nordeste].head(5)\n",
        "menor_pib_nordeste"
      ],
      "metadata": {
        "colab": {
          "base_uri": "https://localhost:8080/",
          "height": 241
        },
        "id": "BdfjB0XVJ9Fv",
        "outputId": "81d28278-a220-467f-9563-1cdd044b6e98"
      },
      "execution_count": null,
      "outputs": [
        {
          "output_type": "stream",
          "name": "stderr",
          "text": [
            "<ipython-input-95-1d2c6528b741>:1: UserWarning: Boolean Series key will be reindexed to match DataFrame index.\n",
            "  menor_pib_nordeste = brasil_df.sort_values(by=['PIB_percapita'], ascending=True)[regiao_nordeste].head(5)\n"
          ]
        },
        {
          "output_type": "execute_result",
          "data": {
            "text/plain": [
              "        estado sigla    regiao              cidade  populacao           PIB  \\\n",
              "1319  MARANHAO    MA  NORDESTE  São Vicente Ferrer      20463  39492.960938   \n",
              "1214  MARANHAO    MA  NORDESTE             Cajapió      10337  22781.035156   \n",
              "2512     PIAUI    PI  NORDESTE       Dom Inocêncio      10795  25457.230469   \n",
              "1338  MARANHAO    MA  NORDESTE            Timbiras      26909  63724.851562   \n",
              "1235  MARANHAO    MA  NORDESTE               Axixá      15203  36745.226562   \n",
              "\n",
              "      PIB_percapita  \n",
              "1319    1929.969971  \n",
              "1214    2203.830078  \n",
              "2512    2358.239990  \n",
              "1338    2368.159912  \n",
              "1235    2416.969971  "
            ],
            "text/html": [
              "\n",
              "  <div id=\"df-c0cb522f-7896-4754-a67f-08cb2f089a8d\">\n",
              "    <div class=\"colab-df-container\">\n",
              "      <div>\n",
              "<style scoped>\n",
              "    .dataframe tbody tr th:only-of-type {\n",
              "        vertical-align: middle;\n",
              "    }\n",
              "\n",
              "    .dataframe tbody tr th {\n",
              "        vertical-align: top;\n",
              "    }\n",
              "\n",
              "    .dataframe thead th {\n",
              "        text-align: right;\n",
              "    }\n",
              "</style>\n",
              "<table border=\"1\" class=\"dataframe\">\n",
              "  <thead>\n",
              "    <tr style=\"text-align: right;\">\n",
              "      <th></th>\n",
              "      <th>estado</th>\n",
              "      <th>sigla</th>\n",
              "      <th>regiao</th>\n",
              "      <th>cidade</th>\n",
              "      <th>populacao</th>\n",
              "      <th>PIB</th>\n",
              "      <th>PIB_percapita</th>\n",
              "    </tr>\n",
              "  </thead>\n",
              "  <tbody>\n",
              "    <tr>\n",
              "      <th>1319</th>\n",
              "      <td>MARANHAO</td>\n",
              "      <td>MA</td>\n",
              "      <td>NORDESTE</td>\n",
              "      <td>São Vicente Ferrer</td>\n",
              "      <td>20463</td>\n",
              "      <td>39492.960938</td>\n",
              "      <td>1929.969971</td>\n",
              "    </tr>\n",
              "    <tr>\n",
              "      <th>1214</th>\n",
              "      <td>MARANHAO</td>\n",
              "      <td>MA</td>\n",
              "      <td>NORDESTE</td>\n",
              "      <td>Cajapió</td>\n",
              "      <td>10337</td>\n",
              "      <td>22781.035156</td>\n",
              "      <td>2203.830078</td>\n",
              "    </tr>\n",
              "    <tr>\n",
              "      <th>2512</th>\n",
              "      <td>PIAUI</td>\n",
              "      <td>PI</td>\n",
              "      <td>NORDESTE</td>\n",
              "      <td>Dom Inocêncio</td>\n",
              "      <td>10795</td>\n",
              "      <td>25457.230469</td>\n",
              "      <td>2358.239990</td>\n",
              "    </tr>\n",
              "    <tr>\n",
              "      <th>1338</th>\n",
              "      <td>MARANHAO</td>\n",
              "      <td>MA</td>\n",
              "      <td>NORDESTE</td>\n",
              "      <td>Timbiras</td>\n",
              "      <td>26909</td>\n",
              "      <td>63724.851562</td>\n",
              "      <td>2368.159912</td>\n",
              "    </tr>\n",
              "    <tr>\n",
              "      <th>1235</th>\n",
              "      <td>MARANHAO</td>\n",
              "      <td>MA</td>\n",
              "      <td>NORDESTE</td>\n",
              "      <td>Axixá</td>\n",
              "      <td>15203</td>\n",
              "      <td>36745.226562</td>\n",
              "      <td>2416.969971</td>\n",
              "    </tr>\n",
              "  </tbody>\n",
              "</table>\n",
              "</div>\n",
              "      <button class=\"colab-df-convert\" onclick=\"convertToInteractive('df-c0cb522f-7896-4754-a67f-08cb2f089a8d')\"\n",
              "              title=\"Convert this dataframe to an interactive table.\"\n",
              "              style=\"display:none;\">\n",
              "        \n",
              "  <svg xmlns=\"http://www.w3.org/2000/svg\" height=\"24px\"viewBox=\"0 0 24 24\"\n",
              "       width=\"24px\">\n",
              "    <path d=\"M0 0h24v24H0V0z\" fill=\"none\"/>\n",
              "    <path d=\"M18.56 5.44l.94 2.06.94-2.06 2.06-.94-2.06-.94-.94-2.06-.94 2.06-2.06.94zm-11 1L8.5 8.5l.94-2.06 2.06-.94-2.06-.94L8.5 2.5l-.94 2.06-2.06.94zm10 10l.94 2.06.94-2.06 2.06-.94-2.06-.94-.94-2.06-.94 2.06-2.06.94z\"/><path d=\"M17.41 7.96l-1.37-1.37c-.4-.4-.92-.59-1.43-.59-.52 0-1.04.2-1.43.59L10.3 9.45l-7.72 7.72c-.78.78-.78 2.05 0 2.83L4 21.41c.39.39.9.59 1.41.59.51 0 1.02-.2 1.41-.59l7.78-7.78 2.81-2.81c.8-.78.8-2.07 0-2.86zM5.41 20L4 18.59l7.72-7.72 1.47 1.35L5.41 20z\"/>\n",
              "  </svg>\n",
              "      </button>\n",
              "      \n",
              "  <style>\n",
              "    .colab-df-container {\n",
              "      display:flex;\n",
              "      flex-wrap:wrap;\n",
              "      gap: 12px;\n",
              "    }\n",
              "\n",
              "    .colab-df-convert {\n",
              "      background-color: #E8F0FE;\n",
              "      border: none;\n",
              "      border-radius: 50%;\n",
              "      cursor: pointer;\n",
              "      display: none;\n",
              "      fill: #1967D2;\n",
              "      height: 32px;\n",
              "      padding: 0 0 0 0;\n",
              "      width: 32px;\n",
              "    }\n",
              "\n",
              "    .colab-df-convert:hover {\n",
              "      background-color: #E2EBFA;\n",
              "      box-shadow: 0px 1px 2px rgba(60, 64, 67, 0.3), 0px 1px 3px 1px rgba(60, 64, 67, 0.15);\n",
              "      fill: #174EA6;\n",
              "    }\n",
              "\n",
              "    [theme=dark] .colab-df-convert {\n",
              "      background-color: #3B4455;\n",
              "      fill: #D2E3FC;\n",
              "    }\n",
              "\n",
              "    [theme=dark] .colab-df-convert:hover {\n",
              "      background-color: #434B5C;\n",
              "      box-shadow: 0px 1px 3px 1px rgba(0, 0, 0, 0.15);\n",
              "      filter: drop-shadow(0px 1px 2px rgba(0, 0, 0, 0.3));\n",
              "      fill: #FFFFFF;\n",
              "    }\n",
              "  </style>\n",
              "\n",
              "      <script>\n",
              "        const buttonEl =\n",
              "          document.querySelector('#df-c0cb522f-7896-4754-a67f-08cb2f089a8d button.colab-df-convert');\n",
              "        buttonEl.style.display =\n",
              "          google.colab.kernel.accessAllowed ? 'block' : 'none';\n",
              "\n",
              "        async function convertToInteractive(key) {\n",
              "          const element = document.querySelector('#df-c0cb522f-7896-4754-a67f-08cb2f089a8d');\n",
              "          const dataTable =\n",
              "            await google.colab.kernel.invokeFunction('convertToInteractive',\n",
              "                                                     [key], {});\n",
              "          if (!dataTable) return;\n",
              "\n",
              "          const docLinkHtml = 'Like what you see? Visit the ' +\n",
              "            '<a target=\"_blank\" href=https://colab.research.google.com/notebooks/data_table.ipynb>data table notebook</a>'\n",
              "            + ' to learn more about interactive tables.';\n",
              "          element.innerHTML = '';\n",
              "          dataTable['output_type'] = 'display_data';\n",
              "          await google.colab.output.renderOutput(dataTable, element);\n",
              "          const docLink = document.createElement('div');\n",
              "          docLink.innerHTML = docLinkHtml;\n",
              "          element.appendChild(docLink);\n",
              "        }\n",
              "      </script>\n",
              "    </div>\n",
              "  </div>\n",
              "  "
            ]
          },
          "metadata": {},
          "execution_count": 95
        }
      ]
    },
    {
      "cell_type": "code",
      "metadata": {
        "id": "DS5akh2zeWTq"
      },
      "source": [
        "# código para responder a pergunta\n"
      ],
      "execution_count": null,
      "outputs": []
    },
    {
      "cell_type": "markdown",
      "metadata": {
        "id": "GqwffgUmedmb"
      },
      "source": [
        " - Quais são as 15 cidades com maior PIB do estado de São Paulo?"
      ]
    },
    {
      "cell_type": "code",
      "source": [
        "estado_sp =(brasil_df[\"estado\"] == \"SAO PAULO\")\n",
        "estado_sp"
      ],
      "metadata": {
        "id": "xTFEbR_lrJHV",
        "colab": {
          "base_uri": "https://localhost:8080/"
        },
        "outputId": "4d4a3304-528f-44f2-d6e7-38e2d17a8fc2"
      },
      "execution_count": null,
      "outputs": [
        {
          "output_type": "execute_result",
          "data": {
            "text/plain": [
              "0       False\n",
              "1       False\n",
              "2       False\n",
              "3       False\n",
              "4       False\n",
              "        ...  \n",
              "5550    False\n",
              "5551    False\n",
              "5552    False\n",
              "5553    False\n",
              "5554    False\n",
              "Name: estado, Length: 5555, dtype: bool"
            ]
          },
          "metadata": {},
          "execution_count": 98
        }
      ]
    },
    {
      "cell_type": "code",
      "source": [
        "maior_pib_sp = brasil_df.sort_values(by=['PIB', 'cidade'], ascending=False)[estado_sp].head(15)\n",
        "maior_pib_sp"
      ],
      "metadata": {
        "colab": {
          "base_uri": "https://localhost:8080/",
          "height": 574
        },
        "id": "aw4ve77JrGZW",
        "outputId": "79226603-2613-46ce-8eb8-3ef9f63e1700"
      },
      "execution_count": null,
      "outputs": [
        {
          "output_type": "stream",
          "name": "stderr",
          "text": [
            "<ipython-input-99-076d169c7042>:1: UserWarning: Boolean Series key will be reindexed to match DataFrame index.\n",
            "  maior_pib_sp = brasil_df.sort_values(by=['PIB', 'cidade'], ascending=False)[estado_sp].head(15) # não está trazendo dados do estado de São PAulo\n"
          ]
        },
        {
          "output_type": "execute_result",
          "data": {
            "text/plain": [
              "         estado sigla   regiao                 cidade  populacao          PIB  \\\n",
              "4403  SAO PAULO    SP  SUDESTE              São Paulo   11037593  389317152.0   \n",
              "4355  SAO PAULO    SP  SUDESTE              Guarulhos    1299283   32473828.0   \n",
              "4472  SAO PAULO    SP  SUDESTE               Campinas    1064669   31654720.0   \n",
              "4238  SAO PAULO    SP  SUDESTE                 Osasco     718646   31616452.0   \n",
              "3942  SAO PAULO    SP  SUDESTE  São Bernardo do Campo     810979   28935768.0   \n",
              "4476  SAO PAULO    SP  SUDESTE                Barueri     270173   26908070.0   \n",
              "3900  SAO PAULO    SP  SUDESTE                 Santos     417098   22546134.0   \n",
              "4126  SAO PAULO    SP  SUDESTE    São José dos Campos     615871   22018042.0   \n",
              "4146  SAO PAULO    SP  SUDESTE                Jundiaí     349929   16585137.0   \n",
              "3948  SAO PAULO    SP  SUDESTE            Santo André     673396   14709603.0   \n",
              "3886  SAO PAULO    SP  SUDESTE         Ribeirão Preto     563107   14688064.0   \n",
              "4284  SAO PAULO    SP  SUDESTE               Sorocaba     584313   14182597.0   \n",
              "4170  SAO PAULO    SP  SUDESTE                Diadema     397738    9969819.0   \n",
              "4466  SAO PAULO    SP  SUDESTE             Piracicaba     368843    9601211.0   \n",
              "4131  SAO PAULO    SP  SUDESTE     São Caetano do Sul     152093    8920202.0   \n",
              "\n",
              "      PIB_percapita  \n",
              "4403   35271.929688  \n",
              "4355   24993.650391  \n",
              "4472   29731.980469  \n",
              "4238   43994.468750  \n",
              "3942   35680.050781  \n",
              "4476   99595.703125  \n",
              "3900   54054.761719  \n",
              "4126   35751.058594  \n",
              "4146   47395.718750  \n",
              "3948   21843.910156  \n",
              "3886   26083.970703  \n",
              "4284   24272.259766  \n",
              "4170   25066.300781  \n",
              "4466   26030.619141  \n",
              "4131   58649.648438  "
            ],
            "text/html": [
              "\n",
              "  <div id=\"df-6d79ae95-f9b1-4506-addc-a43dc35d4cb5\">\n",
              "    <div class=\"colab-df-container\">\n",
              "      <div>\n",
              "<style scoped>\n",
              "    .dataframe tbody tr th:only-of-type {\n",
              "        vertical-align: middle;\n",
              "    }\n",
              "\n",
              "    .dataframe tbody tr th {\n",
              "        vertical-align: top;\n",
              "    }\n",
              "\n",
              "    .dataframe thead th {\n",
              "        text-align: right;\n",
              "    }\n",
              "</style>\n",
              "<table border=\"1\" class=\"dataframe\">\n",
              "  <thead>\n",
              "    <tr style=\"text-align: right;\">\n",
              "      <th></th>\n",
              "      <th>estado</th>\n",
              "      <th>sigla</th>\n",
              "      <th>regiao</th>\n",
              "      <th>cidade</th>\n",
              "      <th>populacao</th>\n",
              "      <th>PIB</th>\n",
              "      <th>PIB_percapita</th>\n",
              "    </tr>\n",
              "  </thead>\n",
              "  <tbody>\n",
              "    <tr>\n",
              "      <th>4403</th>\n",
              "      <td>SAO PAULO</td>\n",
              "      <td>SP</td>\n",
              "      <td>SUDESTE</td>\n",
              "      <td>São Paulo</td>\n",
              "      <td>11037593</td>\n",
              "      <td>389317152.0</td>\n",
              "      <td>35271.929688</td>\n",
              "    </tr>\n",
              "    <tr>\n",
              "      <th>4355</th>\n",
              "      <td>SAO PAULO</td>\n",
              "      <td>SP</td>\n",
              "      <td>SUDESTE</td>\n",
              "      <td>Guarulhos</td>\n",
              "      <td>1299283</td>\n",
              "      <td>32473828.0</td>\n",
              "      <td>24993.650391</td>\n",
              "    </tr>\n",
              "    <tr>\n",
              "      <th>4472</th>\n",
              "      <td>SAO PAULO</td>\n",
              "      <td>SP</td>\n",
              "      <td>SUDESTE</td>\n",
              "      <td>Campinas</td>\n",
              "      <td>1064669</td>\n",
              "      <td>31654720.0</td>\n",
              "      <td>29731.980469</td>\n",
              "    </tr>\n",
              "    <tr>\n",
              "      <th>4238</th>\n",
              "      <td>SAO PAULO</td>\n",
              "      <td>SP</td>\n",
              "      <td>SUDESTE</td>\n",
              "      <td>Osasco</td>\n",
              "      <td>718646</td>\n",
              "      <td>31616452.0</td>\n",
              "      <td>43994.468750</td>\n",
              "    </tr>\n",
              "    <tr>\n",
              "      <th>3942</th>\n",
              "      <td>SAO PAULO</td>\n",
              "      <td>SP</td>\n",
              "      <td>SUDESTE</td>\n",
              "      <td>São Bernardo do Campo</td>\n",
              "      <td>810979</td>\n",
              "      <td>28935768.0</td>\n",
              "      <td>35680.050781</td>\n",
              "    </tr>\n",
              "    <tr>\n",
              "      <th>4476</th>\n",
              "      <td>SAO PAULO</td>\n",
              "      <td>SP</td>\n",
              "      <td>SUDESTE</td>\n",
              "      <td>Barueri</td>\n",
              "      <td>270173</td>\n",
              "      <td>26908070.0</td>\n",
              "      <td>99595.703125</td>\n",
              "    </tr>\n",
              "    <tr>\n",
              "      <th>3900</th>\n",
              "      <td>SAO PAULO</td>\n",
              "      <td>SP</td>\n",
              "      <td>SUDESTE</td>\n",
              "      <td>Santos</td>\n",
              "      <td>417098</td>\n",
              "      <td>22546134.0</td>\n",
              "      <td>54054.761719</td>\n",
              "    </tr>\n",
              "    <tr>\n",
              "      <th>4126</th>\n",
              "      <td>SAO PAULO</td>\n",
              "      <td>SP</td>\n",
              "      <td>SUDESTE</td>\n",
              "      <td>São José dos Campos</td>\n",
              "      <td>615871</td>\n",
              "      <td>22018042.0</td>\n",
              "      <td>35751.058594</td>\n",
              "    </tr>\n",
              "    <tr>\n",
              "      <th>4146</th>\n",
              "      <td>SAO PAULO</td>\n",
              "      <td>SP</td>\n",
              "      <td>SUDESTE</td>\n",
              "      <td>Jundiaí</td>\n",
              "      <td>349929</td>\n",
              "      <td>16585137.0</td>\n",
              "      <td>47395.718750</td>\n",
              "    </tr>\n",
              "    <tr>\n",
              "      <th>3948</th>\n",
              "      <td>SAO PAULO</td>\n",
              "      <td>SP</td>\n",
              "      <td>SUDESTE</td>\n",
              "      <td>Santo André</td>\n",
              "      <td>673396</td>\n",
              "      <td>14709603.0</td>\n",
              "      <td>21843.910156</td>\n",
              "    </tr>\n",
              "    <tr>\n",
              "      <th>3886</th>\n",
              "      <td>SAO PAULO</td>\n",
              "      <td>SP</td>\n",
              "      <td>SUDESTE</td>\n",
              "      <td>Ribeirão Preto</td>\n",
              "      <td>563107</td>\n",
              "      <td>14688064.0</td>\n",
              "      <td>26083.970703</td>\n",
              "    </tr>\n",
              "    <tr>\n",
              "      <th>4284</th>\n",
              "      <td>SAO PAULO</td>\n",
              "      <td>SP</td>\n",
              "      <td>SUDESTE</td>\n",
              "      <td>Sorocaba</td>\n",
              "      <td>584313</td>\n",
              "      <td>14182597.0</td>\n",
              "      <td>24272.259766</td>\n",
              "    </tr>\n",
              "    <tr>\n",
              "      <th>4170</th>\n",
              "      <td>SAO PAULO</td>\n",
              "      <td>SP</td>\n",
              "      <td>SUDESTE</td>\n",
              "      <td>Diadema</td>\n",
              "      <td>397738</td>\n",
              "      <td>9969819.0</td>\n",
              "      <td>25066.300781</td>\n",
              "    </tr>\n",
              "    <tr>\n",
              "      <th>4466</th>\n",
              "      <td>SAO PAULO</td>\n",
              "      <td>SP</td>\n",
              "      <td>SUDESTE</td>\n",
              "      <td>Piracicaba</td>\n",
              "      <td>368843</td>\n",
              "      <td>9601211.0</td>\n",
              "      <td>26030.619141</td>\n",
              "    </tr>\n",
              "    <tr>\n",
              "      <th>4131</th>\n",
              "      <td>SAO PAULO</td>\n",
              "      <td>SP</td>\n",
              "      <td>SUDESTE</td>\n",
              "      <td>São Caetano do Sul</td>\n",
              "      <td>152093</td>\n",
              "      <td>8920202.0</td>\n",
              "      <td>58649.648438</td>\n",
              "    </tr>\n",
              "  </tbody>\n",
              "</table>\n",
              "</div>\n",
              "      <button class=\"colab-df-convert\" onclick=\"convertToInteractive('df-6d79ae95-f9b1-4506-addc-a43dc35d4cb5')\"\n",
              "              title=\"Convert this dataframe to an interactive table.\"\n",
              "              style=\"display:none;\">\n",
              "        \n",
              "  <svg xmlns=\"http://www.w3.org/2000/svg\" height=\"24px\"viewBox=\"0 0 24 24\"\n",
              "       width=\"24px\">\n",
              "    <path d=\"M0 0h24v24H0V0z\" fill=\"none\"/>\n",
              "    <path d=\"M18.56 5.44l.94 2.06.94-2.06 2.06-.94-2.06-.94-.94-2.06-.94 2.06-2.06.94zm-11 1L8.5 8.5l.94-2.06 2.06-.94-2.06-.94L8.5 2.5l-.94 2.06-2.06.94zm10 10l.94 2.06.94-2.06 2.06-.94-2.06-.94-.94-2.06-.94 2.06-2.06.94z\"/><path d=\"M17.41 7.96l-1.37-1.37c-.4-.4-.92-.59-1.43-.59-.52 0-1.04.2-1.43.59L10.3 9.45l-7.72 7.72c-.78.78-.78 2.05 0 2.83L4 21.41c.39.39.9.59 1.41.59.51 0 1.02-.2 1.41-.59l7.78-7.78 2.81-2.81c.8-.78.8-2.07 0-2.86zM5.41 20L4 18.59l7.72-7.72 1.47 1.35L5.41 20z\"/>\n",
              "  </svg>\n",
              "      </button>\n",
              "      \n",
              "  <style>\n",
              "    .colab-df-container {\n",
              "      display:flex;\n",
              "      flex-wrap:wrap;\n",
              "      gap: 12px;\n",
              "    }\n",
              "\n",
              "    .colab-df-convert {\n",
              "      background-color: #E8F0FE;\n",
              "      border: none;\n",
              "      border-radius: 50%;\n",
              "      cursor: pointer;\n",
              "      display: none;\n",
              "      fill: #1967D2;\n",
              "      height: 32px;\n",
              "      padding: 0 0 0 0;\n",
              "      width: 32px;\n",
              "    }\n",
              "\n",
              "    .colab-df-convert:hover {\n",
              "      background-color: #E2EBFA;\n",
              "      box-shadow: 0px 1px 2px rgba(60, 64, 67, 0.3), 0px 1px 3px 1px rgba(60, 64, 67, 0.15);\n",
              "      fill: #174EA6;\n",
              "    }\n",
              "\n",
              "    [theme=dark] .colab-df-convert {\n",
              "      background-color: #3B4455;\n",
              "      fill: #D2E3FC;\n",
              "    }\n",
              "\n",
              "    [theme=dark] .colab-df-convert:hover {\n",
              "      background-color: #434B5C;\n",
              "      box-shadow: 0px 1px 3px 1px rgba(0, 0, 0, 0.15);\n",
              "      filter: drop-shadow(0px 1px 2px rgba(0, 0, 0, 0.3));\n",
              "      fill: #FFFFFF;\n",
              "    }\n",
              "  </style>\n",
              "\n",
              "      <script>\n",
              "        const buttonEl =\n",
              "          document.querySelector('#df-6d79ae95-f9b1-4506-addc-a43dc35d4cb5 button.colab-df-convert');\n",
              "        buttonEl.style.display =\n",
              "          google.colab.kernel.accessAllowed ? 'block' : 'none';\n",
              "\n",
              "        async function convertToInteractive(key) {\n",
              "          const element = document.querySelector('#df-6d79ae95-f9b1-4506-addc-a43dc35d4cb5');\n",
              "          const dataTable =\n",
              "            await google.colab.kernel.invokeFunction('convertToInteractive',\n",
              "                                                     [key], {});\n",
              "          if (!dataTable) return;\n",
              "\n",
              "          const docLinkHtml = 'Like what you see? Visit the ' +\n",
              "            '<a target=\"_blank\" href=https://colab.research.google.com/notebooks/data_table.ipynb>data table notebook</a>'\n",
              "            + ' to learn more about interactive tables.';\n",
              "          element.innerHTML = '';\n",
              "          dataTable['output_type'] = 'display_data';\n",
              "          await google.colab.output.renderOutput(dataTable, element);\n",
              "          const docLink = document.createElement('div');\n",
              "          docLink.innerHTML = docLinkHtml;\n",
              "          element.appendChild(docLink);\n",
              "        }\n",
              "      </script>\n",
              "    </div>\n",
              "  </div>\n",
              "  "
            ]
          },
          "metadata": {},
          "execution_count": 99
        }
      ]
    },
    {
      "cell_type": "code",
      "metadata": {
        "id": "tFKEn1gLedmc"
      },
      "source": [
        "# código para responder a pergunta"
      ],
      "execution_count": null,
      "outputs": []
    },
    {
      "cell_type": "markdown",
      "metadata": {
        "id": "Wg_la1wOewoB"
      },
      "source": [
        " - Qual é o PIB do estado de Santa Catarina?"
      ]
    },
    {
      "cell_type": "code",
      "source": [
        "estado_sc =(brasil_df[\"estado\"] == \"SANTA CATARINA\")\n",
        "estado_sc"
      ],
      "metadata": {
        "id": "XpKJ-W3ydVak",
        "colab": {
          "base_uri": "https://localhost:8080/"
        },
        "outputId": "1e429f5a-7d23-4684-dad2-1366589e9ece"
      },
      "execution_count": null,
      "outputs": [
        {
          "output_type": "execute_result",
          "data": {
            "text/plain": [
              "0       False\n",
              "1       False\n",
              "2       False\n",
              "3       False\n",
              "4       False\n",
              "        ...  \n",
              "5550    False\n",
              "5551    False\n",
              "5552    False\n",
              "5553    False\n",
              "5554    False\n",
              "Name: estado, Length: 5555, dtype: bool"
            ]
          },
          "metadata": {},
          "execution_count": 100
        }
      ]
    },
    {
      "cell_type": "code",
      "source": [
        "pib_sc = brasil_df[estado_sc]['PIB'].agg('sum')\n",
        "print('O PIB do estado de Santa Catarina é R$',pib_sc)"
      ],
      "metadata": {
        "colab": {
          "base_uri": "https://localhost:8080/"
        },
        "id": "r_HrHDtrhHxE",
        "outputId": "adff34b9-5c04-4fdd-b1fe-6e0cc5f6ee44"
      },
      "execution_count": null,
      "outputs": [
        {
          "output_type": "stream",
          "name": "stdout",
          "text": [
            "O PIB do estado de Santa Catarina é R$ 129806256.75195317\n"
          ]
        }
      ]
    },
    {
      "cell_type": "markdown",
      "metadata": {
        "id": "Yaw2gDukfApr"
      },
      "source": [
        " - Qual é o população da região sul?"
      ]
    },
    {
      "cell_type": "code",
      "metadata": {
        "id": "enEkNjFQfAps"
      },
      "source": [
        "# código para responder a pergunta"
      ],
      "execution_count": null,
      "outputs": []
    },
    {
      "cell_type": "code",
      "source": [
        "regiao_sul =(brasil_df[\"regiao\"] == \"SUL\")\n",
        "regiao_sul"
      ],
      "metadata": {
        "id": "lpGBG1WjiKk-",
        "colab": {
          "base_uri": "https://localhost:8080/"
        },
        "outputId": "a25ed4fe-0a36-4b19-da45-4e298e9eeb88"
      },
      "execution_count": null,
      "outputs": [
        {
          "output_type": "execute_result",
          "data": {
            "text/plain": [
              "0       False\n",
              "1       False\n",
              "2       False\n",
              "3       False\n",
              "4       False\n",
              "        ...  \n",
              "5550    False\n",
              "5551    False\n",
              "5552    False\n",
              "5553    False\n",
              "5554    False\n",
              "Name: regiao, Length: 5555, dtype: bool"
            ]
          },
          "metadata": {},
          "execution_count": 102
        }
      ]
    },
    {
      "cell_type": "code",
      "source": [
        "pop_sul = brasil_df[regiao_sul]['populacao'].agg('sum')\n",
        "print('A população da região sul é:',pop_sul)"
      ],
      "metadata": {
        "colab": {
          "base_uri": "https://localhost:8080/"
        },
        "id": "D631f_HaibF5",
        "outputId": "8b1df291-9796-49ce-c2f3-cd349d42412f"
      },
      "execution_count": null,
      "outputs": [
        {
          "output_type": "stream",
          "name": "stdout",
          "text": [
            "A população da região sul é: 27719118\n"
          ]
        }
      ]
    },
    {
      "cell_type": "markdown",
      "metadata": {
        "id": "9qOaKRS9fFu8"
      },
      "source": [
        " - Qual é o PIB per capito médio das cidades do Mato Grosso do Sul?"
      ]
    },
    {
      "cell_type": "code",
      "source": [
        "estado_mts =(brasil_df[\"estado\"] == \"MATO GROSSO DO SUL\")\n",
        "estado_mts"
      ],
      "metadata": {
        "id": "wsoJ20zhmuxm",
        "colab": {
          "base_uri": "https://localhost:8080/"
        },
        "outputId": "7b5c4971-fd63-4bc5-c643-638766e11058"
      },
      "execution_count": null,
      "outputs": [
        {
          "output_type": "execute_result",
          "data": {
            "text/plain": [
              "0       False\n",
              "1       False\n",
              "2       False\n",
              "3       False\n",
              "4       False\n",
              "        ...  \n",
              "5550    False\n",
              "5551    False\n",
              "5552    False\n",
              "5553    False\n",
              "5554    False\n",
              "Name: estado, Length: 5555, dtype: bool"
            ]
          },
          "metadata": {},
          "execution_count": 104
        }
      ]
    },
    {
      "cell_type": "code",
      "source": [
        "pip_medio_mts = brasil_df[estado_mts][['PIB_percapita','estado']].groupby('estado').agg('mean')\n",
        "pip_medio_mts"
      ],
      "metadata": {
        "colab": {
          "base_uri": "https://localhost:8080/",
          "height": 112
        },
        "id": "DeHS2Hyomyzp",
        "outputId": "9d8e1bb7-9225-414d-e259-172911ee29ee"
      },
      "execution_count": null,
      "outputs": [
        {
          "output_type": "execute_result",
          "data": {
            "text/plain": [
              "                    PIB_percapita\n",
              "estado                           \n",
              "MATO GROSSO DO SUL    14458.89686"
            ],
            "text/html": [
              "\n",
              "  <div id=\"df-d7d273ca-0116-4438-975b-23b1f2362c23\">\n",
              "    <div class=\"colab-df-container\">\n",
              "      <div>\n",
              "<style scoped>\n",
              "    .dataframe tbody tr th:only-of-type {\n",
              "        vertical-align: middle;\n",
              "    }\n",
              "\n",
              "    .dataframe tbody tr th {\n",
              "        vertical-align: top;\n",
              "    }\n",
              "\n",
              "    .dataframe thead th {\n",
              "        text-align: right;\n",
              "    }\n",
              "</style>\n",
              "<table border=\"1\" class=\"dataframe\">\n",
              "  <thead>\n",
              "    <tr style=\"text-align: right;\">\n",
              "      <th></th>\n",
              "      <th>PIB_percapita</th>\n",
              "    </tr>\n",
              "    <tr>\n",
              "      <th>estado</th>\n",
              "      <th></th>\n",
              "    </tr>\n",
              "  </thead>\n",
              "  <tbody>\n",
              "    <tr>\n",
              "      <th>MATO GROSSO DO SUL</th>\n",
              "      <td>14458.89686</td>\n",
              "    </tr>\n",
              "  </tbody>\n",
              "</table>\n",
              "</div>\n",
              "      <button class=\"colab-df-convert\" onclick=\"convertToInteractive('df-d7d273ca-0116-4438-975b-23b1f2362c23')\"\n",
              "              title=\"Convert this dataframe to an interactive table.\"\n",
              "              style=\"display:none;\">\n",
              "        \n",
              "  <svg xmlns=\"http://www.w3.org/2000/svg\" height=\"24px\"viewBox=\"0 0 24 24\"\n",
              "       width=\"24px\">\n",
              "    <path d=\"M0 0h24v24H0V0z\" fill=\"none\"/>\n",
              "    <path d=\"M18.56 5.44l.94 2.06.94-2.06 2.06-.94-2.06-.94-.94-2.06-.94 2.06-2.06.94zm-11 1L8.5 8.5l.94-2.06 2.06-.94-2.06-.94L8.5 2.5l-.94 2.06-2.06.94zm10 10l.94 2.06.94-2.06 2.06-.94-2.06-.94-.94-2.06-.94 2.06-2.06.94z\"/><path d=\"M17.41 7.96l-1.37-1.37c-.4-.4-.92-.59-1.43-.59-.52 0-1.04.2-1.43.59L10.3 9.45l-7.72 7.72c-.78.78-.78 2.05 0 2.83L4 21.41c.39.39.9.59 1.41.59.51 0 1.02-.2 1.41-.59l7.78-7.78 2.81-2.81c.8-.78.8-2.07 0-2.86zM5.41 20L4 18.59l7.72-7.72 1.47 1.35L5.41 20z\"/>\n",
              "  </svg>\n",
              "      </button>\n",
              "      \n",
              "  <style>\n",
              "    .colab-df-container {\n",
              "      display:flex;\n",
              "      flex-wrap:wrap;\n",
              "      gap: 12px;\n",
              "    }\n",
              "\n",
              "    .colab-df-convert {\n",
              "      background-color: #E8F0FE;\n",
              "      border: none;\n",
              "      border-radius: 50%;\n",
              "      cursor: pointer;\n",
              "      display: none;\n",
              "      fill: #1967D2;\n",
              "      height: 32px;\n",
              "      padding: 0 0 0 0;\n",
              "      width: 32px;\n",
              "    }\n",
              "\n",
              "    .colab-df-convert:hover {\n",
              "      background-color: #E2EBFA;\n",
              "      box-shadow: 0px 1px 2px rgba(60, 64, 67, 0.3), 0px 1px 3px 1px rgba(60, 64, 67, 0.15);\n",
              "      fill: #174EA6;\n",
              "    }\n",
              "\n",
              "    [theme=dark] .colab-df-convert {\n",
              "      background-color: #3B4455;\n",
              "      fill: #D2E3FC;\n",
              "    }\n",
              "\n",
              "    [theme=dark] .colab-df-convert:hover {\n",
              "      background-color: #434B5C;\n",
              "      box-shadow: 0px 1px 3px 1px rgba(0, 0, 0, 0.15);\n",
              "      filter: drop-shadow(0px 1px 2px rgba(0, 0, 0, 0.3));\n",
              "      fill: #FFFFFF;\n",
              "    }\n",
              "  </style>\n",
              "\n",
              "      <script>\n",
              "        const buttonEl =\n",
              "          document.querySelector('#df-d7d273ca-0116-4438-975b-23b1f2362c23 button.colab-df-convert');\n",
              "        buttonEl.style.display =\n",
              "          google.colab.kernel.accessAllowed ? 'block' : 'none';\n",
              "\n",
              "        async function convertToInteractive(key) {\n",
              "          const element = document.querySelector('#df-d7d273ca-0116-4438-975b-23b1f2362c23');\n",
              "          const dataTable =\n",
              "            await google.colab.kernel.invokeFunction('convertToInteractive',\n",
              "                                                     [key], {});\n",
              "          if (!dataTable) return;\n",
              "\n",
              "          const docLinkHtml = 'Like what you see? Visit the ' +\n",
              "            '<a target=\"_blank\" href=https://colab.research.google.com/notebooks/data_table.ipynb>data table notebook</a>'\n",
              "            + ' to learn more about interactive tables.';\n",
              "          element.innerHTML = '';\n",
              "          dataTable['output_type'] = 'display_data';\n",
              "          await google.colab.output.renderOutput(dataTable, element);\n",
              "          const docLink = document.createElement('div');\n",
              "          docLink.innerHTML = docLinkHtml;\n",
              "          element.appendChild(docLink);\n",
              "        }\n",
              "      </script>\n",
              "    </div>\n",
              "  </div>\n",
              "  "
            ]
          },
          "metadata": {},
          "execution_count": 117
        }
      ]
    },
    {
      "cell_type": "code",
      "metadata": {
        "id": "gX8DVSfFfFu9"
      },
      "source": [
        "# código para responder a pergunta"
      ],
      "execution_count": null,
      "outputs": []
    },
    {
      "cell_type": "markdown",
      "metadata": {
        "id": "lvf-VqaffS2D"
      },
      "source": [
        " - Qual é a população do Brasil?"
      ]
    },
    {
      "cell_type": "code",
      "source": [
        "populacao_brasil = brasil_df['populacao'].agg('sum')\n",
        "\n",
        "print('A população do Brasil é:',populacao_brasil)"
      ],
      "metadata": {
        "colab": {
          "base_uri": "https://localhost:8080/"
        },
        "id": "LOVblE-WVkva",
        "outputId": "571f0ed3-8600-4486-be03-c808f1fbaa61"
      },
      "execution_count": null,
      "outputs": [
        {
          "output_type": "stream",
          "name": "stdout",
          "text": [
            "A população do Brasil é: 191176146\n"
          ]
        }
      ]
    },
    {
      "cell_type": "markdown",
      "metadata": {
        "id": "hnTSARXpipkP"
      },
      "source": [
        "### **2.3. Visualização** "
      ]
    },
    {
      "cell_type": "markdown",
      "metadata": {
        "id": "7coMkY8xixFO"
      },
      "source": [
        "Utilize o dataframe `brasil_df` para gerar as seguintes visualizações."
      ]
    },
    {
      "cell_type": "markdown",
      "metadata": {
        "id": "SgvPvh4Vjctx"
      },
      "source": [
        " - Gere um gráfico de barras com as 10 cidades menos populosas do Brasil."
      ]
    },
    {
      "cell_type": "code",
      "source": [
        "cidade_menos_pop = brasil_df.sort_values(by=['populacao'], ascending=True).head(10)\n",
        "cidade_menos_pop"
      ],
      "metadata": {
        "id": "WMnGOVt0yMWy",
        "colab": {
          "base_uri": "https://localhost:8080/",
          "height": 363
        },
        "outputId": "d00f3979-fc3c-4ccd-b54a-f72f742bb1fc"
      },
      "execution_count": null,
      "outputs": [
        {
          "output_type": "execute_result",
          "data": {
            "text/plain": [
              "            estado sigla        regiao              cidade  populacao  \\\n",
              "4356     SAO PAULO    SP       SUDESTE                Borá        837   \n",
              "5197  MINAS GERAIS    MG       SUDESTE    Serra da Saudade        890   \n",
              "1097         GOIAS    GO  CENTRO-OESTE          Anhanguera       1018   \n",
              "1436   MATO GROSSO    MT  CENTRO-OESTE          Araguainha       1115   \n",
              "4379     SAO PAULO    SP       SUDESTE       Nova Castilho       1122   \n",
              "4564     TOCANTINS    TO         NORTE  Oliveira de Fátima       1129   \n",
              "2603         PIAUI    PI      NORDESTE         Miguel Leão       1212   \n",
              "4707  MINAS GERAIS    MG       SUDESTE     Cedro do Abaeté       1221   \n",
              "1877       PARAIBA    PB      NORDESTE              Parari       1266   \n",
              "4598     TOCANTINS    TO         NORTE    Chapada de Areia       1273   \n",
              "\n",
              "               PIB  PIB_percapita  \n",
              "4356  50332.714844   60134.660156  \n",
              "5197  10433.846680   11723.419922  \n",
              "1097   8194.404297    8049.509766  \n",
              "1436  11522.663086   10334.230469  \n",
              "4379  26578.259766   23688.289062  \n",
              "4564  11591.949219   10267.450195  \n",
              "2603   8365.680664    6902.379883  \n",
              "4707  10221.856445    8371.709961  \n",
              "1877   9518.777344    7518.779785  \n",
              "4598  11322.538086    8894.370117  "
            ],
            "text/html": [
              "\n",
              "  <div id=\"df-8e7d625f-c760-44ef-88a0-142db3049e2e\">\n",
              "    <div class=\"colab-df-container\">\n",
              "      <div>\n",
              "<style scoped>\n",
              "    .dataframe tbody tr th:only-of-type {\n",
              "        vertical-align: middle;\n",
              "    }\n",
              "\n",
              "    .dataframe tbody tr th {\n",
              "        vertical-align: top;\n",
              "    }\n",
              "\n",
              "    .dataframe thead th {\n",
              "        text-align: right;\n",
              "    }\n",
              "</style>\n",
              "<table border=\"1\" class=\"dataframe\">\n",
              "  <thead>\n",
              "    <tr style=\"text-align: right;\">\n",
              "      <th></th>\n",
              "      <th>estado</th>\n",
              "      <th>sigla</th>\n",
              "      <th>regiao</th>\n",
              "      <th>cidade</th>\n",
              "      <th>populacao</th>\n",
              "      <th>PIB</th>\n",
              "      <th>PIB_percapita</th>\n",
              "    </tr>\n",
              "  </thead>\n",
              "  <tbody>\n",
              "    <tr>\n",
              "      <th>4356</th>\n",
              "      <td>SAO PAULO</td>\n",
              "      <td>SP</td>\n",
              "      <td>SUDESTE</td>\n",
              "      <td>Borá</td>\n",
              "      <td>837</td>\n",
              "      <td>50332.714844</td>\n",
              "      <td>60134.660156</td>\n",
              "    </tr>\n",
              "    <tr>\n",
              "      <th>5197</th>\n",
              "      <td>MINAS GERAIS</td>\n",
              "      <td>MG</td>\n",
              "      <td>SUDESTE</td>\n",
              "      <td>Serra da Saudade</td>\n",
              "      <td>890</td>\n",
              "      <td>10433.846680</td>\n",
              "      <td>11723.419922</td>\n",
              "    </tr>\n",
              "    <tr>\n",
              "      <th>1097</th>\n",
              "      <td>GOIAS</td>\n",
              "      <td>GO</td>\n",
              "      <td>CENTRO-OESTE</td>\n",
              "      <td>Anhanguera</td>\n",
              "      <td>1018</td>\n",
              "      <td>8194.404297</td>\n",
              "      <td>8049.509766</td>\n",
              "    </tr>\n",
              "    <tr>\n",
              "      <th>1436</th>\n",
              "      <td>MATO GROSSO</td>\n",
              "      <td>MT</td>\n",
              "      <td>CENTRO-OESTE</td>\n",
              "      <td>Araguainha</td>\n",
              "      <td>1115</td>\n",
              "      <td>11522.663086</td>\n",
              "      <td>10334.230469</td>\n",
              "    </tr>\n",
              "    <tr>\n",
              "      <th>4379</th>\n",
              "      <td>SAO PAULO</td>\n",
              "      <td>SP</td>\n",
              "      <td>SUDESTE</td>\n",
              "      <td>Nova Castilho</td>\n",
              "      <td>1122</td>\n",
              "      <td>26578.259766</td>\n",
              "      <td>23688.289062</td>\n",
              "    </tr>\n",
              "    <tr>\n",
              "      <th>4564</th>\n",
              "      <td>TOCANTINS</td>\n",
              "      <td>TO</td>\n",
              "      <td>NORTE</td>\n",
              "      <td>Oliveira de Fátima</td>\n",
              "      <td>1129</td>\n",
              "      <td>11591.949219</td>\n",
              "      <td>10267.450195</td>\n",
              "    </tr>\n",
              "    <tr>\n",
              "      <th>2603</th>\n",
              "      <td>PIAUI</td>\n",
              "      <td>PI</td>\n",
              "      <td>NORDESTE</td>\n",
              "      <td>Miguel Leão</td>\n",
              "      <td>1212</td>\n",
              "      <td>8365.680664</td>\n",
              "      <td>6902.379883</td>\n",
              "    </tr>\n",
              "    <tr>\n",
              "      <th>4707</th>\n",
              "      <td>MINAS GERAIS</td>\n",
              "      <td>MG</td>\n",
              "      <td>SUDESTE</td>\n",
              "      <td>Cedro do Abaeté</td>\n",
              "      <td>1221</td>\n",
              "      <td>10221.856445</td>\n",
              "      <td>8371.709961</td>\n",
              "    </tr>\n",
              "    <tr>\n",
              "      <th>1877</th>\n",
              "      <td>PARAIBA</td>\n",
              "      <td>PB</td>\n",
              "      <td>NORDESTE</td>\n",
              "      <td>Parari</td>\n",
              "      <td>1266</td>\n",
              "      <td>9518.777344</td>\n",
              "      <td>7518.779785</td>\n",
              "    </tr>\n",
              "    <tr>\n",
              "      <th>4598</th>\n",
              "      <td>TOCANTINS</td>\n",
              "      <td>TO</td>\n",
              "      <td>NORTE</td>\n",
              "      <td>Chapada de Areia</td>\n",
              "      <td>1273</td>\n",
              "      <td>11322.538086</td>\n",
              "      <td>8894.370117</td>\n",
              "    </tr>\n",
              "  </tbody>\n",
              "</table>\n",
              "</div>\n",
              "      <button class=\"colab-df-convert\" onclick=\"convertToInteractive('df-8e7d625f-c760-44ef-88a0-142db3049e2e')\"\n",
              "              title=\"Convert this dataframe to an interactive table.\"\n",
              "              style=\"display:none;\">\n",
              "        \n",
              "  <svg xmlns=\"http://www.w3.org/2000/svg\" height=\"24px\"viewBox=\"0 0 24 24\"\n",
              "       width=\"24px\">\n",
              "    <path d=\"M0 0h24v24H0V0z\" fill=\"none\"/>\n",
              "    <path d=\"M18.56 5.44l.94 2.06.94-2.06 2.06-.94-2.06-.94-.94-2.06-.94 2.06-2.06.94zm-11 1L8.5 8.5l.94-2.06 2.06-.94-2.06-.94L8.5 2.5l-.94 2.06-2.06.94zm10 10l.94 2.06.94-2.06 2.06-.94-2.06-.94-.94-2.06-.94 2.06-2.06.94z\"/><path d=\"M17.41 7.96l-1.37-1.37c-.4-.4-.92-.59-1.43-.59-.52 0-1.04.2-1.43.59L10.3 9.45l-7.72 7.72c-.78.78-.78 2.05 0 2.83L4 21.41c.39.39.9.59 1.41.59.51 0 1.02-.2 1.41-.59l7.78-7.78 2.81-2.81c.8-.78.8-2.07 0-2.86zM5.41 20L4 18.59l7.72-7.72 1.47 1.35L5.41 20z\"/>\n",
              "  </svg>\n",
              "      </button>\n",
              "      \n",
              "  <style>\n",
              "    .colab-df-container {\n",
              "      display:flex;\n",
              "      flex-wrap:wrap;\n",
              "      gap: 12px;\n",
              "    }\n",
              "\n",
              "    .colab-df-convert {\n",
              "      background-color: #E8F0FE;\n",
              "      border: none;\n",
              "      border-radius: 50%;\n",
              "      cursor: pointer;\n",
              "      display: none;\n",
              "      fill: #1967D2;\n",
              "      height: 32px;\n",
              "      padding: 0 0 0 0;\n",
              "      width: 32px;\n",
              "    }\n",
              "\n",
              "    .colab-df-convert:hover {\n",
              "      background-color: #E2EBFA;\n",
              "      box-shadow: 0px 1px 2px rgba(60, 64, 67, 0.3), 0px 1px 3px 1px rgba(60, 64, 67, 0.15);\n",
              "      fill: #174EA6;\n",
              "    }\n",
              "\n",
              "    [theme=dark] .colab-df-convert {\n",
              "      background-color: #3B4455;\n",
              "      fill: #D2E3FC;\n",
              "    }\n",
              "\n",
              "    [theme=dark] .colab-df-convert:hover {\n",
              "      background-color: #434B5C;\n",
              "      box-shadow: 0px 1px 3px 1px rgba(0, 0, 0, 0.15);\n",
              "      filter: drop-shadow(0px 1px 2px rgba(0, 0, 0, 0.3));\n",
              "      fill: #FFFFFF;\n",
              "    }\n",
              "  </style>\n",
              "\n",
              "      <script>\n",
              "        const buttonEl =\n",
              "          document.querySelector('#df-8e7d625f-c760-44ef-88a0-142db3049e2e button.colab-df-convert');\n",
              "        buttonEl.style.display =\n",
              "          google.colab.kernel.accessAllowed ? 'block' : 'none';\n",
              "\n",
              "        async function convertToInteractive(key) {\n",
              "          const element = document.querySelector('#df-8e7d625f-c760-44ef-88a0-142db3049e2e');\n",
              "          const dataTable =\n",
              "            await google.colab.kernel.invokeFunction('convertToInteractive',\n",
              "                                                     [key], {});\n",
              "          if (!dataTable) return;\n",
              "\n",
              "          const docLinkHtml = 'Like what you see? Visit the ' +\n",
              "            '<a target=\"_blank\" href=https://colab.research.google.com/notebooks/data_table.ipynb>data table notebook</a>'\n",
              "            + ' to learn more about interactive tables.';\n",
              "          element.innerHTML = '';\n",
              "          dataTable['output_type'] = 'display_data';\n",
              "          await google.colab.output.renderOutput(dataTable, element);\n",
              "          const docLink = document.createElement('div');\n",
              "          docLink.innerHTML = docLinkHtml;\n",
              "          element.appendChild(docLink);\n",
              "        }\n",
              "      </script>\n",
              "    </div>\n",
              "  </div>\n",
              "  "
            ]
          },
          "metadata": {},
          "execution_count": 108
        }
      ]
    },
    {
      "cell_type": "code",
      "source": [
        "grafico = cidade_menos_pop.plot.bar(x='cidade', y='populacao', rot=0, figsize=(20, 6))"
      ],
      "metadata": {
        "colab": {
          "base_uri": "https://localhost:8080/",
          "height": 372
        },
        "id": "P9eR7tkPx6PG",
        "outputId": "cace4956-fb3a-46d2-b2f2-b5e3fe447241"
      },
      "execution_count": null,
      "outputs": [
        {
          "output_type": "display_data",
          "data": {
            "text/plain": [
              "<Figure size 1440x432 with 1 Axes>"
            ],
            "image/png": "[encoded data removed]"
          },
          "metadata": {
            "needs_background": "light"
          }
        }
      ]
    },
    {
      "cell_type": "code",
      "metadata": {
        "id": "V8eM0uEUjcty"
      },
      "source": [
        "# código para gerar a visualização"
      ],
      "execution_count": null,
      "outputs": []
    },
    {
      "cell_type": "markdown",
      "metadata": {
        "id": "gsa3SrTjjrGV"
      },
      "source": [
        " - Gere um gráfico de pizza com a proporção da população do Brasil por região."
      ]
    },
    {
      "cell_type": "code",
      "metadata": {
        "id": "1dvqIAEHjrGV"
      },
      "source": [
        "# código para gerar a visualização"
      ],
      "execution_count": null,
      "outputs": []
    },
    {
      "cell_type": "code",
      "source": [
        "pop_regiao = brasil_df[['populacao','regiao']].groupby('regiao').agg('sum')\n",
        "pop_regiao"
      ],
      "metadata": {
        "colab": {
          "base_uri": "https://localhost:8080/",
          "height": 237
        },
        "id": "Q3-K4WL58LkU",
        "outputId": "11e29dc8-8bbd-4c32-8fdb-b16cb8296076"
      },
      "execution_count": null,
      "outputs": [
        {
          "output_type": "execute_result",
          "data": {
            "text/plain": [
              "              populacao\n",
              "regiao                 \n",
              "CENTRO-OESTE   13773930\n",
              "NORDESTE       53491940\n",
              "NORTE          15359608\n",
              "SUDESTE        80831550\n",
              "SUL            27719118"
            ],
            "text/html": [
              "\n",
              "  <div id=\"df-cb8dd2a0-abd1-4eee-a66d-f301f6bdc902\">\n",
              "    <div class=\"colab-df-container\">\n",
              "      <div>\n",
              "<style scoped>\n",
              "    .dataframe tbody tr th:only-of-type {\n",
              "        vertical-align: middle;\n",
              "    }\n",
              "\n",
              "    .dataframe tbody tr th {\n",
              "        vertical-align: top;\n",
              "    }\n",
              "\n",
              "    .dataframe thead th {\n",
              "        text-align: right;\n",
              "    }\n",
              "</style>\n",
              "<table border=\"1\" class=\"dataframe\">\n",
              "  <thead>\n",
              "    <tr style=\"text-align: right;\">\n",
              "      <th></th>\n",
              "      <th>populacao</th>\n",
              "    </tr>\n",
              "    <tr>\n",
              "      <th>regiao</th>\n",
              "      <th></th>\n",
              "    </tr>\n",
              "  </thead>\n",
              "  <tbody>\n",
              "    <tr>\n",
              "      <th>CENTRO-OESTE</th>\n",
              "      <td>13773930</td>\n",
              "    </tr>\n",
              "    <tr>\n",
              "      <th>NORDESTE</th>\n",
              "      <td>53491940</td>\n",
              "    </tr>\n",
              "    <tr>\n",
              "      <th>NORTE</th>\n",
              "      <td>15359608</td>\n",
              "    </tr>\n",
              "    <tr>\n",
              "      <th>SUDESTE</th>\n",
              "      <td>80831550</td>\n",
              "    </tr>\n",
              "    <tr>\n",
              "      <th>SUL</th>\n",
              "      <td>27719118</td>\n",
              "    </tr>\n",
              "  </tbody>\n",
              "</table>\n",
              "</div>\n",
              "      <button class=\"colab-df-convert\" onclick=\"convertToInteractive('df-cb8dd2a0-abd1-4eee-a66d-f301f6bdc902')\"\n",
              "              title=\"Convert this dataframe to an interactive table.\"\n",
              "              style=\"display:none;\">\n",
              "        \n",
              "  <svg xmlns=\"http://www.w3.org/2000/svg\" height=\"24px\"viewBox=\"0 0 24 24\"\n",
              "       width=\"24px\">\n",
              "    <path d=\"M0 0h24v24H0V0z\" fill=\"none\"/>\n",
              "    <path d=\"M18.56 5.44l.94 2.06.94-2.06 2.06-.94-2.06-.94-.94-2.06-.94 2.06-2.06.94zm-11 1L8.5 8.5l.94-2.06 2.06-.94-2.06-.94L8.5 2.5l-.94 2.06-2.06.94zm10 10l.94 2.06.94-2.06 2.06-.94-2.06-.94-.94-2.06-.94 2.06-2.06.94z\"/><path d=\"M17.41 7.96l-1.37-1.37c-.4-.4-.92-.59-1.43-.59-.52 0-1.04.2-1.43.59L10.3 9.45l-7.72 7.72c-.78.78-.78 2.05 0 2.83L4 21.41c.39.39.9.59 1.41.59.51 0 1.02-.2 1.41-.59l7.78-7.78 2.81-2.81c.8-.78.8-2.07 0-2.86zM5.41 20L4 18.59l7.72-7.72 1.47 1.35L5.41 20z\"/>\n",
              "  </svg>\n",
              "      </button>\n",
              "      \n",
              "  <style>\n",
              "    .colab-df-container {\n",
              "      display:flex;\n",
              "      flex-wrap:wrap;\n",
              "      gap: 12px;\n",
              "    }\n",
              "\n",
              "    .colab-df-convert {\n",
              "      background-color: #E8F0FE;\n",
              "      border: none;\n",
              "      border-radius: 50%;\n",
              "      cursor: pointer;\n",
              "      display: none;\n",
              "      fill: #1967D2;\n",
              "      height: 32px;\n",
              "      padding: 0 0 0 0;\n",
              "      width: 32px;\n",
              "    }\n",
              "\n",
              "    .colab-df-convert:hover {\n",
              "      background-color: #E2EBFA;\n",
              "      box-shadow: 0px 1px 2px rgba(60, 64, 67, 0.3), 0px 1px 3px 1px rgba(60, 64, 67, 0.15);\n",
              "      fill: #174EA6;\n",
              "    }\n",
              "\n",
              "    [theme=dark] .colab-df-convert {\n",
              "      background-color: #3B4455;\n",
              "      fill: #D2E3FC;\n",
              "    }\n",
              "\n",
              "    [theme=dark] .colab-df-convert:hover {\n",
              "      background-color: #434B5C;\n",
              "      box-shadow: 0px 1px 3px 1px rgba(0, 0, 0, 0.15);\n",
              "      filter: drop-shadow(0px 1px 2px rgba(0, 0, 0, 0.3));\n",
              "      fill: #FFFFFF;\n",
              "    }\n",
              "  </style>\n",
              "\n",
              "      <script>\n",
              "        const buttonEl =\n",
              "          document.querySelector('#df-cb8dd2a0-abd1-4eee-a66d-f301f6bdc902 button.colab-df-convert');\n",
              "        buttonEl.style.display =\n",
              "          google.colab.kernel.accessAllowed ? 'block' : 'none';\n",
              "\n",
              "        async function convertToInteractive(key) {\n",
              "          const element = document.querySelector('#df-cb8dd2a0-abd1-4eee-a66d-f301f6bdc902');\n",
              "          const dataTable =\n",
              "            await google.colab.kernel.invokeFunction('convertToInteractive',\n",
              "                                                     [key], {});\n",
              "          if (!dataTable) return;\n",
              "\n",
              "          const docLinkHtml = 'Like what you see? Visit the ' +\n",
              "            '<a target=\"_blank\" href=https://colab.research.google.com/notebooks/data_table.ipynb>data table notebook</a>'\n",
              "            + ' to learn more about interactive tables.';\n",
              "          element.innerHTML = '';\n",
              "          dataTable['output_type'] = 'display_data';\n",
              "          await google.colab.output.renderOutput(dataTable, element);\n",
              "          const docLink = document.createElement('div');\n",
              "          docLink.innerHTML = docLinkHtml;\n",
              "          element.appendChild(docLink);\n",
              "        }\n",
              "      </script>\n",
              "    </div>\n",
              "  </div>\n",
              "  "
            ]
          },
          "metadata": {},
          "execution_count": 110
        }
      ]
    },
    {
      "cell_type": "code",
      "source": [
        "grafico = pop_regiao.plot.pie(y='populacao', figsize=(15, 10))\n",
        "grafico.set_title(\"População por Região\") "
      ],
      "metadata": {
        "colab": {
          "base_uri": "https://localhost:8080/",
          "height": 608
        },
        "id": "pu0lFled-Mf2",
        "outputId": "ac33e339-c870-4229-fb0a-6e816d9d6f66"
      },
      "execution_count": null,
      "outputs": [
        {
          "output_type": "execute_result",
          "data": {
            "text/plain": [
              "Text(0.5, 1.0, 'População por Região')"
            ]
          },
          "metadata": {},
          "execution_count": 111
        },
        {
          "output_type": "display_data",
          "data": {
            "text/plain": [
              "<Figure size 1080x720 with 1 Axes>"
            ],
            "image/png": "[encoded data removed]"
          },
          "metadata": {}
        }
      ]
    },
    {
      "cell_type": "code",
      "source": [
        "dir(dict)"
      ],
      "metadata": {
        "id": "pOFYIoA7lvKY"
      },
      "execution_count": null,
      "outputs": []
    }
  ]
}